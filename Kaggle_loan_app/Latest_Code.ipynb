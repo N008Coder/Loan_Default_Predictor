{
  "cells": [
    {
      "cell_type": "code",
      "execution_count": 114,
      "id": "80b46324-3fe4-4f12-9530-2155ad8389d6",
      "metadata": {
        "id": "80b46324-3fe4-4f12-9530-2155ad8389d6"
      },
      "outputs": [],
      "source": [
        "import pandas as pd\n",
        "import tensorflow as tf\n",
        "from tensorflow.keras.layers import Dense\n",
        "from tensorflow.keras.models import Sequential\n",
        "from pathlib import Path\n",
        "from sklearn.model_selection import train_test_split\n",
        "from sklearn.preprocessing import StandardScaler\n",
        "from sklearn.preprocessing import OneHotEncoder\n",
        "import numpy as np\n",
        "from imblearn.over_sampling import RandomOverSampler\n",
        "\n",
        "\n",
        "\n",
        "import seaborn as sns\n",
        "\n",
        "import scipy\n",
        "from scipy.stats import chi2\n",
        "from scipy.stats import chi2_contingency\n",
        "from scipy.stats import pearsonr, spearmanr\n",
        "from sklearn.preprocessing import StandardScaler\n",
        "from sklearn.preprocessing import MinMaxScaler\n",
        "from sklearn.model_selection import train_test_split\n",
        "from sklearn.model_selection import GridSearchCV\n",
        "from sklearn.ensemble import RandomForestClassifier\n",
        "from sklearn.linear_model import LogisticRegression\n",
        "from sklearn.neighbors import KNeighborsClassifier\n",
        "from sklearn.svm import SVC\n",
        "from sklearn import tree\n",
        "from sklearn.tree import export_graphviz\n",
        "\n",
        "from sklearn.linear_model import Perceptron\n",
        "from sklearn.neural_network import MLPClassifier\n",
        "from sklearn.metrics import  precision_recall_curve, roc_auc_score, confusion_matrix, accuracy_score, recall_score, precision_score, f1_score,auc, roc_curve, plot_confusion_matrix\n",
        "\n",
        "from IPython.display import Image\n",
        "import pydotplus\n",
        "import matplotlib.pyplot as plt\n",
        "%matplotlib inline\n",
        "color = sns.color_palette()\n",
        "seed = 42"
      ]
    },
    {
      "cell_type": "code",
      "source": [
        "url = 'https://raw.githubusercontent.com/N008Coder/Loan_Default_Predictor/main/Kaggle_loan_app/Loan_Default.csv'\n",
        "df = pd.read_csv(url)\n",
        "# Dataset is now stored in a Pandas Dataframe\n",
        "df.head()"
      ],
      "metadata": {
        "colab": {
          "base_uri": "https://localhost:8080/",
          "height": 399
        },
        "id": "FrCJkynLsCuI",
        "outputId": "75310a3c-1a61-4307-ef07-834766f8f5ea"
      },
      "id": "FrCJkynLsCuI",
      "execution_count": 95,
      "outputs": [
        {
          "output_type": "execute_result",
          "data": {
            "text/plain": [
              "      ID  year loan_limit             Gender approv_in_adv loan_type  \\\n",
              "0  24890  2019         cf  Sex Not Available         nopre     type1   \n",
              "1  24891  2019         cf               Male         nopre     type2   \n",
              "2  24892  2019         cf               Male           pre     type1   \n",
              "3  24893  2019         cf               Male         nopre     type1   \n",
              "4  24894  2019         cf              Joint           pre     type1   \n",
              "\n",
              "  loan_purpose Credit_Worthiness open_credit business_or_commercial  ...  \\\n",
              "0           p1                l1        nopc                  nob/c  ...   \n",
              "1           p1                l1        nopc                    b/c  ...   \n",
              "2           p1                l1        nopc                  nob/c  ...   \n",
              "3           p4                l1        nopc                  nob/c  ...   \n",
              "4           p1                l1        nopc                  nob/c  ...   \n",
              "\n",
              "   credit_type  Credit_Score  co-applicant_credit_type    age  \\\n",
              "0          EXP           758                       CIB  25-34   \n",
              "1         EQUI           552                       EXP  55-64   \n",
              "2          EXP           834                       CIB  35-44   \n",
              "3          EXP           587                       CIB  45-54   \n",
              "4         CRIF           602                       EXP  25-34   \n",
              "\n",
              "   submission_of_application        LTV Region Security_Type  Status dtir1  \n",
              "0                    to_inst  98.728814  south        direct       1  45.0  \n",
              "1                    to_inst        NaN  North        direct       1   NaN  \n",
              "2                    to_inst  80.019685  south        direct       0  46.0  \n",
              "3                   not_inst  69.376900  North        direct       0  42.0  \n",
              "4                   not_inst  91.886544  North        direct       0  39.0  \n",
              "\n",
              "[5 rows x 34 columns]"
            ],
            "text/html": [
              "\n",
              "  <div id=\"df-7507e503-19a9-4d78-8ec1-fbe2d1965804\">\n",
              "    <div class=\"colab-df-container\">\n",
              "      <div>\n",
              "<style scoped>\n",
              "    .dataframe tbody tr th:only-of-type {\n",
              "        vertical-align: middle;\n",
              "    }\n",
              "\n",
              "    .dataframe tbody tr th {\n",
              "        vertical-align: top;\n",
              "    }\n",
              "\n",
              "    .dataframe thead th {\n",
              "        text-align: right;\n",
              "    }\n",
              "</style>\n",
              "<table border=\"1\" class=\"dataframe\">\n",
              "  <thead>\n",
              "    <tr style=\"text-align: right;\">\n",
              "      <th></th>\n",
              "      <th>ID</th>\n",
              "      <th>year</th>\n",
              "      <th>loan_limit</th>\n",
              "      <th>Gender</th>\n",
              "      <th>approv_in_adv</th>\n",
              "      <th>loan_type</th>\n",
              "      <th>loan_purpose</th>\n",
              "      <th>Credit_Worthiness</th>\n",
              "      <th>open_credit</th>\n",
              "      <th>business_or_commercial</th>\n",
              "      <th>...</th>\n",
              "      <th>credit_type</th>\n",
              "      <th>Credit_Score</th>\n",
              "      <th>co-applicant_credit_type</th>\n",
              "      <th>age</th>\n",
              "      <th>submission_of_application</th>\n",
              "      <th>LTV</th>\n",
              "      <th>Region</th>\n",
              "      <th>Security_Type</th>\n",
              "      <th>Status</th>\n",
              "      <th>dtir1</th>\n",
              "    </tr>\n",
              "  </thead>\n",
              "  <tbody>\n",
              "    <tr>\n",
              "      <th>0</th>\n",
              "      <td>24890</td>\n",
              "      <td>2019</td>\n",
              "      <td>cf</td>\n",
              "      <td>Sex Not Available</td>\n",
              "      <td>nopre</td>\n",
              "      <td>type1</td>\n",
              "      <td>p1</td>\n",
              "      <td>l1</td>\n",
              "      <td>nopc</td>\n",
              "      <td>nob/c</td>\n",
              "      <td>...</td>\n",
              "      <td>EXP</td>\n",
              "      <td>758</td>\n",
              "      <td>CIB</td>\n",
              "      <td>25-34</td>\n",
              "      <td>to_inst</td>\n",
              "      <td>98.728814</td>\n",
              "      <td>south</td>\n",
              "      <td>direct</td>\n",
              "      <td>1</td>\n",
              "      <td>45.0</td>\n",
              "    </tr>\n",
              "    <tr>\n",
              "      <th>1</th>\n",
              "      <td>24891</td>\n",
              "      <td>2019</td>\n",
              "      <td>cf</td>\n",
              "      <td>Male</td>\n",
              "      <td>nopre</td>\n",
              "      <td>type2</td>\n",
              "      <td>p1</td>\n",
              "      <td>l1</td>\n",
              "      <td>nopc</td>\n",
              "      <td>b/c</td>\n",
              "      <td>...</td>\n",
              "      <td>EQUI</td>\n",
              "      <td>552</td>\n",
              "      <td>EXP</td>\n",
              "      <td>55-64</td>\n",
              "      <td>to_inst</td>\n",
              "      <td>NaN</td>\n",
              "      <td>North</td>\n",
              "      <td>direct</td>\n",
              "      <td>1</td>\n",
              "      <td>NaN</td>\n",
              "    </tr>\n",
              "    <tr>\n",
              "      <th>2</th>\n",
              "      <td>24892</td>\n",
              "      <td>2019</td>\n",
              "      <td>cf</td>\n",
              "      <td>Male</td>\n",
              "      <td>pre</td>\n",
              "      <td>type1</td>\n",
              "      <td>p1</td>\n",
              "      <td>l1</td>\n",
              "      <td>nopc</td>\n",
              "      <td>nob/c</td>\n",
              "      <td>...</td>\n",
              "      <td>EXP</td>\n",
              "      <td>834</td>\n",
              "      <td>CIB</td>\n",
              "      <td>35-44</td>\n",
              "      <td>to_inst</td>\n",
              "      <td>80.019685</td>\n",
              "      <td>south</td>\n",
              "      <td>direct</td>\n",
              "      <td>0</td>\n",
              "      <td>46.0</td>\n",
              "    </tr>\n",
              "    <tr>\n",
              "      <th>3</th>\n",
              "      <td>24893</td>\n",
              "      <td>2019</td>\n",
              "      <td>cf</td>\n",
              "      <td>Male</td>\n",
              "      <td>nopre</td>\n",
              "      <td>type1</td>\n",
              "      <td>p4</td>\n",
              "      <td>l1</td>\n",
              "      <td>nopc</td>\n",
              "      <td>nob/c</td>\n",
              "      <td>...</td>\n",
              "      <td>EXP</td>\n",
              "      <td>587</td>\n",
              "      <td>CIB</td>\n",
              "      <td>45-54</td>\n",
              "      <td>not_inst</td>\n",
              "      <td>69.376900</td>\n",
              "      <td>North</td>\n",
              "      <td>direct</td>\n",
              "      <td>0</td>\n",
              "      <td>42.0</td>\n",
              "    </tr>\n",
              "    <tr>\n",
              "      <th>4</th>\n",
              "      <td>24894</td>\n",
              "      <td>2019</td>\n",
              "      <td>cf</td>\n",
              "      <td>Joint</td>\n",
              "      <td>pre</td>\n",
              "      <td>type1</td>\n",
              "      <td>p1</td>\n",
              "      <td>l1</td>\n",
              "      <td>nopc</td>\n",
              "      <td>nob/c</td>\n",
              "      <td>...</td>\n",
              "      <td>CRIF</td>\n",
              "      <td>602</td>\n",
              "      <td>EXP</td>\n",
              "      <td>25-34</td>\n",
              "      <td>not_inst</td>\n",
              "      <td>91.886544</td>\n",
              "      <td>North</td>\n",
              "      <td>direct</td>\n",
              "      <td>0</td>\n",
              "      <td>39.0</td>\n",
              "    </tr>\n",
              "  </tbody>\n",
              "</table>\n",
              "<p>5 rows × 34 columns</p>\n",
              "</div>\n",
              "      <button class=\"colab-df-convert\" onclick=\"convertToInteractive('df-7507e503-19a9-4d78-8ec1-fbe2d1965804')\"\n",
              "              title=\"Convert this dataframe to an interactive table.\"\n",
              "              style=\"display:none;\">\n",
              "        \n",
              "  <svg xmlns=\"http://www.w3.org/2000/svg\" height=\"24px\"viewBox=\"0 0 24 24\"\n",
              "       width=\"24px\">\n",
              "    <path d=\"M0 0h24v24H0V0z\" fill=\"none\"/>\n",
              "    <path d=\"M18.56 5.44l.94 2.06.94-2.06 2.06-.94-2.06-.94-.94-2.06-.94 2.06-2.06.94zm-11 1L8.5 8.5l.94-2.06 2.06-.94-2.06-.94L8.5 2.5l-.94 2.06-2.06.94zm10 10l.94 2.06.94-2.06 2.06-.94-2.06-.94-.94-2.06-.94 2.06-2.06.94z\"/><path d=\"M17.41 7.96l-1.37-1.37c-.4-.4-.92-.59-1.43-.59-.52 0-1.04.2-1.43.59L10.3 9.45l-7.72 7.72c-.78.78-.78 2.05 0 2.83L4 21.41c.39.39.9.59 1.41.59.51 0 1.02-.2 1.41-.59l7.78-7.78 2.81-2.81c.8-.78.8-2.07 0-2.86zM5.41 20L4 18.59l7.72-7.72 1.47 1.35L5.41 20z\"/>\n",
              "  </svg>\n",
              "      </button>\n",
              "      \n",
              "  <style>\n",
              "    .colab-df-container {\n",
              "      display:flex;\n",
              "      flex-wrap:wrap;\n",
              "      gap: 12px;\n",
              "    }\n",
              "\n",
              "    .colab-df-convert {\n",
              "      background-color: #E8F0FE;\n",
              "      border: none;\n",
              "      border-radius: 50%;\n",
              "      cursor: pointer;\n",
              "      display: none;\n",
              "      fill: #1967D2;\n",
              "      height: 32px;\n",
              "      padding: 0 0 0 0;\n",
              "      width: 32px;\n",
              "    }\n",
              "\n",
              "    .colab-df-convert:hover {\n",
              "      background-color: #E2EBFA;\n",
              "      box-shadow: 0px 1px 2px rgba(60, 64, 67, 0.3), 0px 1px 3px 1px rgba(60, 64, 67, 0.15);\n",
              "      fill: #174EA6;\n",
              "    }\n",
              "\n",
              "    [theme=dark] .colab-df-convert {\n",
              "      background-color: #3B4455;\n",
              "      fill: #D2E3FC;\n",
              "    }\n",
              "\n",
              "    [theme=dark] .colab-df-convert:hover {\n",
              "      background-color: #434B5C;\n",
              "      box-shadow: 0px 1px 3px 1px rgba(0, 0, 0, 0.15);\n",
              "      filter: drop-shadow(0px 1px 2px rgba(0, 0, 0, 0.3));\n",
              "      fill: #FFFFFF;\n",
              "    }\n",
              "  </style>\n",
              "\n",
              "      <script>\n",
              "        const buttonEl =\n",
              "          document.querySelector('#df-7507e503-19a9-4d78-8ec1-fbe2d1965804 button.colab-df-convert');\n",
              "        buttonEl.style.display =\n",
              "          google.colab.kernel.accessAllowed ? 'block' : 'none';\n",
              "\n",
              "        async function convertToInteractive(key) {\n",
              "          const element = document.querySelector('#df-7507e503-19a9-4d78-8ec1-fbe2d1965804');\n",
              "          const dataTable =\n",
              "            await google.colab.kernel.invokeFunction('convertToInteractive',\n",
              "                                                     [key], {});\n",
              "          if (!dataTable) return;\n",
              "\n",
              "          const docLinkHtml = 'Like what you see? Visit the ' +\n",
              "            '<a target=\"_blank\" href=https://colab.research.google.com/notebooks/data_table.ipynb>data table notebook</a>'\n",
              "            + ' to learn more about interactive tables.';\n",
              "          element.innerHTML = '';\n",
              "          dataTable['output_type'] = 'display_data';\n",
              "          await google.colab.output.renderOutput(dataTable, element);\n",
              "          const docLink = document.createElement('div');\n",
              "          docLink.innerHTML = docLinkHtml;\n",
              "          element.appendChild(docLink);\n",
              "        }\n",
              "      </script>\n",
              "    </div>\n",
              "  </div>\n",
              "  "
            ]
          },
          "metadata": {},
          "execution_count": 95
        }
      ]
    },
    {
      "cell_type": "code",
      "execution_count": 96,
      "id": "fe6e5ec1-f3b0-458c-9ab8-24b46fe73e29",
      "metadata": {
        "colab": {
          "base_uri": "https://localhost:8080/",
          "height": 670
        },
        "id": "fe6e5ec1-f3b0-458c-9ab8-24b46fe73e29",
        "outputId": "17c61eb0-99e4-4400-bd31-6847c0d7f208"
      },
      "outputs": [
        {
          "output_type": "execute_result",
          "data": {
            "text/plain": [
              "       loan_type loan_purpose business_or_commercial  loan_amount  \\\n",
              "0          type1           p1                  nob/c       116500   \n",
              "1          type2           p1                    b/c       206500   \n",
              "2          type1           p1                  nob/c       406500   \n",
              "3          type1           p4                  nob/c       456500   \n",
              "4          type1           p1                  nob/c       696500   \n",
              "...          ...          ...                    ...          ...   \n",
              "148665     type1           p3                  nob/c       436500   \n",
              "148666     type1           p1                  nob/c       586500   \n",
              "148667     type1           p4                  nob/c       446500   \n",
              "148668     type1           p4                  nob/c       196500   \n",
              "148669     type1           p3                  nob/c       406500   \n",
              "\n",
              "        rate_of_interest   term interest_only  property_value occupancy_type  \\\n",
              "0                    NaN  360.0       not_int        118000.0             pr   \n",
              "1                    NaN  360.0       not_int             NaN             pr   \n",
              "2                  4.560  360.0       not_int        508000.0             pr   \n",
              "3                  4.250  360.0       not_int        658000.0             pr   \n",
              "4                  4.000  360.0       not_int        758000.0             pr   \n",
              "...                  ...    ...           ...             ...            ...   \n",
              "148665             3.125  180.0       not_int        608000.0             pr   \n",
              "148666             5.190  360.0       not_int        788000.0             ir   \n",
              "148667             3.125  180.0       not_int        728000.0             pr   \n",
              "148668             3.500  180.0       not_int        278000.0             pr   \n",
              "148669             4.375  240.0       not_int        558000.0             pr   \n",
              "\n",
              "       Secured_by   income credit_type  Credit_Score co-applicant_credit_type  \\\n",
              "0            home   1740.0         EXP           758                      CIB   \n",
              "1            home   4980.0        EQUI           552                      EXP   \n",
              "2            home   9480.0         EXP           834                      CIB   \n",
              "3            home  11880.0         EXP           587                      CIB   \n",
              "4            home  10440.0        CRIF           602                      EXP   \n",
              "...           ...      ...         ...           ...                      ...   \n",
              "148665       home   7860.0         CIB           659                      EXP   \n",
              "148666       home   7140.0         CIB           569                      CIB   \n",
              "148667       home   6900.0         CIB           702                      EXP   \n",
              "148668       home   7140.0         EXP           737                      EXP   \n",
              "148669       home   7260.0         CIB           830                      CIB   \n",
              "\n",
              "          age  Status  \n",
              "0       25-34       1  \n",
              "1       55-64       1  \n",
              "2       35-44       0  \n",
              "3       45-54       0  \n",
              "4       25-34       0  \n",
              "...       ...     ...  \n",
              "148665  55-64       0  \n",
              "148666  25-34       0  \n",
              "148667  45-54       0  \n",
              "148668  55-64       0  \n",
              "148669  45-54       0  \n",
              "\n",
              "[148670 rows x 16 columns]"
            ],
            "text/html": [
              "\n",
              "  <div id=\"df-9144b8d9-c4ec-4cab-8d9f-cece46deb1b7\">\n",
              "    <div class=\"colab-df-container\">\n",
              "      <div>\n",
              "<style scoped>\n",
              "    .dataframe tbody tr th:only-of-type {\n",
              "        vertical-align: middle;\n",
              "    }\n",
              "\n",
              "    .dataframe tbody tr th {\n",
              "        vertical-align: top;\n",
              "    }\n",
              "\n",
              "    .dataframe thead th {\n",
              "        text-align: right;\n",
              "    }\n",
              "</style>\n",
              "<table border=\"1\" class=\"dataframe\">\n",
              "  <thead>\n",
              "    <tr style=\"text-align: right;\">\n",
              "      <th></th>\n",
              "      <th>loan_type</th>\n",
              "      <th>loan_purpose</th>\n",
              "      <th>business_or_commercial</th>\n",
              "      <th>loan_amount</th>\n",
              "      <th>rate_of_interest</th>\n",
              "      <th>term</th>\n",
              "      <th>interest_only</th>\n",
              "      <th>property_value</th>\n",
              "      <th>occupancy_type</th>\n",
              "      <th>Secured_by</th>\n",
              "      <th>income</th>\n",
              "      <th>credit_type</th>\n",
              "      <th>Credit_Score</th>\n",
              "      <th>co-applicant_credit_type</th>\n",
              "      <th>age</th>\n",
              "      <th>Status</th>\n",
              "    </tr>\n",
              "  </thead>\n",
              "  <tbody>\n",
              "    <tr>\n",
              "      <th>0</th>\n",
              "      <td>type1</td>\n",
              "      <td>p1</td>\n",
              "      <td>nob/c</td>\n",
              "      <td>116500</td>\n",
              "      <td>NaN</td>\n",
              "      <td>360.0</td>\n",
              "      <td>not_int</td>\n",
              "      <td>118000.0</td>\n",
              "      <td>pr</td>\n",
              "      <td>home</td>\n",
              "      <td>1740.0</td>\n",
              "      <td>EXP</td>\n",
              "      <td>758</td>\n",
              "      <td>CIB</td>\n",
              "      <td>25-34</td>\n",
              "      <td>1</td>\n",
              "    </tr>\n",
              "    <tr>\n",
              "      <th>1</th>\n",
              "      <td>type2</td>\n",
              "      <td>p1</td>\n",
              "      <td>b/c</td>\n",
              "      <td>206500</td>\n",
              "      <td>NaN</td>\n",
              "      <td>360.0</td>\n",
              "      <td>not_int</td>\n",
              "      <td>NaN</td>\n",
              "      <td>pr</td>\n",
              "      <td>home</td>\n",
              "      <td>4980.0</td>\n",
              "      <td>EQUI</td>\n",
              "      <td>552</td>\n",
              "      <td>EXP</td>\n",
              "      <td>55-64</td>\n",
              "      <td>1</td>\n",
              "    </tr>\n",
              "    <tr>\n",
              "      <th>2</th>\n",
              "      <td>type1</td>\n",
              "      <td>p1</td>\n",
              "      <td>nob/c</td>\n",
              "      <td>406500</td>\n",
              "      <td>4.560</td>\n",
              "      <td>360.0</td>\n",
              "      <td>not_int</td>\n",
              "      <td>508000.0</td>\n",
              "      <td>pr</td>\n",
              "      <td>home</td>\n",
              "      <td>9480.0</td>\n",
              "      <td>EXP</td>\n",
              "      <td>834</td>\n",
              "      <td>CIB</td>\n",
              "      <td>35-44</td>\n",
              "      <td>0</td>\n",
              "    </tr>\n",
              "    <tr>\n",
              "      <th>3</th>\n",
              "      <td>type1</td>\n",
              "      <td>p4</td>\n",
              "      <td>nob/c</td>\n",
              "      <td>456500</td>\n",
              "      <td>4.250</td>\n",
              "      <td>360.0</td>\n",
              "      <td>not_int</td>\n",
              "      <td>658000.0</td>\n",
              "      <td>pr</td>\n",
              "      <td>home</td>\n",
              "      <td>11880.0</td>\n",
              "      <td>EXP</td>\n",
              "      <td>587</td>\n",
              "      <td>CIB</td>\n",
              "      <td>45-54</td>\n",
              "      <td>0</td>\n",
              "    </tr>\n",
              "    <tr>\n",
              "      <th>4</th>\n",
              "      <td>type1</td>\n",
              "      <td>p1</td>\n",
              "      <td>nob/c</td>\n",
              "      <td>696500</td>\n",
              "      <td>4.000</td>\n",
              "      <td>360.0</td>\n",
              "      <td>not_int</td>\n",
              "      <td>758000.0</td>\n",
              "      <td>pr</td>\n",
              "      <td>home</td>\n",
              "      <td>10440.0</td>\n",
              "      <td>CRIF</td>\n",
              "      <td>602</td>\n",
              "      <td>EXP</td>\n",
              "      <td>25-34</td>\n",
              "      <td>0</td>\n",
              "    </tr>\n",
              "    <tr>\n",
              "      <th>...</th>\n",
              "      <td>...</td>\n",
              "      <td>...</td>\n",
              "      <td>...</td>\n",
              "      <td>...</td>\n",
              "      <td>...</td>\n",
              "      <td>...</td>\n",
              "      <td>...</td>\n",
              "      <td>...</td>\n",
              "      <td>...</td>\n",
              "      <td>...</td>\n",
              "      <td>...</td>\n",
              "      <td>...</td>\n",
              "      <td>...</td>\n",
              "      <td>...</td>\n",
              "      <td>...</td>\n",
              "      <td>...</td>\n",
              "    </tr>\n",
              "    <tr>\n",
              "      <th>148665</th>\n",
              "      <td>type1</td>\n",
              "      <td>p3</td>\n",
              "      <td>nob/c</td>\n",
              "      <td>436500</td>\n",
              "      <td>3.125</td>\n",
              "      <td>180.0</td>\n",
              "      <td>not_int</td>\n",
              "      <td>608000.0</td>\n",
              "      <td>pr</td>\n",
              "      <td>home</td>\n",
              "      <td>7860.0</td>\n",
              "      <td>CIB</td>\n",
              "      <td>659</td>\n",
              "      <td>EXP</td>\n",
              "      <td>55-64</td>\n",
              "      <td>0</td>\n",
              "    </tr>\n",
              "    <tr>\n",
              "      <th>148666</th>\n",
              "      <td>type1</td>\n",
              "      <td>p1</td>\n",
              "      <td>nob/c</td>\n",
              "      <td>586500</td>\n",
              "      <td>5.190</td>\n",
              "      <td>360.0</td>\n",
              "      <td>not_int</td>\n",
              "      <td>788000.0</td>\n",
              "      <td>ir</td>\n",
              "      <td>home</td>\n",
              "      <td>7140.0</td>\n",
              "      <td>CIB</td>\n",
              "      <td>569</td>\n",
              "      <td>CIB</td>\n",
              "      <td>25-34</td>\n",
              "      <td>0</td>\n",
              "    </tr>\n",
              "    <tr>\n",
              "      <th>148667</th>\n",
              "      <td>type1</td>\n",
              "      <td>p4</td>\n",
              "      <td>nob/c</td>\n",
              "      <td>446500</td>\n",
              "      <td>3.125</td>\n",
              "      <td>180.0</td>\n",
              "      <td>not_int</td>\n",
              "      <td>728000.0</td>\n",
              "      <td>pr</td>\n",
              "      <td>home</td>\n",
              "      <td>6900.0</td>\n",
              "      <td>CIB</td>\n",
              "      <td>702</td>\n",
              "      <td>EXP</td>\n",
              "      <td>45-54</td>\n",
              "      <td>0</td>\n",
              "    </tr>\n",
              "    <tr>\n",
              "      <th>148668</th>\n",
              "      <td>type1</td>\n",
              "      <td>p4</td>\n",
              "      <td>nob/c</td>\n",
              "      <td>196500</td>\n",
              "      <td>3.500</td>\n",
              "      <td>180.0</td>\n",
              "      <td>not_int</td>\n",
              "      <td>278000.0</td>\n",
              "      <td>pr</td>\n",
              "      <td>home</td>\n",
              "      <td>7140.0</td>\n",
              "      <td>EXP</td>\n",
              "      <td>737</td>\n",
              "      <td>EXP</td>\n",
              "      <td>55-64</td>\n",
              "      <td>0</td>\n",
              "    </tr>\n",
              "    <tr>\n",
              "      <th>148669</th>\n",
              "      <td>type1</td>\n",
              "      <td>p3</td>\n",
              "      <td>nob/c</td>\n",
              "      <td>406500</td>\n",
              "      <td>4.375</td>\n",
              "      <td>240.0</td>\n",
              "      <td>not_int</td>\n",
              "      <td>558000.0</td>\n",
              "      <td>pr</td>\n",
              "      <td>home</td>\n",
              "      <td>7260.0</td>\n",
              "      <td>CIB</td>\n",
              "      <td>830</td>\n",
              "      <td>CIB</td>\n",
              "      <td>45-54</td>\n",
              "      <td>0</td>\n",
              "    </tr>\n",
              "  </tbody>\n",
              "</table>\n",
              "<p>148670 rows × 16 columns</p>\n",
              "</div>\n",
              "      <button class=\"colab-df-convert\" onclick=\"convertToInteractive('df-9144b8d9-c4ec-4cab-8d9f-cece46deb1b7')\"\n",
              "              title=\"Convert this dataframe to an interactive table.\"\n",
              "              style=\"display:none;\">\n",
              "        \n",
              "  <svg xmlns=\"http://www.w3.org/2000/svg\" height=\"24px\"viewBox=\"0 0 24 24\"\n",
              "       width=\"24px\">\n",
              "    <path d=\"M0 0h24v24H0V0z\" fill=\"none\"/>\n",
              "    <path d=\"M18.56 5.44l.94 2.06.94-2.06 2.06-.94-2.06-.94-.94-2.06-.94 2.06-2.06.94zm-11 1L8.5 8.5l.94-2.06 2.06-.94-2.06-.94L8.5 2.5l-.94 2.06-2.06.94zm10 10l.94 2.06.94-2.06 2.06-.94-2.06-.94-.94-2.06-.94 2.06-2.06.94z\"/><path d=\"M17.41 7.96l-1.37-1.37c-.4-.4-.92-.59-1.43-.59-.52 0-1.04.2-1.43.59L10.3 9.45l-7.72 7.72c-.78.78-.78 2.05 0 2.83L4 21.41c.39.39.9.59 1.41.59.51 0 1.02-.2 1.41-.59l7.78-7.78 2.81-2.81c.8-.78.8-2.07 0-2.86zM5.41 20L4 18.59l7.72-7.72 1.47 1.35L5.41 20z\"/>\n",
              "  </svg>\n",
              "      </button>\n",
              "      \n",
              "  <style>\n",
              "    .colab-df-container {\n",
              "      display:flex;\n",
              "      flex-wrap:wrap;\n",
              "      gap: 12px;\n",
              "    }\n",
              "\n",
              "    .colab-df-convert {\n",
              "      background-color: #E8F0FE;\n",
              "      border: none;\n",
              "      border-radius: 50%;\n",
              "      cursor: pointer;\n",
              "      display: none;\n",
              "      fill: #1967D2;\n",
              "      height: 32px;\n",
              "      padding: 0 0 0 0;\n",
              "      width: 32px;\n",
              "    }\n",
              "\n",
              "    .colab-df-convert:hover {\n",
              "      background-color: #E2EBFA;\n",
              "      box-shadow: 0px 1px 2px rgba(60, 64, 67, 0.3), 0px 1px 3px 1px rgba(60, 64, 67, 0.15);\n",
              "      fill: #174EA6;\n",
              "    }\n",
              "\n",
              "    [theme=dark] .colab-df-convert {\n",
              "      background-color: #3B4455;\n",
              "      fill: #D2E3FC;\n",
              "    }\n",
              "\n",
              "    [theme=dark] .colab-df-convert:hover {\n",
              "      background-color: #434B5C;\n",
              "      box-shadow: 0px 1px 3px 1px rgba(0, 0, 0, 0.15);\n",
              "      filter: drop-shadow(0px 1px 2px rgba(0, 0, 0, 0.3));\n",
              "      fill: #FFFFFF;\n",
              "    }\n",
              "  </style>\n",
              "\n",
              "      <script>\n",
              "        const buttonEl =\n",
              "          document.querySelector('#df-9144b8d9-c4ec-4cab-8d9f-cece46deb1b7 button.colab-df-convert');\n",
              "        buttonEl.style.display =\n",
              "          google.colab.kernel.accessAllowed ? 'block' : 'none';\n",
              "\n",
              "        async function convertToInteractive(key) {\n",
              "          const element = document.querySelector('#df-9144b8d9-c4ec-4cab-8d9f-cece46deb1b7');\n",
              "          const dataTable =\n",
              "            await google.colab.kernel.invokeFunction('convertToInteractive',\n",
              "                                                     [key], {});\n",
              "          if (!dataTable) return;\n",
              "\n",
              "          const docLinkHtml = 'Like what you see? Visit the ' +\n",
              "            '<a target=\"_blank\" href=https://colab.research.google.com/notebooks/data_table.ipynb>data table notebook</a>'\n",
              "            + ' to learn more about interactive tables.';\n",
              "          element.innerHTML = '';\n",
              "          dataTable['output_type'] = 'display_data';\n",
              "          await google.colab.output.renderOutput(dataTable, element);\n",
              "          const docLink = document.createElement('div');\n",
              "          docLink.innerHTML = docLinkHtml;\n",
              "          element.appendChild(docLink);\n",
              "        }\n",
              "      </script>\n",
              "    </div>\n",
              "  </div>\n",
              "  "
            ]
          },
          "metadata": {},
          "execution_count": 96
        }
      ],
      "source": [
        "\n",
        "# drop unnecesssary columns\n",
        "df = df.drop(columns=['year','ID','Gender', 'loan_limit', 'approv_in_adv', 'Credit_Worthiness', 'open_credit', 'Interest_rate_spread', 'Upfront_charges', 'Neg_ammortization', 'construction_type','lump_sum_payment', 'total_units', 'submission_of_application', 'LTV', 'Region', 'Security_Type', 'dtir1'])\n",
        "df"
      ]
    },
    {
      "cell_type": "code",
      "source": [
        "# Create column with N/A count\n",
        "\n",
        "df[\"NA count\"] = 0\n",
        "len(df.index)\n"
      ],
      "metadata": {
        "colab": {
          "base_uri": "https://localhost:8080/"
        },
        "id": "Xu49MXdIQTA5",
        "outputId": "ce73f410-84dd-4f9e-d1af-f93e8b259bed"
      },
      "id": "Xu49MXdIQTA5",
      "execution_count": 53,
      "outputs": [
        {
          "output_type": "execute_result",
          "data": {
            "text/plain": [
              "148670"
            ]
          },
          "metadata": {},
          "execution_count": 53
        }
      ]
    },
    {
      "cell_type": "code",
      "source": [
        "# add N/A column\n",
        "\n",
        "for i in range(len(df.index)):\n",
        "  df.loc[i, 31] = df.loc[i].isnull().sum()\n",
        "df"
      ],
      "metadata": {
        "colab": {
          "base_uri": "https://localhost:8080/",
          "height": 409
        },
        "id": "OSm1FQviQcks",
        "outputId": "0adf01fc-2440-4349-9688-8a84c7e84f2a"
      },
      "id": "OSm1FQviQcks",
      "execution_count": 42,
      "outputs": [
        {
          "output_type": "error",
          "ename": "KeyboardInterrupt",
          "evalue": "ignored",
          "traceback": [
            "\u001b[0;31m---------------------------------------------------------------------------\u001b[0m",
            "\u001b[0;31mKeyboardInterrupt\u001b[0m                         Traceback (most recent call last)",
            "\u001b[0;32m<ipython-input-42-fc86e3c19dca>\u001b[0m in \u001b[0;36m<module>\u001b[0;34m()\u001b[0m\n\u001b[1;32m      1\u001b[0m \u001b[0;32mfor\u001b[0m \u001b[0mi\u001b[0m \u001b[0;32min\u001b[0m \u001b[0mrange\u001b[0m\u001b[0;34m(\u001b[0m\u001b[0mlen\u001b[0m\u001b[0;34m(\u001b[0m\u001b[0mdf\u001b[0m\u001b[0;34m.\u001b[0m\u001b[0mindex\u001b[0m\u001b[0;34m)\u001b[0m\u001b[0;34m)\u001b[0m\u001b[0;34m:\u001b[0m\u001b[0;34m\u001b[0m\u001b[0;34m\u001b[0m\u001b[0m\n\u001b[0;32m----> 2\u001b[0;31m   \u001b[0mdf\u001b[0m\u001b[0;34m.\u001b[0m\u001b[0mloc\u001b[0m\u001b[0;34m[\u001b[0m\u001b[0mi\u001b[0m\u001b[0;34m,\u001b[0m \u001b[0;36m31\u001b[0m\u001b[0;34m]\u001b[0m \u001b[0;34m=\u001b[0m \u001b[0mdf\u001b[0m\u001b[0;34m.\u001b[0m\u001b[0mloc\u001b[0m\u001b[0;34m[\u001b[0m\u001b[0mi\u001b[0m\u001b[0;34m]\u001b[0m\u001b[0;34m.\u001b[0m\u001b[0misnull\u001b[0m\u001b[0;34m(\u001b[0m\u001b[0;34m)\u001b[0m\u001b[0;34m.\u001b[0m\u001b[0msum\u001b[0m\u001b[0;34m(\u001b[0m\u001b[0;34m)\u001b[0m\u001b[0;34m\u001b[0m\u001b[0;34m\u001b[0m\u001b[0m\n\u001b[0m\u001b[1;32m      3\u001b[0m \u001b[0mdf\u001b[0m\u001b[0;34m\u001b[0m\u001b[0;34m\u001b[0m\u001b[0m\n",
            "\u001b[0;32m/usr/local/lib/python3.7/dist-packages/pandas/core/indexing.py\u001b[0m in \u001b[0;36m__setitem__\u001b[0;34m(self, key, value)\u001b[0m\n\u001b[1;32m    721\u001b[0m \u001b[0;34m\u001b[0m\u001b[0m\n\u001b[1;32m    722\u001b[0m         \u001b[0miloc\u001b[0m \u001b[0;34m=\u001b[0m \u001b[0mself\u001b[0m \u001b[0;32mif\u001b[0m \u001b[0mself\u001b[0m\u001b[0;34m.\u001b[0m\u001b[0mname\u001b[0m \u001b[0;34m==\u001b[0m \u001b[0;34m\"iloc\"\u001b[0m \u001b[0;32melse\u001b[0m \u001b[0mself\u001b[0m\u001b[0;34m.\u001b[0m\u001b[0mobj\u001b[0m\u001b[0;34m.\u001b[0m\u001b[0miloc\u001b[0m\u001b[0;34m\u001b[0m\u001b[0;34m\u001b[0m\u001b[0m\n\u001b[0;32m--> 723\u001b[0;31m         \u001b[0miloc\u001b[0m\u001b[0;34m.\u001b[0m\u001b[0m_setitem_with_indexer\u001b[0m\u001b[0;34m(\u001b[0m\u001b[0mindexer\u001b[0m\u001b[0;34m,\u001b[0m \u001b[0mvalue\u001b[0m\u001b[0;34m,\u001b[0m \u001b[0mself\u001b[0m\u001b[0;34m.\u001b[0m\u001b[0mname\u001b[0m\u001b[0;34m)\u001b[0m\u001b[0;34m\u001b[0m\u001b[0;34m\u001b[0m\u001b[0m\n\u001b[0m\u001b[1;32m    724\u001b[0m \u001b[0;34m\u001b[0m\u001b[0m\n\u001b[1;32m    725\u001b[0m     \u001b[0;32mdef\u001b[0m \u001b[0m_validate_key\u001b[0m\u001b[0;34m(\u001b[0m\u001b[0mself\u001b[0m\u001b[0;34m,\u001b[0m \u001b[0mkey\u001b[0m\u001b[0;34m,\u001b[0m \u001b[0maxis\u001b[0m\u001b[0;34m:\u001b[0m \u001b[0mint\u001b[0m\u001b[0;34m)\u001b[0m\u001b[0;34m:\u001b[0m\u001b[0;34m\u001b[0m\u001b[0;34m\u001b[0m\u001b[0m\n",
            "\u001b[0;32m/usr/local/lib/python3.7/dist-packages/pandas/core/indexing.py\u001b[0m in \u001b[0;36m_setitem_with_indexer\u001b[0;34m(self, indexer, value, name)\u001b[0m\n\u001b[1;32m   1728\u001b[0m         \u001b[0;32mif\u001b[0m \u001b[0mtake_split_path\u001b[0m\u001b[0;34m:\u001b[0m\u001b[0;34m\u001b[0m\u001b[0;34m\u001b[0m\u001b[0m\n\u001b[1;32m   1729\u001b[0m             \u001b[0;31m# We have to operate column-wise\u001b[0m\u001b[0;34m\u001b[0m\u001b[0;34m\u001b[0m\u001b[0;34m\u001b[0m\u001b[0m\n\u001b[0;32m-> 1730\u001b[0;31m             \u001b[0mself\u001b[0m\u001b[0;34m.\u001b[0m\u001b[0m_setitem_with_indexer_split_path\u001b[0m\u001b[0;34m(\u001b[0m\u001b[0mindexer\u001b[0m\u001b[0;34m,\u001b[0m \u001b[0mvalue\u001b[0m\u001b[0;34m,\u001b[0m \u001b[0mname\u001b[0m\u001b[0;34m)\u001b[0m\u001b[0;34m\u001b[0m\u001b[0;34m\u001b[0m\u001b[0m\n\u001b[0m\u001b[1;32m   1731\u001b[0m         \u001b[0;32melse\u001b[0m\u001b[0;34m:\u001b[0m\u001b[0;34m\u001b[0m\u001b[0;34m\u001b[0m\u001b[0m\n\u001b[1;32m   1732\u001b[0m             \u001b[0mself\u001b[0m\u001b[0;34m.\u001b[0m\u001b[0m_setitem_single_block\u001b[0m\u001b[0;34m(\u001b[0m\u001b[0mindexer\u001b[0m\u001b[0;34m,\u001b[0m \u001b[0mvalue\u001b[0m\u001b[0;34m,\u001b[0m \u001b[0mname\u001b[0m\u001b[0;34m)\u001b[0m\u001b[0;34m\u001b[0m\u001b[0;34m\u001b[0m\u001b[0m\n",
            "\u001b[0;32m/usr/local/lib/python3.7/dist-packages/pandas/core/indexing.py\u001b[0m in \u001b[0;36m_setitem_with_indexer_split_path\u001b[0;34m(self, indexer, value, name)\u001b[0m\n\u001b[1;32m   1815\u001b[0m             \u001b[0;31m# scalar value\u001b[0m\u001b[0;34m\u001b[0m\u001b[0;34m\u001b[0m\u001b[0;34m\u001b[0m\u001b[0m\n\u001b[1;32m   1816\u001b[0m             \u001b[0;32mfor\u001b[0m \u001b[0mloc\u001b[0m \u001b[0;32min\u001b[0m \u001b[0milocs\u001b[0m\u001b[0;34m:\u001b[0m\u001b[0;34m\u001b[0m\u001b[0;34m\u001b[0m\u001b[0m\n\u001b[0;32m-> 1817\u001b[0;31m                 \u001b[0mself\u001b[0m\u001b[0;34m.\u001b[0m\u001b[0m_setitem_single_column\u001b[0m\u001b[0;34m(\u001b[0m\u001b[0mloc\u001b[0m\u001b[0;34m,\u001b[0m \u001b[0mvalue\u001b[0m\u001b[0;34m,\u001b[0m \u001b[0mpi\u001b[0m\u001b[0;34m)\u001b[0m\u001b[0;34m\u001b[0m\u001b[0;34m\u001b[0m\u001b[0m\n\u001b[0m\u001b[1;32m   1818\u001b[0m \u001b[0;34m\u001b[0m\u001b[0m\n\u001b[1;32m   1819\u001b[0m     \u001b[0;32mdef\u001b[0m \u001b[0m_setitem_with_indexer_2d_value\u001b[0m\u001b[0;34m(\u001b[0m\u001b[0mself\u001b[0m\u001b[0;34m,\u001b[0m \u001b[0mindexer\u001b[0m\u001b[0;34m,\u001b[0m \u001b[0mvalue\u001b[0m\u001b[0;34m)\u001b[0m\u001b[0;34m:\u001b[0m\u001b[0;34m\u001b[0m\u001b[0;34m\u001b[0m\u001b[0m\n",
            "\u001b[0;32m/usr/local/lib/python3.7/dist-packages/pandas/core/indexing.py\u001b[0m in \u001b[0;36m_setitem_single_column\u001b[0;34m(self, loc, value, plane_indexer)\u001b[0m\n\u001b[1;32m   1918\u001b[0m             \u001b[0;31m# set the item, possibly having a dtype change\u001b[0m\u001b[0;34m\u001b[0m\u001b[0;34m\u001b[0m\u001b[0;34m\u001b[0m\u001b[0m\n\u001b[1;32m   1919\u001b[0m             \u001b[0mser\u001b[0m \u001b[0;34m=\u001b[0m \u001b[0mser\u001b[0m\u001b[0;34m.\u001b[0m\u001b[0mcopy\u001b[0m\u001b[0;34m(\u001b[0m\u001b[0;34m)\u001b[0m\u001b[0;34m\u001b[0m\u001b[0;34m\u001b[0m\u001b[0m\n\u001b[0;32m-> 1920\u001b[0;31m             \u001b[0mser\u001b[0m\u001b[0;34m.\u001b[0m\u001b[0m_mgr\u001b[0m \u001b[0;34m=\u001b[0m \u001b[0mser\u001b[0m\u001b[0;34m.\u001b[0m\u001b[0m_mgr\u001b[0m\u001b[0;34m.\u001b[0m\u001b[0msetitem\u001b[0m\u001b[0;34m(\u001b[0m\u001b[0mindexer\u001b[0m\u001b[0;34m=\u001b[0m\u001b[0;34m(\u001b[0m\u001b[0mpi\u001b[0m\u001b[0;34m,\u001b[0m\u001b[0;34m)\u001b[0m\u001b[0;34m,\u001b[0m \u001b[0mvalue\u001b[0m\u001b[0;34m=\u001b[0m\u001b[0mvalue\u001b[0m\u001b[0;34m)\u001b[0m\u001b[0;34m\u001b[0m\u001b[0;34m\u001b[0m\u001b[0m\n\u001b[0m\u001b[1;32m   1921\u001b[0m             \u001b[0mser\u001b[0m\u001b[0;34m.\u001b[0m\u001b[0m_maybe_update_cacher\u001b[0m\u001b[0;34m(\u001b[0m\u001b[0mclear\u001b[0m\u001b[0;34m=\u001b[0m\u001b[0;32mTrue\u001b[0m\u001b[0;34m)\u001b[0m\u001b[0;34m\u001b[0m\u001b[0;34m\u001b[0m\u001b[0m\n\u001b[1;32m   1922\u001b[0m \u001b[0;34m\u001b[0m\u001b[0m\n",
            "\u001b[0;32m/usr/local/lib/python3.7/dist-packages/pandas/core/internals/managers.py\u001b[0m in \u001b[0;36msetitem\u001b[0;34m(self, indexer, value)\u001b[0m\n\u001b[1;32m    353\u001b[0m \u001b[0;34m\u001b[0m\u001b[0m\n\u001b[1;32m    354\u001b[0m     \u001b[0;32mdef\u001b[0m \u001b[0msetitem\u001b[0m\u001b[0;34m(\u001b[0m\u001b[0mself\u001b[0m\u001b[0;34m:\u001b[0m \u001b[0mT\u001b[0m\u001b[0;34m,\u001b[0m \u001b[0mindexer\u001b[0m\u001b[0;34m,\u001b[0m \u001b[0mvalue\u001b[0m\u001b[0;34m)\u001b[0m \u001b[0;34m->\u001b[0m \u001b[0mT\u001b[0m\u001b[0;34m:\u001b[0m\u001b[0;34m\u001b[0m\u001b[0;34m\u001b[0m\u001b[0m\n\u001b[0;32m--> 355\u001b[0;31m         \u001b[0;32mreturn\u001b[0m \u001b[0mself\u001b[0m\u001b[0;34m.\u001b[0m\u001b[0mapply\u001b[0m\u001b[0;34m(\u001b[0m\u001b[0;34m\"setitem\"\u001b[0m\u001b[0;34m,\u001b[0m \u001b[0mindexer\u001b[0m\u001b[0;34m=\u001b[0m\u001b[0mindexer\u001b[0m\u001b[0;34m,\u001b[0m \u001b[0mvalue\u001b[0m\u001b[0;34m=\u001b[0m\u001b[0mvalue\u001b[0m\u001b[0;34m)\u001b[0m\u001b[0;34m\u001b[0m\u001b[0;34m\u001b[0m\u001b[0m\n\u001b[0m\u001b[1;32m    356\u001b[0m \u001b[0;34m\u001b[0m\u001b[0m\n\u001b[1;32m    357\u001b[0m     \u001b[0;32mdef\u001b[0m \u001b[0mputmask\u001b[0m\u001b[0;34m(\u001b[0m\u001b[0mself\u001b[0m\u001b[0;34m,\u001b[0m \u001b[0mmask\u001b[0m\u001b[0;34m,\u001b[0m \u001b[0mnew\u001b[0m\u001b[0;34m,\u001b[0m \u001b[0malign\u001b[0m\u001b[0;34m:\u001b[0m \u001b[0mbool\u001b[0m \u001b[0;34m=\u001b[0m \u001b[0;32mTrue\u001b[0m\u001b[0;34m)\u001b[0m\u001b[0;34m:\u001b[0m\u001b[0;34m\u001b[0m\u001b[0;34m\u001b[0m\u001b[0m\n",
            "\u001b[0;32m/usr/local/lib/python3.7/dist-packages/pandas/core/internals/managers.py\u001b[0m in \u001b[0;36mapply\u001b[0;34m(self, f, align_keys, ignore_failures, **kwargs)\u001b[0m\n\u001b[1;32m    325\u001b[0m                     \u001b[0mapplied\u001b[0m \u001b[0;34m=\u001b[0m \u001b[0mb\u001b[0m\u001b[0;34m.\u001b[0m\u001b[0mapply\u001b[0m\u001b[0;34m(\u001b[0m\u001b[0mf\u001b[0m\u001b[0;34m,\u001b[0m \u001b[0;34m**\u001b[0m\u001b[0mkwargs\u001b[0m\u001b[0;34m)\u001b[0m\u001b[0;34m\u001b[0m\u001b[0;34m\u001b[0m\u001b[0m\n\u001b[1;32m    326\u001b[0m                 \u001b[0;32melse\u001b[0m\u001b[0;34m:\u001b[0m\u001b[0;34m\u001b[0m\u001b[0;34m\u001b[0m\u001b[0m\n\u001b[0;32m--> 327\u001b[0;31m                     \u001b[0mapplied\u001b[0m \u001b[0;34m=\u001b[0m \u001b[0mgetattr\u001b[0m\u001b[0;34m(\u001b[0m\u001b[0mb\u001b[0m\u001b[0;34m,\u001b[0m \u001b[0mf\u001b[0m\u001b[0;34m)\u001b[0m\u001b[0;34m(\u001b[0m\u001b[0;34m**\u001b[0m\u001b[0mkwargs\u001b[0m\u001b[0;34m)\u001b[0m\u001b[0;34m\u001b[0m\u001b[0;34m\u001b[0m\u001b[0m\n\u001b[0m\u001b[1;32m    328\u001b[0m             \u001b[0;32mexcept\u001b[0m \u001b[0;34m(\u001b[0m\u001b[0mTypeError\u001b[0m\u001b[0;34m,\u001b[0m \u001b[0mNotImplementedError\u001b[0m\u001b[0;34m)\u001b[0m\u001b[0;34m:\u001b[0m\u001b[0;34m\u001b[0m\u001b[0;34m\u001b[0m\u001b[0m\n\u001b[1;32m    329\u001b[0m                 \u001b[0;32mif\u001b[0m \u001b[0;32mnot\u001b[0m \u001b[0mignore_failures\u001b[0m\u001b[0;34m:\u001b[0m\u001b[0;34m\u001b[0m\u001b[0;34m\u001b[0m\u001b[0m\n",
            "\u001b[0;32m/usr/local/lib/python3.7/dist-packages/pandas/core/internals/blocks.py\u001b[0m in \u001b[0;36msetitem\u001b[0;34m(self, indexer, value)\u001b[0m\n\u001b[1;32m    985\u001b[0m         \u001b[0;32mif\u001b[0m \u001b[0mtranspose\u001b[0m\u001b[0;34m:\u001b[0m\u001b[0;34m\u001b[0m\u001b[0;34m\u001b[0m\u001b[0m\n\u001b[1;32m    986\u001b[0m             \u001b[0mvalues\u001b[0m \u001b[0;34m=\u001b[0m \u001b[0mvalues\u001b[0m\u001b[0;34m.\u001b[0m\u001b[0mT\u001b[0m\u001b[0;34m\u001b[0m\u001b[0;34m\u001b[0m\u001b[0m\n\u001b[0;32m--> 987\u001b[0;31m         \u001b[0mblock\u001b[0m \u001b[0;34m=\u001b[0m \u001b[0mself\u001b[0m\u001b[0;34m.\u001b[0m\u001b[0mmake_block\u001b[0m\u001b[0;34m(\u001b[0m\u001b[0mvalues\u001b[0m\u001b[0;34m)\u001b[0m\u001b[0;34m\u001b[0m\u001b[0;34m\u001b[0m\u001b[0m\n\u001b[0m\u001b[1;32m    988\u001b[0m         \u001b[0;32mreturn\u001b[0m \u001b[0mblock\u001b[0m\u001b[0;34m\u001b[0m\u001b[0;34m\u001b[0m\u001b[0m\n\u001b[1;32m    989\u001b[0m \u001b[0;34m\u001b[0m\u001b[0m\n",
            "\u001b[0;32m/usr/local/lib/python3.7/dist-packages/pandas/core/internals/blocks.py\u001b[0m in \u001b[0;36mmake_block\u001b[0;34m(self, values, placement)\u001b[0m\n\u001b[1;32m    257\u001b[0m         \u001b[0;31m# TODO: perf by not going through new_block\u001b[0m\u001b[0;34m\u001b[0m\u001b[0;34m\u001b[0m\u001b[0;34m\u001b[0m\u001b[0m\n\u001b[1;32m    258\u001b[0m         \u001b[0;31m# We assume maybe_coerce_values has already been called\u001b[0m\u001b[0;34m\u001b[0m\u001b[0;34m\u001b[0m\u001b[0;34m\u001b[0m\u001b[0m\n\u001b[0;32m--> 259\u001b[0;31m         \u001b[0;32mreturn\u001b[0m \u001b[0mnew_block\u001b[0m\u001b[0;34m(\u001b[0m\u001b[0mvalues\u001b[0m\u001b[0;34m,\u001b[0m \u001b[0mplacement\u001b[0m\u001b[0;34m=\u001b[0m\u001b[0mplacement\u001b[0m\u001b[0;34m,\u001b[0m \u001b[0mndim\u001b[0m\u001b[0;34m=\u001b[0m\u001b[0mself\u001b[0m\u001b[0;34m.\u001b[0m\u001b[0mndim\u001b[0m\u001b[0;34m)\u001b[0m\u001b[0;34m\u001b[0m\u001b[0;34m\u001b[0m\u001b[0m\n\u001b[0m\u001b[1;32m    260\u001b[0m \u001b[0;34m\u001b[0m\u001b[0m\n\u001b[1;32m    261\u001b[0m     \u001b[0;34m@\u001b[0m\u001b[0mfinal\u001b[0m\u001b[0;34m\u001b[0m\u001b[0;34m\u001b[0m\u001b[0m\n",
            "\u001b[0;32m/usr/local/lib/python3.7/dist-packages/pandas/core/internals/blocks.py\u001b[0m in \u001b[0;36mnew_block\u001b[0;34m(values, placement, ndim, klass)\u001b[0m\n\u001b[1;32m   1934\u001b[0m         \u001b[0mplacement\u001b[0m \u001b[0;34m=\u001b[0m \u001b[0mBlockPlacement\u001b[0m\u001b[0;34m(\u001b[0m\u001b[0mplacement\u001b[0m\u001b[0;34m)\u001b[0m\u001b[0;34m\u001b[0m\u001b[0;34m\u001b[0m\u001b[0m\n\u001b[1;32m   1935\u001b[0m \u001b[0;34m\u001b[0m\u001b[0m\n\u001b[0;32m-> 1936\u001b[0;31m     \u001b[0mvalues\u001b[0m\u001b[0;34m,\u001b[0m \u001b[0m_\u001b[0m \u001b[0;34m=\u001b[0m \u001b[0mextract_pandas_array\u001b[0m\u001b[0;34m(\u001b[0m\u001b[0mvalues\u001b[0m\u001b[0;34m,\u001b[0m \u001b[0;32mNone\u001b[0m\u001b[0;34m,\u001b[0m \u001b[0mndim\u001b[0m\u001b[0;34m)\u001b[0m\u001b[0;34m\u001b[0m\u001b[0;34m\u001b[0m\u001b[0m\n\u001b[0m\u001b[1;32m   1937\u001b[0m     \u001b[0mcheck_ndim\u001b[0m\u001b[0;34m(\u001b[0m\u001b[0mvalues\u001b[0m\u001b[0;34m,\u001b[0m \u001b[0mplacement\u001b[0m\u001b[0;34m,\u001b[0m \u001b[0mndim\u001b[0m\u001b[0;34m)\u001b[0m\u001b[0;34m\u001b[0m\u001b[0;34m\u001b[0m\u001b[0m\n\u001b[1;32m   1938\u001b[0m \u001b[0;34m\u001b[0m\u001b[0m\n",
            "\u001b[0;32m/usr/local/lib/python3.7/dist-packages/pandas/core/internals/blocks.py\u001b[0m in \u001b[0;36mextract_pandas_array\u001b[0;34m(values, dtype, ndim)\u001b[0m\n\u001b[1;32m   1993\u001b[0m     \"\"\"\n\u001b[1;32m   1994\u001b[0m     \u001b[0;31m# For now, blocks should be backed by ndarrays when possible.\u001b[0m\u001b[0;34m\u001b[0m\u001b[0;34m\u001b[0m\u001b[0;34m\u001b[0m\u001b[0m\n\u001b[0;32m-> 1995\u001b[0;31m     \u001b[0;32mif\u001b[0m \u001b[0misinstance\u001b[0m\u001b[0;34m(\u001b[0m\u001b[0mvalues\u001b[0m\u001b[0;34m,\u001b[0m \u001b[0mABCPandasArray\u001b[0m\u001b[0;34m)\u001b[0m\u001b[0;34m:\u001b[0m\u001b[0;34m\u001b[0m\u001b[0;34m\u001b[0m\u001b[0m\n\u001b[0m\u001b[1;32m   1996\u001b[0m         \u001b[0mvalues\u001b[0m \u001b[0;34m=\u001b[0m \u001b[0mvalues\u001b[0m\u001b[0;34m.\u001b[0m\u001b[0mto_numpy\u001b[0m\u001b[0;34m(\u001b[0m\u001b[0;34m)\u001b[0m\u001b[0;34m\u001b[0m\u001b[0;34m\u001b[0m\u001b[0m\n\u001b[1;32m   1997\u001b[0m         \u001b[0;32mif\u001b[0m \u001b[0mndim\u001b[0m \u001b[0;32mand\u001b[0m \u001b[0mndim\u001b[0m \u001b[0;34m>\u001b[0m \u001b[0;36m1\u001b[0m\u001b[0;34m:\u001b[0m\u001b[0;34m\u001b[0m\u001b[0;34m\u001b[0m\u001b[0m\n",
            "\u001b[0;32m/usr/local/lib/python3.7/dist-packages/pandas/core/dtypes/generic.py\u001b[0m in \u001b[0;36m_check\u001b[0;34m(cls, inst)\u001b[0m\n\u001b[1;32m     43\u001b[0m     \u001b[0;34m@\u001b[0m\u001b[0mclassmethod\u001b[0m  \u001b[0;31m# type: ignore[misc]\u001b[0m\u001b[0;34m\u001b[0m\u001b[0;34m\u001b[0m\u001b[0m\n\u001b[1;32m     44\u001b[0m     \u001b[0;32mdef\u001b[0m \u001b[0m_check\u001b[0m\u001b[0;34m(\u001b[0m\u001b[0mcls\u001b[0m\u001b[0;34m,\u001b[0m \u001b[0minst\u001b[0m\u001b[0;34m)\u001b[0m \u001b[0;34m->\u001b[0m \u001b[0mbool\u001b[0m\u001b[0;34m:\u001b[0m\u001b[0;34m\u001b[0m\u001b[0;34m\u001b[0m\u001b[0m\n\u001b[0;32m---> 45\u001b[0;31m         \u001b[0;32mreturn\u001b[0m \u001b[0mgetattr\u001b[0m\u001b[0;34m(\u001b[0m\u001b[0minst\u001b[0m\u001b[0;34m,\u001b[0m \u001b[0mattr\u001b[0m\u001b[0;34m,\u001b[0m \u001b[0;34m\"_typ\"\u001b[0m\u001b[0;34m)\u001b[0m \u001b[0;32min\u001b[0m \u001b[0mcomp\u001b[0m\u001b[0;34m\u001b[0m\u001b[0;34m\u001b[0m\u001b[0m\n\u001b[0m\u001b[1;32m     46\u001b[0m \u001b[0;34m\u001b[0m\u001b[0m\n\u001b[1;32m     47\u001b[0m     \u001b[0mdct\u001b[0m \u001b[0;34m=\u001b[0m \u001b[0;34m{\u001b[0m\u001b[0;34m\"__instancecheck__\"\u001b[0m\u001b[0;34m:\u001b[0m \u001b[0m_check\u001b[0m\u001b[0;34m,\u001b[0m \u001b[0;34m\"__subclasscheck__\"\u001b[0m\u001b[0;34m:\u001b[0m \u001b[0m_check\u001b[0m\u001b[0;34m}\u001b[0m\u001b[0;34m\u001b[0m\u001b[0;34m\u001b[0m\u001b[0m\n",
            "\u001b[0;31mKeyboardInterrupt\u001b[0m: "
          ]
        }
      ]
    },
    {
      "cell_type": "code",
      "source": [
        ""
      ],
      "metadata": {
        "colab": {
          "base_uri": "https://localhost:8080/",
          "height": 376
        },
        "id": "HZ7yMVifN7Yq",
        "outputId": "0697883c-d95a-4944-92a5-b9b09ed75391"
      },
      "id": "HZ7yMVifN7Yq",
      "execution_count": 60,
      "outputs": [
        {
          "output_type": "execute_result",
          "data": {
            "text/plain": [
              "<matplotlib.axes._subplots.AxesSubplot at 0x7f6c018d0e50>"
            ]
          },
          "metadata": {},
          "execution_count": 60
        },
        {
          "output_type": "display_data",
          "data": {
            "text/plain": [
              "<Figure size 1080x576 with 2 Axes>"
            ],
            "image/png": "[encoded data removed]"
          },
          "metadata": {}
        }
      ]
    },
    {
      "cell_type": "code",
      "source": [
        "# review data\n",
        "sum_stats=df.describe().round(0)\n",
        "sum_stats"
      ],
      "metadata": {
        "colab": {
          "base_uri": "https://localhost:8080/",
          "height": 361
        },
        "id": "KXBDkTaIxhEc",
        "outputId": "7cd43eb1-1f18-405c-de79-8c3956e785c3"
      },
      "id": "KXBDkTaIxhEc",
      "execution_count": 97,
      "outputs": [
        {
          "output_type": "execute_result",
          "data": {
            "text/plain": [
              "       loan_amount  rate_of_interest      term  property_value    income  \\\n",
              "count     148670.0          112231.0  148629.0        133572.0  139520.0   \n",
              "mean      331118.0               4.0     335.0        497893.0    6957.0   \n",
              "std       183909.0               1.0      58.0        359935.0    6497.0   \n",
              "min        16500.0               0.0      96.0          8000.0       0.0   \n",
              "25%       196500.0               4.0     360.0        268000.0    3720.0   \n",
              "50%       296500.0               4.0     360.0        418000.0    5760.0   \n",
              "75%       436500.0               4.0     360.0        628000.0    8520.0   \n",
              "max      3576500.0               8.0     360.0      16508000.0  578580.0   \n",
              "\n",
              "       Credit_Score    Status  \n",
              "count      148670.0  148670.0  \n",
              "mean          700.0       0.0  \n",
              "std           116.0       0.0  \n",
              "min           500.0       0.0  \n",
              "25%           599.0       0.0  \n",
              "50%           699.0       0.0  \n",
              "75%           800.0       0.0  \n",
              "max           900.0       1.0  "
            ],
            "text/html": [
              "\n",
              "  <div id=\"df-43362b3a-41e0-4d57-9fca-a8e877eb9d57\">\n",
              "    <div class=\"colab-df-container\">\n",
              "      <div>\n",
              "<style scoped>\n",
              "    .dataframe tbody tr th:only-of-type {\n",
              "        vertical-align: middle;\n",
              "    }\n",
              "\n",
              "    .dataframe tbody tr th {\n",
              "        vertical-align: top;\n",
              "    }\n",
              "\n",
              "    .dataframe thead th {\n",
              "        text-align: right;\n",
              "    }\n",
              "</style>\n",
              "<table border=\"1\" class=\"dataframe\">\n",
              "  <thead>\n",
              "    <tr style=\"text-align: right;\">\n",
              "      <th></th>\n",
              "      <th>loan_amount</th>\n",
              "      <th>rate_of_interest</th>\n",
              "      <th>term</th>\n",
              "      <th>property_value</th>\n",
              "      <th>income</th>\n",
              "      <th>Credit_Score</th>\n",
              "      <th>Status</th>\n",
              "    </tr>\n",
              "  </thead>\n",
              "  <tbody>\n",
              "    <tr>\n",
              "      <th>count</th>\n",
              "      <td>148670.0</td>\n",
              "      <td>112231.0</td>\n",
              "      <td>148629.0</td>\n",
              "      <td>133572.0</td>\n",
              "      <td>139520.0</td>\n",
              "      <td>148670.0</td>\n",
              "      <td>148670.0</td>\n",
              "    </tr>\n",
              "    <tr>\n",
              "      <th>mean</th>\n",
              "      <td>331118.0</td>\n",
              "      <td>4.0</td>\n",
              "      <td>335.0</td>\n",
              "      <td>497893.0</td>\n",
              "      <td>6957.0</td>\n",
              "      <td>700.0</td>\n",
              "      <td>0.0</td>\n",
              "    </tr>\n",
              "    <tr>\n",
              "      <th>std</th>\n",
              "      <td>183909.0</td>\n",
              "      <td>1.0</td>\n",
              "      <td>58.0</td>\n",
              "      <td>359935.0</td>\n",
              "      <td>6497.0</td>\n",
              "      <td>116.0</td>\n",
              "      <td>0.0</td>\n",
              "    </tr>\n",
              "    <tr>\n",
              "      <th>min</th>\n",
              "      <td>16500.0</td>\n",
              "      <td>0.0</td>\n",
              "      <td>96.0</td>\n",
              "      <td>8000.0</td>\n",
              "      <td>0.0</td>\n",
              "      <td>500.0</td>\n",
              "      <td>0.0</td>\n",
              "    </tr>\n",
              "    <tr>\n",
              "      <th>25%</th>\n",
              "      <td>196500.0</td>\n",
              "      <td>4.0</td>\n",
              "      <td>360.0</td>\n",
              "      <td>268000.0</td>\n",
              "      <td>3720.0</td>\n",
              "      <td>599.0</td>\n",
              "      <td>0.0</td>\n",
              "    </tr>\n",
              "    <tr>\n",
              "      <th>50%</th>\n",
              "      <td>296500.0</td>\n",
              "      <td>4.0</td>\n",
              "      <td>360.0</td>\n",
              "      <td>418000.0</td>\n",
              "      <td>5760.0</td>\n",
              "      <td>699.0</td>\n",
              "      <td>0.0</td>\n",
              "    </tr>\n",
              "    <tr>\n",
              "      <th>75%</th>\n",
              "      <td>436500.0</td>\n",
              "      <td>4.0</td>\n",
              "      <td>360.0</td>\n",
              "      <td>628000.0</td>\n",
              "      <td>8520.0</td>\n",
              "      <td>800.0</td>\n",
              "      <td>0.0</td>\n",
              "    </tr>\n",
              "    <tr>\n",
              "      <th>max</th>\n",
              "      <td>3576500.0</td>\n",
              "      <td>8.0</td>\n",
              "      <td>360.0</td>\n",
              "      <td>16508000.0</td>\n",
              "      <td>578580.0</td>\n",
              "      <td>900.0</td>\n",
              "      <td>1.0</td>\n",
              "    </tr>\n",
              "  </tbody>\n",
              "</table>\n",
              "</div>\n",
              "      <button class=\"colab-df-convert\" onclick=\"convertToInteractive('df-43362b3a-41e0-4d57-9fca-a8e877eb9d57')\"\n",
              "              title=\"Convert this dataframe to an interactive table.\"\n",
              "              style=\"display:none;\">\n",
              "        \n",
              "  <svg xmlns=\"http://www.w3.org/2000/svg\" height=\"24px\"viewBox=\"0 0 24 24\"\n",
              "       width=\"24px\">\n",
              "    <path d=\"M0 0h24v24H0V0z\" fill=\"none\"/>\n",
              "    <path d=\"M18.56 5.44l.94 2.06.94-2.06 2.06-.94-2.06-.94-.94-2.06-.94 2.06-2.06.94zm-11 1L8.5 8.5l.94-2.06 2.06-.94-2.06-.94L8.5 2.5l-.94 2.06-2.06.94zm10 10l.94 2.06.94-2.06 2.06-.94-2.06-.94-.94-2.06-.94 2.06-2.06.94z\"/><path d=\"M17.41 7.96l-1.37-1.37c-.4-.4-.92-.59-1.43-.59-.52 0-1.04.2-1.43.59L10.3 9.45l-7.72 7.72c-.78.78-.78 2.05 0 2.83L4 21.41c.39.39.9.59 1.41.59.51 0 1.02-.2 1.41-.59l7.78-7.78 2.81-2.81c.8-.78.8-2.07 0-2.86zM5.41 20L4 18.59l7.72-7.72 1.47 1.35L5.41 20z\"/>\n",
              "  </svg>\n",
              "      </button>\n",
              "      \n",
              "  <style>\n",
              "    .colab-df-container {\n",
              "      display:flex;\n",
              "      flex-wrap:wrap;\n",
              "      gap: 12px;\n",
              "    }\n",
              "\n",
              "    .colab-df-convert {\n",
              "      background-color: #E8F0FE;\n",
              "      border: none;\n",
              "      border-radius: 50%;\n",
              "      cursor: pointer;\n",
              "      display: none;\n",
              "      fill: #1967D2;\n",
              "      height: 32px;\n",
              "      padding: 0 0 0 0;\n",
              "      width: 32px;\n",
              "    }\n",
              "\n",
              "    .colab-df-convert:hover {\n",
              "      background-color: #E2EBFA;\n",
              "      box-shadow: 0px 1px 2px rgba(60, 64, 67, 0.3), 0px 1px 3px 1px rgba(60, 64, 67, 0.15);\n",
              "      fill: #174EA6;\n",
              "    }\n",
              "\n",
              "    [theme=dark] .colab-df-convert {\n",
              "      background-color: #3B4455;\n",
              "      fill: #D2E3FC;\n",
              "    }\n",
              "\n",
              "    [theme=dark] .colab-df-convert:hover {\n",
              "      background-color: #434B5C;\n",
              "      box-shadow: 0px 1px 3px 1px rgba(0, 0, 0, 0.15);\n",
              "      filter: drop-shadow(0px 1px 2px rgba(0, 0, 0, 0.3));\n",
              "      fill: #FFFFFF;\n",
              "    }\n",
              "  </style>\n",
              "\n",
              "      <script>\n",
              "        const buttonEl =\n",
              "          document.querySelector('#df-43362b3a-41e0-4d57-9fca-a8e877eb9d57 button.colab-df-convert');\n",
              "        buttonEl.style.display =\n",
              "          google.colab.kernel.accessAllowed ? 'block' : 'none';\n",
              "\n",
              "        async function convertToInteractive(key) {\n",
              "          const element = document.querySelector('#df-43362b3a-41e0-4d57-9fca-a8e877eb9d57');\n",
              "          const dataTable =\n",
              "            await google.colab.kernel.invokeFunction('convertToInteractive',\n",
              "                                                     [key], {});\n",
              "          if (!dataTable) return;\n",
              "\n",
              "          const docLinkHtml = 'Like what you see? Visit the ' +\n",
              "            '<a target=\"_blank\" href=https://colab.research.google.com/notebooks/data_table.ipynb>data table notebook</a>'\n",
              "            + ' to learn more about interactive tables.';\n",
              "          element.innerHTML = '';\n",
              "          dataTable['output_type'] = 'display_data';\n",
              "          await google.colab.output.renderOutput(dataTable, element);\n",
              "          const docLink = document.createElement('div');\n",
              "          docLink.innerHTML = docLinkHtml;\n",
              "          element.appendChild(docLink);\n",
              "        }\n",
              "      </script>\n",
              "    </div>\n",
              "  </div>\n",
              "  "
            ]
          },
          "metadata": {},
          "execution_count": 97
        }
      ]
    },
    {
      "cell_type": "code",
      "execution_count": 98,
      "id": "66ff8f31-f610-43fc-8da5-7cce5e8ced09",
      "metadata": {
        "colab": {
          "base_uri": "https://localhost:8080/"
        },
        "id": "66ff8f31-f610-43fc-8da5-7cce5e8ced09",
        "outputId": "8ff8e83b-753f-4486-df46-a25b41958704"
      },
      "outputs": [
        {
          "output_type": "stream",
          "name": "stdout",
          "text": [
            "loan_type                       0\n",
            "loan_purpose                  134\n",
            "business_or_commercial          0\n",
            "loan_amount                     0\n",
            "rate_of_interest            36439\n",
            "term                           41\n",
            "interest_only                   0\n",
            "property_value              15098\n",
            "occupancy_type                  0\n",
            "Secured_by                      0\n",
            "income                       9150\n",
            "credit_type                     0\n",
            "Credit_Score                    0\n",
            "co-applicant_credit_type        0\n",
            "age                           200\n",
            "Status                          0\n",
            "dtype: int64\n"
          ]
        }
      ],
      "source": [
        "print(df.isnull().sum())"
      ]
    },
    {
      "cell_type": "code",
      "source": [
        "# data clean up \n",
        "df = df.drop(columns=['rate_of_interest'])\n",
        "df.round({\"term\":0, \"property_value\":0})\n",
        "## ask group about replacing property value with avg of column \n",
        "# df =  \n",
        "df.head()\n",
        "df.dtypes"
      ],
      "metadata": {
        "colab": {
          "base_uri": "https://localhost:8080/"
        },
        "id": "O_Df2VeBwSCE",
        "outputId": "99062655-cd7d-40ef-ca60-445525de8a34"
      },
      "id": "O_Df2VeBwSCE",
      "execution_count": 99,
      "outputs": [
        {
          "output_type": "execute_result",
          "data": {
            "text/plain": [
              "loan_type                    object\n",
              "loan_purpose                 object\n",
              "business_or_commercial       object\n",
              "loan_amount                   int64\n",
              "term                        float64\n",
              "interest_only                object\n",
              "property_value              float64\n",
              "occupancy_type               object\n",
              "Secured_by                   object\n",
              "income                      float64\n",
              "credit_type                  object\n",
              "Credit_Score                  int64\n",
              "co-applicant_credit_type     object\n",
              "age                          object\n",
              "Status                        int64\n",
              "dtype: object"
            ]
          },
          "metadata": {},
          "execution_count": 99
        }
      ]
    },
    {
      "cell_type": "code",
      "source": [
        "\n",
        "# df = df.astype({'term':'float', 'loan_amount':'float','property_value':'float','income':'float','Credit_Score':'float'})\n",
        "# df.dtypes"
      ],
      "metadata": {
        "id": "QdGiYY2aSWR3"
      },
      "id": "QdGiYY2aSWR3",
      "execution_count": 100,
      "outputs": []
    },
    {
      "cell_type": "code",
      "source": [
        "# Main stats of categoric attributes:\n",
        "print(df.describe(include=[np.object]))\n",
        "\n",
        "# define categories\n",
        "cats = df.dtypes[df.dtypes=='object'].index\n",
        "cats"
      ],
      "metadata": {
        "colab": {
          "base_uri": "https://localhost:8080/"
        },
        "id": "gdhC23A8w4lX",
        "outputId": "ccd8aed5-b44b-47fc-a914-efa538faf1e0"
      },
      "id": "gdhC23A8w4lX",
      "execution_count": 101,
      "outputs": [
        {
          "output_type": "stream",
          "name": "stdout",
          "text": [
            "       loan_type loan_purpose business_or_commercial interest_only  \\\n",
            "count     148670       148536                 148670        148670   \n",
            "unique         3            4                      2             2   \n",
            "top        type1           p3                  nob/c       not_int   \n",
            "freq      113173        55934                 127908        141560   \n",
            "\n",
            "       occupancy_type Secured_by credit_type co-applicant_credit_type     age  \n",
            "count          148670     148670      148670                   148670  148470  \n",
            "unique              3          2           4                        2       7  \n",
            "top                pr       home         CIB                      CIB   45-54  \n",
            "freq           138201     148637       48152                    74392   34720  \n"
          ]
        },
        {
          "output_type": "stream",
          "name": "stderr",
          "text": [
            "/usr/local/lib/python3.7/dist-packages/ipykernel_launcher.py:2: DeprecationWarning: `np.object` is a deprecated alias for the builtin `object`. To silence this warning, use `object` by itself. Doing this will not modify any behavior and is safe. \n",
            "Deprecated in NumPy 1.20; for more details and guidance: https://numpy.org/devdocs/release/1.20.0-notes.html#deprecations\n",
            "  \n"
          ]
        },
        {
          "output_type": "execute_result",
          "data": {
            "text/plain": [
              "Index(['loan_type', 'loan_purpose', 'business_or_commercial', 'interest_only',\n",
              "       'occupancy_type', 'Secured_by', 'credit_type',\n",
              "       'co-applicant_credit_type', 'age'],\n",
              "      dtype='object')"
            ]
          },
          "metadata": {},
          "execution_count": 101
        }
      ]
    },
    {
      "cell_type": "code",
      "source": [
        "# Type of variables:\n",
        "df.dtypes.sort_values(ascending=True)\n"
      ],
      "metadata": {
        "colab": {
          "base_uri": "https://localhost:8080/"
        },
        "id": "CAetkxYXxxTL",
        "outputId": "4e82dd19-3848-4990-dcf2-55c435e9a476"
      },
      "id": "CAetkxYXxxTL",
      "execution_count": 102,
      "outputs": [
        {
          "output_type": "execute_result",
          "data": {
            "text/plain": [
              "loan_amount                   int64\n",
              "Credit_Score                  int64\n",
              "Status                        int64\n",
              "term                        float64\n",
              "property_value              float64\n",
              "income                      float64\n",
              "loan_type                    object\n",
              "loan_purpose                 object\n",
              "business_or_commercial       object\n",
              "interest_only                object\n",
              "occupancy_type               object\n",
              "Secured_by                   object\n",
              "credit_type                  object\n",
              "co-applicant_credit_type     object\n",
              "age                          object\n",
              "dtype: object"
            ]
          },
          "metadata": {},
          "execution_count": 102
        }
      ]
    },
    {
      "cell_type": "code",
      "source": [
        "# correlation matrix\n",
        "\n",
        "core = df.corr()\n",
        "sns.set(rc = {'figure.figsize':(15,8)}, style=\"whitegrid\")\n",
        "sns.heatmap(\n",
        "    core, \n",
        "    xticklabels = core.columns, \n",
        "    yticklabels = core.columns,\n",
        "    annot=True,\n",
        "    linewidth=.5,\n",
        "    cmap=\"YlGnBu\"\n",
        ")\n"
      ],
      "metadata": {
        "colab": {
          "base_uri": "https://localhost:8080/",
          "height": 409
        },
        "id": "6zDPyz3vTcsA",
        "outputId": "693d2279-51a8-41fa-f736-fd8f4c0bd228"
      },
      "id": "6zDPyz3vTcsA",
      "execution_count": 103,
      "outputs": [
        {
          "output_type": "execute_result",
          "data": {
            "text/plain": [
              "<matplotlib.axes._subplots.AxesSubplot at 0x7f6bffee5110>"
            ]
          },
          "metadata": {},
          "execution_count": 103
        },
        {
          "output_type": "display_data",
          "data": {
            "text/plain": [
              "<Figure size 1080x576 with 2 Axes>"
            ],
            "image/png": "[encoded data removed]"
          },
          "metadata": {}
        }
      ]
    },
    {
      "cell_type": "code",
      "source": [
        "# year + status\n",
        "print(df.Status.value_counts())\n",
        "print(df.age.describe())\n",
        "\n",
        "print(df['age'])\n",
        "\n",
        "# replace age ranges with group #\n",
        "# age group 1 = 25-34\n",
        "# age group 2 = 35-44\n",
        "# age group 3 = 45-54\n",
        "# age group 4 = 55-64\n",
        "\n",
        "\n",
        "\n",
        "# change type\n",
        "# df = df.astype({'Status':'float'})\n",
        "\n",
        "\n",
        "# plot \n",
        "fig, ax=plt.subplots(1, 2)\n",
        "plot_count=0\n",
        "for status in df['Status'].unique(): \n",
        "    df[df['Status']==status].age.hist(ax=ax[plot_count])\n",
        "    ax[plot_count].set_title(status)\n",
        "    plot_count+=1"
      ],
      "metadata": {
        "id": "vGqUIRzwFctf",
        "colab": {
          "base_uri": "https://localhost:8080/",
          "height": 700
        },
        "outputId": "d6c2c099-dcb6-4f0d-f603-2b72f7f73f07"
      },
      "id": "vGqUIRzwFctf",
      "execution_count": 104,
      "outputs": [
        {
          "output_type": "stream",
          "name": "stdout",
          "text": [
            "0    112031\n",
            "1     36639\n",
            "Name: Status, dtype: int64\n",
            "count     148470\n",
            "unique         7\n",
            "top        45-54\n",
            "freq       34720\n",
            "Name: age, dtype: object\n",
            "0         25-34\n",
            "1         55-64\n",
            "2         35-44\n",
            "3         45-54\n",
            "4         25-34\n",
            "          ...  \n",
            "148665    55-64\n",
            "148666    25-34\n",
            "148667    45-54\n",
            "148668    55-64\n",
            "148669    45-54\n",
            "Name: age, Length: 148670, dtype: object\n"
          ]
        },
        {
          "output_type": "display_data",
          "data": {
            "text/plain": [
              "<Figure size 1080x576 with 2 Axes>"
            ],
            "image/png": "[encoded data removed]"
          },
          "metadata": {}
        }
      ]
    },
    {
      "cell_type": "code",
      "source": [
        "# status + loan amount\n",
        "display(df['loan_amount'].describe().round())\n",
        "\n",
        "print(\"The max loan amount is $3576500.00 and the min loan amount is $16500.00\"  )\n",
        "\n",
        "# plot \n",
        "fig, ax=plt.subplots(1, 2)\n",
        "plot_count=0\n",
        "for status in df['Status'].unique(): \n",
        "    df[df['Status']==status].loan_amount.hist(ax=ax[plot_count])\n",
        "    ax[plot_count].set_title(status)\n",
        "    plot_count+=1"
      ],
      "metadata": {
        "colab": {
          "base_uri": "https://localhost:8080/",
          "height": 536
        },
        "id": "DKlO2EpiUMdk",
        "outputId": "f1c92729-1cbb-4f22-e81b-b9b88c61bf9a"
      },
      "id": "DKlO2EpiUMdk",
      "execution_count": 105,
      "outputs": [
        {
          "output_type": "display_data",
          "data": {
            "text/plain": [
              "count     148670.0\n",
              "mean      331118.0\n",
              "std       183909.0\n",
              "min        16500.0\n",
              "25%       196500.0\n",
              "50%       296500.0\n",
              "75%       436500.0\n",
              "max      3576500.0\n",
              "Name: loan_amount, dtype: float64"
            ]
          },
          "metadata": {}
        },
        {
          "output_type": "stream",
          "name": "stdout",
          "text": [
            "The max loan amount is $3576500.00 and the min loan amount is $16500.00\n"
          ]
        },
        {
          "output_type": "display_data",
          "data": {
            "text/plain": [
              "<Figure size 1080x576 with 2 Axes>"
            ],
            "image/png": "[encoded data removed]"
          },
          "metadata": {}
        }
      ]
    },
    {
      "cell_type": "code",
      "source": [
        "# status + loan_purpose\n",
        "display(df['loan_purpose'].describe())\n",
        "\n",
        "print(\"The most common reason for a loan is p3\" )\n",
        "\n",
        "# plot \n",
        "fig, ax=plt.subplots(1, 2)\n",
        "plot_count=0\n",
        "for status in df['Status'].unique(): \n",
        "    df[df['Status']==status].loan_purpose.hist(ax=ax[plot_count])\n",
        "    ax[plot_count].set_title(status)\n",
        "    plot_count+=1"
      ],
      "metadata": {
        "colab": {
          "base_uri": "https://localhost:8080/",
          "height": 459
        },
        "id": "ClKZ0tlDWDR6",
        "outputId": "7bb5c023-81a4-4ef6-9d7c-8318fbe675a4"
      },
      "id": "ClKZ0tlDWDR6",
      "execution_count": 106,
      "outputs": [
        {
          "output_type": "display_data",
          "data": {
            "text/plain": [
              "count     148536\n",
              "unique         4\n",
              "top           p3\n",
              "freq       55934\n",
              "Name: loan_purpose, dtype: object"
            ]
          },
          "metadata": {}
        },
        {
          "output_type": "stream",
          "name": "stdout",
          "text": [
            "The most common reason for a loan is p3\n"
          ]
        },
        {
          "output_type": "display_data",
          "data": {
            "text/plain": [
              "<Figure size 1080x576 with 2 Axes>"
            ],
            "image/png": "[encoded data removed]"
          },
          "metadata": {}
        }
      ]
    },
    {
      "cell_type": "code",
      "source": [
        "# status + business_or_commercial\n",
        "display(df['business_or_commercial'].describe())\n",
        "\n",
        "print(\"The most common type of loan is the nob/c loan\" )\n",
        "\n",
        "# plot \n",
        "fig, ax=plt.subplots(1, 2)\n",
        "plot_count=0\n",
        "for status in df['Status'].unique(): \n",
        "    df[df['Status']==status].business_or_commercial.hist(ax=ax[plot_count])\n",
        "    ax[plot_count].set_title(status)\n",
        "    plot_count+=1"
      ],
      "metadata": {
        "colab": {
          "base_uri": "https://localhost:8080/",
          "height": 459
        },
        "id": "eQbXpzLZWkav",
        "outputId": "a0cd0250-1512-41f5-8beb-b7a2494ac149"
      },
      "id": "eQbXpzLZWkav",
      "execution_count": 109,
      "outputs": [
        {
          "output_type": "display_data",
          "data": {
            "text/plain": [
              "count     148670\n",
              "unique         2\n",
              "top        nob/c\n",
              "freq      127908\n",
              "Name: business_or_commercial, dtype: object"
            ]
          },
          "metadata": {}
        },
        {
          "output_type": "stream",
          "name": "stdout",
          "text": [
            "The most common type of loan is the nob/c loan\n"
          ]
        },
        {
          "output_type": "display_data",
          "data": {
            "text/plain": [
              "<Figure size 1080x576 with 2 Axes>"
            ],
            "image/png": "[encoded data removed]"
          },
          "metadata": {}
        }
      ]
    },
    {
      "cell_type": "code",
      "source": [
        "# status + term\n",
        "display(df['term'].describe())\n",
        "\n",
        "print(\"The average term of a loan is 335.2 days. The min is 96 days and the max is 360 days.\" )\n",
        "\n",
        "# plot \n",
        "fig, ax=plt.subplots(1, 2)\n",
        "plot_count=0\n",
        "for status in df['Status'].unique(): \n",
        "    df[df['Status']==status].term.hist(ax=ax[plot_count])\n",
        "    ax[plot_count].set_title(status)\n",
        "    plot_count+=1"
      ],
      "metadata": {
        "colab": {
          "base_uri": "https://localhost:8080/",
          "height": 547
        },
        "id": "ythAYRNKYJRL",
        "outputId": "8b70db91-d432-40e7-cd27-4343787616c2"
      },
      "id": "ythAYRNKYJRL",
      "execution_count": 112,
      "outputs": [
        {
          "output_type": "display_data",
          "data": {
            "text/plain": [
              "count    148629.000000\n",
              "mean        335.136582\n",
              "std          58.409084\n",
              "min          96.000000\n",
              "25%         360.000000\n",
              "50%         360.000000\n",
              "75%         360.000000\n",
              "max         360.000000\n",
              "Name: term, dtype: float64"
            ]
          },
          "metadata": {}
        },
        {
          "output_type": "stream",
          "name": "stdout",
          "text": [
            "The average term of a loan is 335.2 days. The min is 96 days and the max is 360 days.\n"
          ]
        },
        {
          "output_type": "display_data",
          "data": {
            "text/plain": [
              "<Figure size 1080x576 with 2 Axes>"
            ],
            "image/png": "[encoded data removed]"
          },
          "metadata": {}
        }
      ]
    },
    {
      "cell_type": "code",
      "source": [
        "# status + interest_only\n",
        "display(df['interest_only'].describe())\n",
        "\n",
        "# print(\"The average term of a loan is 335.2 days. The min is 96 days and the max is 360 days.\" )\n",
        "\n",
        "# plot \n",
        "fig, ax=plt.subplots(1, 2)\n",
        "plot_count=0\n",
        "for status in df['Status'].unique(): \n",
        "    df[df['Status']==status].interest_only.hist(ax=ax[plot_count])\n",
        "    ax[plot_count].set_title(status)\n",
        "    plot_count+=1"
      ],
      "metadata": {
        "colab": {
          "base_uri": "https://localhost:8080/",
          "height": 370
        },
        "id": "e5nRHNaEYh6g",
        "outputId": "5adda22f-377e-4c93-a20e-a1610c3dde2a"
      },
      "id": "e5nRHNaEYh6g",
      "execution_count": 116,
      "outputs": [
        {
          "output_type": "display_data",
          "data": {
            "text/plain": [
              "count      148670\n",
              "unique          2\n",
              "top       not_int\n",
              "freq       141560\n",
              "Name: interest_only, dtype: object"
            ]
          },
          "metadata": {}
        },
        {
          "output_type": "display_data",
          "data": {
            "text/plain": [
              "<Figure size 432x288 with 2 Axes>"
            ],
            "image/png": "[encoded data removed]"
          },
          "metadata": {
            "needs_background": "light"
          }
        }
      ]
    },
    {
      "cell_type": "code",
      "source": [
        "# status + property_value\n",
        "display(df['property_value'].describe().round())\n",
        "\n",
        "print(\"The average property value of the customer is $497,893.00\" )\n",
        "\n",
        "# plot \n",
        "fig, ax=plt.subplots(1, 2)\n",
        "plot_count=0\n",
        "for status in df['Status'].unique(): \n",
        "    df[df['Status']==status].property_value.hist(ax=ax[plot_count])\n",
        "    ax[plot_count].set_title(status)\n",
        "    plot_count+=1"
      ],
      "metadata": {
        "colab": {
          "base_uri": "https://localhost:8080/",
          "height": 467
        },
        "id": "iYWnD1AxnZL7",
        "outputId": "9cc87a84-9547-451e-ddb4-81f32ff469c6"
      },
      "id": "iYWnD1AxnZL7",
      "execution_count": 119,
      "outputs": [
        {
          "output_type": "display_data",
          "data": {
            "text/plain": [
              "count      133572.0\n",
              "mean       497893.0\n",
              "std        359935.0\n",
              "min          8000.0\n",
              "25%        268000.0\n",
              "50%        418000.0\n",
              "75%        628000.0\n",
              "max      16508000.0\n",
              "Name: property_value, dtype: float64"
            ]
          },
          "metadata": {}
        },
        {
          "output_type": "stream",
          "name": "stdout",
          "text": [
            "The average property value of the customer is $497,893.00\n"
          ]
        },
        {
          "output_type": "display_data",
          "data": {
            "text/plain": [
              "<Figure size 432x288 with 2 Axes>"
            ],
            "image/png": "[encoded data removed]"
          },
          "metadata": {
            "needs_background": "light"
          }
        }
      ]
    },
    {
      "cell_type": "code",
      "source": [
        "# status + occupancy_type\n",
        "display(df['occupancy_type'].describe())\n",
        "\n",
        "print(\"The most common occupancy type is pr\" )\n",
        "\n",
        "# plot \n",
        "fig, ax=plt.subplots(1, 2)\n",
        "plot_count=0\n",
        "for status in df['Status'].unique(): \n",
        "    df[df['Status']==status].occupancy_type.hist(ax=ax[plot_count])\n",
        "    ax[plot_count].set_title(status)\n",
        "    plot_count+=1"
      ],
      "metadata": {
        "colab": {
          "base_uri": "https://localhost:8080/",
          "height": 386
        },
        "id": "nrwdNipioNgn",
        "outputId": "79568841-6332-4705-ce27-7ab0ff7d3951"
      },
      "id": "nrwdNipioNgn",
      "execution_count": 122,
      "outputs": [
        {
          "output_type": "display_data",
          "data": {
            "text/plain": [
              "count     148670\n",
              "unique         3\n",
              "top           pr\n",
              "freq      138201\n",
              "Name: occupancy_type, dtype: object"
            ]
          },
          "metadata": {}
        },
        {
          "output_type": "stream",
          "name": "stdout",
          "text": [
            "The most common occupancy type is pr\n"
          ]
        },
        {
          "output_type": "display_data",
          "data": {
            "text/plain": [
              "<Figure size 432x288 with 2 Axes>"
            ],
            "image/png": "[encoded data removed]"
          },
          "metadata": {
            "needs_background": "light"
          }
        }
      ]
    },
    {
      "cell_type": "code",
      "source": [
        "# status + Secured_by\n",
        "display(df['Secured_by'].describe())\n",
        "display(df['Secured_by'].isnull().sum())\n",
        "\n",
        "print(\"The most way people secure a loan is by using their house as collateral.\" )\n",
        "\n",
        "# plot \n",
        "fig, ax=plt.subplots(1, 2)\n",
        "plot_count=0\n",
        "for status in df['Status'].unique(): \n",
        "    df[df['Status']==status].Secured_by.hist(ax=ax[plot_count])\n",
        "    ax[plot_count].set_title(status)\n",
        "    plot_count+=1"
      ],
      "metadata": {
        "colab": {
          "base_uri": "https://localhost:8080/",
          "height": 403
        },
        "id": "WRt_OUN4of6J",
        "outputId": "d7490c49-6c46-43dd-a3b3-0dd69c17da9b"
      },
      "id": "WRt_OUN4of6J",
      "execution_count": 125,
      "outputs": [
        {
          "output_type": "display_data",
          "data": {
            "text/plain": [
              "count     148670\n",
              "unique         2\n",
              "top         home\n",
              "freq      148637\n",
              "Name: Secured_by, dtype: object"
            ]
          },
          "metadata": {}
        },
        {
          "output_type": "display_data",
          "data": {
            "text/plain": [
              "0"
            ]
          },
          "metadata": {}
        },
        {
          "output_type": "stream",
          "name": "stdout",
          "text": [
            "The most way people secure a loan is by using their house as collateral.\n"
          ]
        },
        {
          "output_type": "display_data",
          "data": {
            "text/plain": [
              "<Figure size 432x288 with 2 Axes>"
            ],
            "image/png": "[encoded data removed]"
          },
          "metadata": {
            "needs_background": "light"
          }
        }
      ]
    },
    {
      "cell_type": "code",
      "source": [
        "# status + income\n",
        "display(df['income'].describe())\n",
        "display(df['income'].isnull().sum())\n",
        "\n",
        "print(\"The average monthly income of the person requesting the loan is $6957.33.\" )\n",
        "\n",
        "# plot \n",
        "fig, ax=plt.subplots(1, 2)\n",
        "plot_count=0\n",
        "for status in df['Status'].unique(): \n",
        "    df[df['Status']==status].income.hist(ax=ax[plot_count])\n",
        "    ax[plot_count].set_title(status)\n",
        "    plot_count+=1"
      ],
      "metadata": {
        "colab": {
          "base_uri": "https://localhost:8080/",
          "height": 471
        },
        "id": "U_jYNau1o-qr",
        "outputId": "3dabb90c-ca9f-490c-8291-4e9cf6c7855d"
      },
      "id": "U_jYNau1o-qr",
      "execution_count": 127,
      "outputs": [
        {
          "output_type": "display_data",
          "data": {
            "text/plain": [
              "count    139520.000000\n",
              "mean       6957.338876\n",
              "std        6496.586382\n",
              "min           0.000000\n",
              "25%        3720.000000\n",
              "50%        5760.000000\n",
              "75%        8520.000000\n",
              "max      578580.000000\n",
              "Name: income, dtype: float64"
            ]
          },
          "metadata": {}
        },
        {
          "output_type": "display_data",
          "data": {
            "text/plain": [
              "9150"
            ]
          },
          "metadata": {}
        },
        {
          "output_type": "stream",
          "name": "stdout",
          "text": [
            "The average monthly income of the person requesting the loan is $6957.33.\n"
          ]
        },
        {
          "output_type": "display_data",
          "data": {
            "text/plain": [
              "<Figure size 432x288 with 2 Axes>"
            ],
            "image/png": "[encoded data removed]"
          },
          "metadata": {
            "needs_background": "light"
          }
        }
      ]
    },
    {
      "cell_type": "markdown",
      "source": [
        ""
      ],
      "metadata": {
        "id": "P0G3RbqLYG-B"
      },
      "id": "P0G3RbqLYG-B"
    },
    {
      "cell_type": "code",
      "source": [
        "\n",
        "# status + credit_type\n",
        "display(df['credit_type'].describe())\n",
        "display(df['credit_type'].isnull().sum())\n",
        "\n",
        "print(\"The most common credit_type is CIB.\" )\n",
        "\n",
        "# plot \n",
        "fig, ax=plt.subplots(1, 2)\n",
        "plot_count=0\n",
        "for status in df['Status'].unique(): \n",
        "    df[df['Status']==status].credit_type.hist(ax=ax[plot_count])\n",
        "    ax[plot_count].set_title(status)\n",
        "    plot_count+=1"
      ],
      "metadata": {
        "colab": {
          "base_uri": "https://localhost:8080/",
          "height": 403
        },
        "id": "6bMnmwnSpq4Y",
        "outputId": "fd819b17-d606-4753-c622-e0f5ad791f0c"
      },
      "id": "6bMnmwnSpq4Y",
      "execution_count": 129,
      "outputs": [
        {
          "output_type": "display_data",
          "data": {
            "text/plain": [
              "count     148670\n",
              "unique         4\n",
              "top          CIB\n",
              "freq       48152\n",
              "Name: credit_type, dtype: object"
            ]
          },
          "metadata": {}
        },
        {
          "output_type": "display_data",
          "data": {
            "text/plain": [
              "0"
            ]
          },
          "metadata": {}
        },
        {
          "output_type": "stream",
          "name": "stdout",
          "text": [
            "The most common credit_type is CIB.\n"
          ]
        },
        {
          "output_type": "display_data",
          "data": {
            "text/plain": [
              "<Figure size 432x288 with 2 Axes>"
            ],
            "image/png": "[encoded data removed]"
          },
          "metadata": {
            "needs_background": "light"
          }
        }
      ]
    },
    {
      "cell_type": "code",
      "source": [
        "\n",
        "# status + Credit_Score\n",
        "display(df['Credit_Score'].describe().round())\n",
        "display(df['Credit_Score'].isnull().sum())\n",
        "\n",
        "print(\"The average Credit Score among applicants is 700.\" )\n",
        "\n",
        "# plot \n",
        "fig, ax=plt.subplots(1, 2)\n",
        "plot_count=0\n",
        "for status in df['Status'].unique(): \n",
        "    df[df['Status']==status].Credit_Score.hist(ax=ax[plot_count])\n",
        "    ax[plot_count].set_title(status)\n",
        "    plot_count+=1"
      ],
      "metadata": {
        "colab": {
          "base_uri": "https://localhost:8080/",
          "height": 471
        },
        "id": "YPAIlJDpqX_I",
        "outputId": "be7cdaea-edb6-4bef-85e2-1b69e17d531f"
      },
      "id": "YPAIlJDpqX_I",
      "execution_count": 131,
      "outputs": [
        {
          "output_type": "display_data",
          "data": {
            "text/plain": [
              "count    148670.0\n",
              "mean        700.0\n",
              "std         116.0\n",
              "min         500.0\n",
              "25%         599.0\n",
              "50%         699.0\n",
              "75%         800.0\n",
              "max         900.0\n",
              "Name: Credit_Score, dtype: float64"
            ]
          },
          "metadata": {}
        },
        {
          "output_type": "display_data",
          "data": {
            "text/plain": [
              "0"
            ]
          },
          "metadata": {}
        },
        {
          "output_type": "stream",
          "name": "stdout",
          "text": [
            "The average Credit Score among applicants is 700.\n"
          ]
        },
        {
          "output_type": "display_data",
          "data": {
            "text/plain": [
              "<Figure size 432x288 with 2 Axes>"
            ],
            "image/png": "[encoded data removed]"
          },
          "metadata": {
            "needs_background": "light"
          }
        }
      ]
    },
    {
      "cell_type": "code",
      "source": [
        "# change name of co-app credit type otherwise can't make figure out of it in the next step\n",
        "\n",
        "df.rename(columns = {'co-applicant_credit_type':'co_applicant_credit_type'}, inplace = True)"
      ],
      "metadata": {
        "id": "QnByfAF4rLMd"
      },
      "id": "QnByfAF4rLMd",
      "execution_count": 137,
      "outputs": []
    },
    {
      "cell_type": "code",
      "source": [
        "\n",
        "\n",
        "# status + co_applicant_credit_type\n",
        "display(df['co_applicant_credit_type'].describe())\n",
        "display(df['co_applicant_credit_type'].isnull().sum())\n",
        "\n",
        "print(\"The most common co-applicant credit type among applicants is CIB.\" )\n",
        "\n",
        "# plot \n",
        "fig, ax=plt.subplots(1, 2)\n",
        "plot_count=0\n",
        "for status in df['Status'].unique(): \n",
        "    df[df['Status']==status].co_applicant_credit_type.hist(ax=ax[plot_count])\n",
        "    ax[plot_count].set_title(status)\n",
        "    plot_count+=1"
      ],
      "metadata": {
        "colab": {
          "base_uri": "https://localhost:8080/",
          "height": 403
        },
        "id": "MlQevVGqqvbL",
        "outputId": "2ea6e401-7f90-4f3a-a690-44df07c9d69e"
      },
      "id": "MlQevVGqqvbL",
      "execution_count": 139,
      "outputs": [
        {
          "output_type": "display_data",
          "data": {
            "text/plain": [
              "count     148670\n",
              "unique         2\n",
              "top          CIB\n",
              "freq       74392\n",
              "Name: co_applicant_credit_type, dtype: object"
            ]
          },
          "metadata": {}
        },
        {
          "output_type": "display_data",
          "data": {
            "text/plain": [
              "0"
            ]
          },
          "metadata": {}
        },
        {
          "output_type": "stream",
          "name": "stdout",
          "text": [
            "The most common co-applicant credit type among applicants is CIB.\n"
          ]
        },
        {
          "output_type": "display_data",
          "data": {
            "text/plain": [
              "<Figure size 432x288 with 2 Axes>"
            ],
            "image/png": "[encoded data removed]"
          },
          "metadata": {
            "needs_background": "light"
          }
        }
      ]
    },
    {
      "cell_type": "code",
      "source": [
        "# Type of variables:\n",
        "print( df.dtypes.sort_values(ascending=True))\n",
        "\n",
        "\n",
        "x = df[\"loan_amount\"]\n",
        "y = df[ \"Credit_Score\"]\n",
        "\n",
        "xy = x.corr(y)\n",
        "print(xy)             \n",
        "\n",
        "yx = y.corr(x)\n",
        "print(yx)\n",
        "\n",
        "xys = x.corr(y, method='spearman')\n",
        "print(xys)  # Spearman's rho\n",
        "\n",
        "xyk = x.corr(y, method='kendall')\n",
        "print(xyk) #Kendall's\n",
        "\n",
        "\n"
      ],
      "metadata": {
        "colab": {
          "base_uri": "https://localhost:8080/"
        },
        "id": "zekGyefFrsqK",
        "outputId": "503de294-492e-4aca-d2f7-d00f65c12872"
      },
      "id": "zekGyefFrsqK",
      "execution_count": 158,
      "outputs": [
        {
          "output_type": "stream",
          "name": "stdout",
          "text": [
            "loan_amount                   int64\n",
            "Credit_Score                  int64\n",
            "Status                        int64\n",
            "term                        float64\n",
            "property_value              float64\n",
            "income                      float64\n",
            "loan_type                    object\n",
            "loan_purpose                 object\n",
            "business_or_commercial       object\n",
            "interest_only                object\n",
            "occupancy_type               object\n",
            "Secured_by                   object\n",
            "credit_type                  object\n",
            "co_applicant_credit_type     object\n",
            "age                          object\n",
            "dtype: object\n",
            "0.004438286387009901\n",
            "0.0044382863870099\n",
            "0.004612210336209023\n",
            "0.0031047984963710625\n"
          ]
        }
      ]
    },
    {
      "cell_type": "code",
      "source": [
        "x = df[\"loan_amount\"]\n",
        "y = df[ \"Status\"]\n",
        "\n",
        "xy = x.corr(y)\n",
        "print(xy)             \n",
        "\n",
        "yx = y.corr(x)\n",
        "print(yx)\n",
        "\n",
        "xys = x.corr(y, method='spearman')\n",
        "print(xys)  # Spearman's rho\n",
        "\n",
        "xyk = x.corr(y, method='kendall')\n",
        "print(xyk) #Kendall's\n",
        "\n"
      ],
      "metadata": {
        "colab": {
          "base_uri": "https://localhost:8080/"
        },
        "id": "rI4gCVWqwIrL",
        "outputId": "6a304155-0f31-4ac6-e53d-3635f3f9c989"
      },
      "id": "rI4gCVWqwIrL",
      "execution_count": 161,
      "outputs": [
        {
          "output_type": "stream",
          "name": "stdout",
          "text": [
            "-0.036825275544374286\n",
            "-0.03682527554437429\n",
            "-0.06884161419818988\n",
            "-0.056716892874696945\n"
          ]
        }
      ]
    },
    {
      "cell_type": "code",
      "source": [
        "#x = df[\"loan_amount\"]\n",
        "#y = df[ \"age\"]\n",
        "\n",
        "#xy = x.corr(y)\n",
        "#print(xy)             \n",
        "\n",
        "#yx = y.corr(x)\n",
        "#print(yx)\n",
        "\n",
        "#xys = x.corr(y, method='spearman')\n",
        "#print(xys)  # Spearman's rho\n",
        "\n",
        "#xyk = x.corr(y, method='kendall')\n",
        "#print(xyk) #Kendall's\n",
        "\n"
      ],
      "metadata": {
        "id": "6w3nLV5cwk4e"
      },
      "id": "6w3nLV5cwk4e",
      "execution_count": 165,
      "outputs": []
    },
    {
      "cell_type": "code",
      "source": [
        "#df['term'] = df['term'].astype(str).apply(lambda x: x.replace('.0',''))\n",
        "#df\n",
        "\n",
        "  \n",
        "#print()\n",
        "  \n",
        "# lets find out the data\n",
        "# type after changing\n",
        "#print(df.dtypes)\n",
        "\n",
        "#df\n",
        "\n",
        "\n",
        "#print(df['term'])\n",
        "\n",
        "\n",
        "# Counting variables by type:\n",
        "#df.dtypes.value_counts()\n",
        "\n"
      ],
      "metadata": {
        "id": "Y2mFAoYI0HqJ"
      },
      "id": "Y2mFAoYI0HqJ",
      "execution_count": null,
      "outputs": []
    },
    {
      "cell_type": "code",
      "source": [
        "# General statistics\n",
        "# def stats(x):\n",
        "   # print(f\"Variable: {x}\")\n",
        "   # print(f\"Type of variable: {df[x].dtype}\")\n",
        "   # print(f\"Total observations: {df[x].shape[0]}\")\n",
        "   # detect_null_val = df[x].isnull().values.any()\n",
        "   # if detect_null_val:\n",
        "     #   print(f\"Missing values: {df[x].isnull().sum()} ({(df[x].isnull().sum() / df[x].isnull().shape[0] *100).round(2)}%)\")\n",
        "   # else:\n",
        "    #    print(f\"Missing values? {df[x].isnull().values.any()}\")\n",
        "    #print(f\"Unique values: {df[x].nunique()}\")\n",
        "   # if df[x].dtype != \"O\":\n",
        "    #    print(f\"Min: {int(df[x].min())}\")\n",
        "    #    print(f\"25%: {int(df[x].quantile(q=[.25]).iloc[-1])}\")\n",
        "     #   print(f\"Median: {int(df[x].median())}\")\n",
        "     #   print(f\"75%: {int(df[x].quantile(q=[.75]).iloc[-1])}\")\n",
        "      #  print(f\"Max: {int(df[x].max())}\")\n",
        "     #   print(f\"Mean: {df[x].mean()}\")\n",
        "      #  print(f\"Std dev: {df[x].std()}\")\n",
        "      #  print(f\"Variance: {df[x].var()}\")\n",
        "      #  print(f\"Skewness: {scipy.stats.skew(df[x])}\")\n",
        "      #  print(f\"Kurtosis: {scipy.stats.kurtosis(df[x])}\")\n",
        "      #  print(\"\")\n",
        "        \n",
        "        # Percentiles 1%, 5%, 95% and 99%\n",
        "\n",
        "  #  print(\"Percentiles 1%, 5%, 95%, 99%\")\n",
        "    #    print(\"\")\n",
        "  #  else:\n",
        "      #  print(f\"List of unique values: {df[x].unique()}\")"
      ],
      "metadata": {
        "id": "7gPgGFcO0NfH"
      },
      "id": "7gPgGFcO0NfH",
      "execution_count": null,
      "outputs": []
    },
    {
      "cell_type": "code",
      "source": [
        "def bar(x):\n",
        "    ax = df[x].value_counts().plot(kind=\"bar\", figsize=(6,5), fontsize=10, color=sns.color_palette(\"rocket\"), table=False)\n",
        "    "
      ],
      "metadata": {
        "id": "2wglMmaZ0cBr"
      },
      "id": "2wglMmaZ0cBr",
      "execution_count": null,
      "outputs": []
    },
    {
      "cell_type": "code",
      "source": [
        ""
      ],
      "metadata": {
        "colab": {
          "base_uri": "https://localhost:8080/"
        },
        "id": "OPzaPu6ZJUdd",
        "outputId": "a5ee6f65-963b-43b9-d6f0-e59e03d67b1d"
      },
      "id": "OPzaPu6ZJUdd",
      "execution_count": null,
      "outputs": [
        {
          "output_type": "execute_result",
          "data": {
            "text/plain": [
              "0         1\n",
              "1         4\n",
              "2         2\n",
              "3         3\n",
              "4         1\n",
              "         ..\n",
              "148665    4\n",
              "148666    1\n",
              "148667    3\n",
              "148668    4\n",
              "148669    3\n",
              "Name: age, Length: 148670, dtype: object"
            ]
          },
          "metadata": {},
          "execution_count": 129
        }
      ]
    },
    {
      "cell_type": "code",
      "source": [
        "#for col in df.select_dtypes(include=[\"object\"]).columns:\n",
        "   # df['Credit_Score'].value_counts().plot(kind=\"bar\", color=sns.color_palette(\"rocket\"))\n",
        "    \n",
        "   # plt.xlabel(\"Credit Score\", fontsize=10)\n",
        "   # plt.xticks(rotation=90, horizontalalignment=\"center\")\n",
        "   # plt.ylabel(\"Count\", fontsize=10)\n",
        "   # plt.title(col, fontsize=10, loc=\"right\")\n",
        "   # plt.show()"
      ],
      "metadata": {
        "id": "FecBPcxqOy1M"
      },
      "id": "FecBPcxqOy1M",
      "execution_count": 41,
      "outputs": []
    },
    {
      "cell_type": "markdown",
      "source": [
        "# Histogram\n",
        "def hist(x):\n",
        "    plt.hist(df[x], bins=25)\n",
        "    plt.title(x, fontsize=10, loc=\"right\")\n",
        "    plt.xlabel('Relative frequency')\n",
        "    plt.ylabel('Absolute frequency')\n",
        "    plt.show()\n",
        "    "
      ],
      "metadata": {
        "id": "4z6W2THs9FnQ"
      },
      "id": "4z6W2THs9FnQ"
    },
    {
      "cell_type": "code",
      "source": [
        "# Below are some quick examples.\n",
        "# Correlation between two columns of DataFrame.\n",
        "#df['term'] = df['term'].astype(int)\n",
        "#df['Credit_Score'] = df['Credit_Score'].astype(int)\n",
        "#print(df['Credit_Score'].isnull().sum())\n",
        "# df['term'].isnull().sum()\n",
        "corr=df['term'].corr(df['Credit_Score'])\n",
        "#df\n",
        "\n",
        "# Correlation between all the columns of DataFrame.\n",
        "#df2=df.corr()\n",
        "\n",
        "# Other example.\n",
        "# df['Discount']=np.float64(df['Fee'])\n",
        "\n"
      ],
      "metadata": {
        "id": "-6MJacxrPPZi"
      },
      "id": "-6MJacxrPPZi",
      "execution_count": null,
      "outputs": []
    },
    {
      "cell_type": "code",
      "source": [
        "# credit_score + age\n",
        "# Compute the correlation between \"credit_score\" and \"age\"\n",
        "col1, col2= \"loan_amount\", \"Credit_Score\"\n",
        "corr = df[col1].corr(df[col2])\n",
        "print(corr)\n"
      ],
      "metadata": {
        "colab": {
          "base_uri": "https://localhost:8080/"
        },
        "id": "v-iQS2UiEB1N",
        "outputId": "05c629d3-1f49-4cef-83f6-9e55d8c6c5ba"
      },
      "id": "v-iQS2UiEB1N",
      "execution_count": 19,
      "outputs": [
        {
          "output_type": "stream",
          "name": "stdout",
          "text": [
            "0.004438286387009901\n"
          ]
        }
      ]
    },
    {
      "cell_type": "code",
      "source": [
        "def heatmap(x, y, size):\n",
        "    fig, ax = plt.subplots()\n",
        "    \n",
        "    # Mapping from column names to integer coordinates\n",
        "    x_labels = [v for v in sorted(x.unique())]\n",
        "    y_labels = [v for v in sorted(y.unique())]\n",
        "    x_to_num = {p[1]:p[0] for p in enumerate(x_labels)} \n",
        "    y_to_num = {p[1]:p[0] for p in enumerate(y_labels)} \n",
        "    \n",
        "    size_scale = 500\n",
        "    ax.scatter(\n",
        "        x=x.map(x_to_num), # Use mapping for x\n",
        "        y=y.map(y_to_num), # Use mapping for y\n",
        "        s=size * size_scale, # Vector of square sizes, proportional to size parameter\n",
        "        marker='s' # Use square as scatterplot marker\n",
        "    )\n",
        "    \n",
        "    # Show column labels on the axes\n",
        "    ax.set_xticks([x_to_num[v] for v in x_labels])\n",
        "    ax.set_xticklabels(x_labels, rotation=45, horizontalalignment='right')\n",
        "    ax.set_yticks([y_to_num[v] for v in y_labels])\n",
        "    ax.set_yticklabels(y_labels)\n",
        "    \n",
        "data = pd.read_csv('https://raw.githubusercontent.com/drazenz/heatmap/master/autos.clean.csv')\n",
        "columns = ['bore', 'stroke', 'compression-ratio', 'horsepower', 'city-mpg', 'price'] \n",
        "corr = data[columns].corr()\n",
        "corr = pd.melt(corr.reset_index(), id_vars='index') # Unpivot the dataframe, so we can get pair of arrays for x and y\n",
        "corr.columns = ['x', 'y', 'value']\n",
        "heatmap(\n",
        "    x=corr['x'],\n",
        "    y=corr['y'],\n",
        "    size=corr['value'].abs()\n",
        ")"
      ],
      "metadata": {
        "id": "npmHTrm-JkiH",
        "colab": {
          "base_uri": "https://localhost:8080/",
          "height": 326
        },
        "outputId": "08bc67f7-e186-4cb3-9d34-08311ee3d6c0"
      },
      "id": "npmHTrm-JkiH",
      "execution_count": 40,
      "outputs": [
        {
          "output_type": "display_data",
          "data": {
            "text/plain": [
              "<Figure size 432x288 with 1 Axes>"
            ],
            "image/png": "[encoded data removed]"
          },
          "metadata": {
            "needs_background": "light"
          }
        }
      ]
    },
    {
      "cell_type": "code",
      "source": [
        ""
      ],
      "metadata": {
        "id": "5NoN3-vfJrZq"
      },
      "id": "5NoN3-vfJrZq",
      "execution_count": null,
      "outputs": []
    },
    {
      "cell_type": "code",
      "execution_count": null,
      "metadata": {
        "id": "6eb82304-e242-45af-a83d-bffe57fa010a"
      },
      "outputs": [],
      "source": [
        "# df.Status.value_counts()\n",
        "# df = df.drop(columns = [\"rate_of_interest\",\"Interest_rate_spread\",\"Upfront_charges\"])\n",
        "# df"
      ],
      "id": "6eb82304-e242-45af-a83d-bffe57fa010a"
    },
    {
      "cell_type": "code",
      "execution_count": null,
      "metadata": {
        "id": "4902bf31-df48-4a57-9b95-cccfecd59ad3"
      },
      "outputs": [],
      "source": [
        "# df.dropna(inplace=True)"
      ],
      "id": "4902bf31-df48-4a57-9b95-cccfecd59ad3"
    },
    {
      "cell_type": "code",
      "execution_count": null,
      "metadata": {
        "id": "a63d284c-0108-42b6-ad5b-9f74a879b2df",
        "outputId": "7f9f2799-3e31-4a19-f71e-be5b5db5c957"
      },
      "outputs": [
        {
          "data": {
            "text/plain": [
              "0    112031\n",
              "1     36639\n",
              "Name: Status, dtype: int64"
            ]
          },
          "execution_count": 12,
          "metadata": {},
          "output_type": "execute_result"
        }
      ],
      "source": [
        "df.Status.value_counts()\n",
        "# df = df.drop(columns = [\"rate_of_interest\",\"Interest_rate_spread\",\"Upfront_charges\"])\n",
        "# df"
      ],
      "id": "a63d284c-0108-42b6-ad5b-9f74a879b2df"
    },
    {
      "cell_type": "code",
      "execution_count": null,
      "metadata": {
        "id": "1d287f96-7306-4e6e-8296-c4d418bd2beb",
        "outputId": "8d0fbc49-dd76-4697-cce9-cc1d78ae3ae2"
      },
      "outputs": [
        {
          "data": {
            "text/plain": [
              "148670"
            ]
          },
          "execution_count": 33,
          "metadata": {},
          "output_type": "execute_result"
        }
      ],
      "source": [
        "df[\"NA count\"] = 0\n",
        "len(df.index)"
      ],
      "id": "1d287f96-7306-4e6e-8296-c4d418bd2beb"
    },
    {
      "cell_type": "code",
      "execution_count": null,
      "metadata": {
        "id": "f6fa2f80-8ae6-42ce-9f7d-e96f5db34328",
        "outputId": "47d2562e-0a44-4ec6-b822-b49e629e4927"
      },
      "outputs": [
        {
          "data": {
            "text/html": [
              "<div>\n",
              "<style scoped>\n",
              "    .dataframe tbody tr th:only-of-type {\n",
              "        vertical-align: middle;\n",
              "    }\n",
              "\n",
              "    .dataframe tbody tr th {\n",
              "        vertical-align: top;\n",
              "    }\n",
              "\n",
              "    .dataframe thead th {\n",
              "        text-align: right;\n",
              "    }\n",
              "</style>\n",
              "<table border=\"1\" class=\"dataframe\">\n",
              "  <thead>\n",
              "    <tr style=\"text-align: right;\">\n",
              "      <th></th>\n",
              "      <th>loan_limit</th>\n",
              "      <th>approv_in_adv</th>\n",
              "      <th>loan_type</th>\n",
              "      <th>loan_purpose</th>\n",
              "      <th>Credit_Worthiness</th>\n",
              "      <th>open_credit</th>\n",
              "      <th>business_or_commercial</th>\n",
              "      <th>loan_amount</th>\n",
              "      <th>rate_of_interest</th>\n",
              "      <th>Interest_rate_spread</th>\n",
              "      <th>...</th>\n",
              "      <th>Credit_Score</th>\n",
              "      <th>co-applicant_credit_type</th>\n",
              "      <th>age</th>\n",
              "      <th>submission_of_application</th>\n",
              "      <th>LTV</th>\n",
              "      <th>Region</th>\n",
              "      <th>Security_Type</th>\n",
              "      <th>Status</th>\n",
              "      <th>dtir1</th>\n",
              "      <th>NA count</th>\n",
              "    </tr>\n",
              "  </thead>\n",
              "  <tbody>\n",
              "    <tr>\n",
              "      <th>0</th>\n",
              "      <td>cf</td>\n",
              "      <td>nopre</td>\n",
              "      <td>type1</td>\n",
              "      <td>p1</td>\n",
              "      <td>l1</td>\n",
              "      <td>nopc</td>\n",
              "      <td>nob/c</td>\n",
              "      <td>116500</td>\n",
              "      <td>NaN</td>\n",
              "      <td>NaN</td>\n",
              "      <td>...</td>\n",
              "      <td>758</td>\n",
              "      <td>CIB</td>\n",
              "      <td>25-34</td>\n",
              "      <td>to_inst</td>\n",
              "      <td>98.728814</td>\n",
              "      <td>south</td>\n",
              "      <td>direct</td>\n",
              "      <td>1</td>\n",
              "      <td>45.0</td>\n",
              "      <td>3</td>\n",
              "    </tr>\n",
              "    <tr>\n",
              "      <th>1</th>\n",
              "      <td>cf</td>\n",
              "      <td>nopre</td>\n",
              "      <td>type2</td>\n",
              "      <td>p1</td>\n",
              "      <td>l1</td>\n",
              "      <td>nopc</td>\n",
              "      <td>b/c</td>\n",
              "      <td>206500</td>\n",
              "      <td>NaN</td>\n",
              "      <td>NaN</td>\n",
              "      <td>...</td>\n",
              "      <td>552</td>\n",
              "      <td>EXP</td>\n",
              "      <td>55-64</td>\n",
              "      <td>to_inst</td>\n",
              "      <td>NaN</td>\n",
              "      <td>North</td>\n",
              "      <td>direct</td>\n",
              "      <td>1</td>\n",
              "      <td>NaN</td>\n",
              "      <td>6</td>\n",
              "    </tr>\n",
              "    <tr>\n",
              "      <th>2</th>\n",
              "      <td>cf</td>\n",
              "      <td>pre</td>\n",
              "      <td>type1</td>\n",
              "      <td>p1</td>\n",
              "      <td>l1</td>\n",
              "      <td>nopc</td>\n",
              "      <td>nob/c</td>\n",
              "      <td>406500</td>\n",
              "      <td>4.560</td>\n",
              "      <td>0.2000</td>\n",
              "      <td>...</td>\n",
              "      <td>834</td>\n",
              "      <td>CIB</td>\n",
              "      <td>35-44</td>\n",
              "      <td>to_inst</td>\n",
              "      <td>80.019685</td>\n",
              "      <td>south</td>\n",
              "      <td>direct</td>\n",
              "      <td>0</td>\n",
              "      <td>46.0</td>\n",
              "      <td>0</td>\n",
              "    </tr>\n",
              "    <tr>\n",
              "      <th>3</th>\n",
              "      <td>cf</td>\n",
              "      <td>nopre</td>\n",
              "      <td>type1</td>\n",
              "      <td>p4</td>\n",
              "      <td>l1</td>\n",
              "      <td>nopc</td>\n",
              "      <td>nob/c</td>\n",
              "      <td>456500</td>\n",
              "      <td>4.250</td>\n",
              "      <td>0.6810</td>\n",
              "      <td>...</td>\n",
              "      <td>587</td>\n",
              "      <td>CIB</td>\n",
              "      <td>45-54</td>\n",
              "      <td>not_inst</td>\n",
              "      <td>69.376900</td>\n",
              "      <td>North</td>\n",
              "      <td>direct</td>\n",
              "      <td>0</td>\n",
              "      <td>42.0</td>\n",
              "      <td>1</td>\n",
              "    </tr>\n",
              "    <tr>\n",
              "      <th>4</th>\n",
              "      <td>cf</td>\n",
              "      <td>pre</td>\n",
              "      <td>type1</td>\n",
              "      <td>p1</td>\n",
              "      <td>l1</td>\n",
              "      <td>nopc</td>\n",
              "      <td>nob/c</td>\n",
              "      <td>696500</td>\n",
              "      <td>4.000</td>\n",
              "      <td>0.3042</td>\n",
              "      <td>...</td>\n",
              "      <td>602</td>\n",
              "      <td>EXP</td>\n",
              "      <td>25-34</td>\n",
              "      <td>not_inst</td>\n",
              "      <td>91.886544</td>\n",
              "      <td>North</td>\n",
              "      <td>direct</td>\n",
              "      <td>0</td>\n",
              "      <td>39.0</td>\n",
              "      <td>0</td>\n",
              "    </tr>\n",
              "    <tr>\n",
              "      <th>...</th>\n",
              "      <td>...</td>\n",
              "      <td>...</td>\n",
              "      <td>...</td>\n",
              "      <td>...</td>\n",
              "      <td>...</td>\n",
              "      <td>...</td>\n",
              "      <td>...</td>\n",
              "      <td>...</td>\n",
              "      <td>...</td>\n",
              "      <td>...</td>\n",
              "      <td>...</td>\n",
              "      <td>...</td>\n",
              "      <td>...</td>\n",
              "      <td>...</td>\n",
              "      <td>...</td>\n",
              "      <td>...</td>\n",
              "      <td>...</td>\n",
              "      <td>...</td>\n",
              "      <td>...</td>\n",
              "      <td>...</td>\n",
              "      <td>...</td>\n",
              "    </tr>\n",
              "    <tr>\n",
              "      <th>148665</th>\n",
              "      <td>cf</td>\n",
              "      <td>nopre</td>\n",
              "      <td>type1</td>\n",
              "      <td>p3</td>\n",
              "      <td>l1</td>\n",
              "      <td>nopc</td>\n",
              "      <td>nob/c</td>\n",
              "      <td>436500</td>\n",
              "      <td>3.125</td>\n",
              "      <td>0.2571</td>\n",
              "      <td>...</td>\n",
              "      <td>659</td>\n",
              "      <td>EXP</td>\n",
              "      <td>55-64</td>\n",
              "      <td>to_inst</td>\n",
              "      <td>71.792763</td>\n",
              "      <td>south</td>\n",
              "      <td>direct</td>\n",
              "      <td>0</td>\n",
              "      <td>48.0</td>\n",
              "      <td>0</td>\n",
              "    </tr>\n",
              "    <tr>\n",
              "      <th>148666</th>\n",
              "      <td>cf</td>\n",
              "      <td>nopre</td>\n",
              "      <td>type1</td>\n",
              "      <td>p1</td>\n",
              "      <td>l1</td>\n",
              "      <td>nopc</td>\n",
              "      <td>nob/c</td>\n",
              "      <td>586500</td>\n",
              "      <td>5.190</td>\n",
              "      <td>0.8544</td>\n",
              "      <td>...</td>\n",
              "      <td>569</td>\n",
              "      <td>CIB</td>\n",
              "      <td>25-34</td>\n",
              "      <td>not_inst</td>\n",
              "      <td>74.428934</td>\n",
              "      <td>south</td>\n",
              "      <td>direct</td>\n",
              "      <td>0</td>\n",
              "      <td>15.0</td>\n",
              "      <td>0</td>\n",
              "    </tr>\n",
              "    <tr>\n",
              "      <th>148667</th>\n",
              "      <td>cf</td>\n",
              "      <td>nopre</td>\n",
              "      <td>type1</td>\n",
              "      <td>p4</td>\n",
              "      <td>l1</td>\n",
              "      <td>nopc</td>\n",
              "      <td>nob/c</td>\n",
              "      <td>446500</td>\n",
              "      <td>3.125</td>\n",
              "      <td>0.0816</td>\n",
              "      <td>...</td>\n",
              "      <td>702</td>\n",
              "      <td>EXP</td>\n",
              "      <td>45-54</td>\n",
              "      <td>not_inst</td>\n",
              "      <td>61.332418</td>\n",
              "      <td>North</td>\n",
              "      <td>direct</td>\n",
              "      <td>0</td>\n",
              "      <td>49.0</td>\n",
              "      <td>0</td>\n",
              "    </tr>\n",
              "    <tr>\n",
              "      <th>148668</th>\n",
              "      <td>cf</td>\n",
              "      <td>nopre</td>\n",
              "      <td>type1</td>\n",
              "      <td>p4</td>\n",
              "      <td>l1</td>\n",
              "      <td>nopc</td>\n",
              "      <td>nob/c</td>\n",
              "      <td>196500</td>\n",
              "      <td>3.500</td>\n",
              "      <td>0.5824</td>\n",
              "      <td>...</td>\n",
              "      <td>737</td>\n",
              "      <td>EXP</td>\n",
              "      <td>55-64</td>\n",
              "      <td>to_inst</td>\n",
              "      <td>70.683453</td>\n",
              "      <td>North</td>\n",
              "      <td>direct</td>\n",
              "      <td>0</td>\n",
              "      <td>29.0</td>\n",
              "      <td>0</td>\n",
              "    </tr>\n",
              "    <tr>\n",
              "      <th>148669</th>\n",
              "      <td>cf</td>\n",
              "      <td>nopre</td>\n",
              "      <td>type1</td>\n",
              "      <td>p3</td>\n",
              "      <td>l1</td>\n",
              "      <td>nopc</td>\n",
              "      <td>nob/c</td>\n",
              "      <td>406500</td>\n",
              "      <td>4.375</td>\n",
              "      <td>1.3871</td>\n",
              "      <td>...</td>\n",
              "      <td>830</td>\n",
              "      <td>CIB</td>\n",
              "      <td>45-54</td>\n",
              "      <td>not_inst</td>\n",
              "      <td>72.849462</td>\n",
              "      <td>North</td>\n",
              "      <td>direct</td>\n",
              "      <td>0</td>\n",
              "      <td>44.0</td>\n",
              "      <td>0</td>\n",
              "    </tr>\n",
              "  </tbody>\n",
              "</table>\n",
              "<p>148670 rows × 32 columns</p>\n",
              "</div>"
            ],
            "text/plain": [
              "       loan_limit approv_in_adv loan_type loan_purpose Credit_Worthiness  \\\n",
              "0              cf         nopre     type1           p1                l1   \n",
              "1              cf         nopre     type2           p1                l1   \n",
              "2              cf           pre     type1           p1                l1   \n",
              "3              cf         nopre     type1           p4                l1   \n",
              "4              cf           pre     type1           p1                l1   \n",
              "...           ...           ...       ...          ...               ...   \n",
              "148665         cf         nopre     type1           p3                l1   \n",
              "148666         cf         nopre     type1           p1                l1   \n",
              "148667         cf         nopre     type1           p4                l1   \n",
              "148668         cf         nopre     type1           p4                l1   \n",
              "148669         cf         nopre     type1           p3                l1   \n",
              "\n",
              "       open_credit business_or_commercial  loan_amount  rate_of_interest  \\\n",
              "0             nopc                  nob/c       116500               NaN   \n",
              "1             nopc                    b/c       206500               NaN   \n",
              "2             nopc                  nob/c       406500             4.560   \n",
              "3             nopc                  nob/c       456500             4.250   \n",
              "4             nopc                  nob/c       696500             4.000   \n",
              "...            ...                    ...          ...               ...   \n",
              "148665        nopc                  nob/c       436500             3.125   \n",
              "148666        nopc                  nob/c       586500             5.190   \n",
              "148667        nopc                  nob/c       446500             3.125   \n",
              "148668        nopc                  nob/c       196500             3.500   \n",
              "148669        nopc                  nob/c       406500             4.375   \n",
              "\n",
              "        Interest_rate_spread  ...  Credit_Score  co-applicant_credit_type  \\\n",
              "0                        NaN  ...           758                       CIB   \n",
              "1                        NaN  ...           552                       EXP   \n",
              "2                     0.2000  ...           834                       CIB   \n",
              "3                     0.6810  ...           587                       CIB   \n",
              "4                     0.3042  ...           602                       EXP   \n",
              "...                      ...  ...           ...                       ...   \n",
              "148665                0.2571  ...           659                       EXP   \n",
              "148666                0.8544  ...           569                       CIB   \n",
              "148667                0.0816  ...           702                       EXP   \n",
              "148668                0.5824  ...           737                       EXP   \n",
              "148669                1.3871  ...           830                       CIB   \n",
              "\n",
              "          age submission_of_application        LTV  Region Security_Type  \\\n",
              "0       25-34                   to_inst  98.728814   south        direct   \n",
              "1       55-64                   to_inst        NaN   North        direct   \n",
              "2       35-44                   to_inst  80.019685   south        direct   \n",
              "3       45-54                  not_inst  69.376900   North        direct   \n",
              "4       25-34                  not_inst  91.886544   North        direct   \n",
              "...       ...                       ...        ...     ...           ...   \n",
              "148665  55-64                   to_inst  71.792763   south        direct   \n",
              "148666  25-34                  not_inst  74.428934   south        direct   \n",
              "148667  45-54                  not_inst  61.332418   North        direct   \n",
              "148668  55-64                   to_inst  70.683453   North        direct   \n",
              "148669  45-54                  not_inst  72.849462   North        direct   \n",
              "\n",
              "       Status dtir1 NA count  \n",
              "0           1  45.0        3  \n",
              "1           1   NaN        6  \n",
              "2           0  46.0        0  \n",
              "3           0  42.0        1  \n",
              "4           0  39.0        0  \n",
              "...       ...   ...      ...  \n",
              "148665      0  48.0        0  \n",
              "148666      0  15.0        0  \n",
              "148667      0  49.0        0  \n",
              "148668      0  29.0        0  \n",
              "148669      0  44.0        0  \n",
              "\n",
              "[148670 rows x 32 columns]"
            ]
          },
          "execution_count": 35,
          "metadata": {},
          "output_type": "execute_result"
        }
      ],
      "source": [
        "for i in range(len(df.index)) :\n",
        "    df.iloc[i, 31] = df.iloc[i].isnull().sum()\n",
        "df\n"
      ],
      "id": "f6fa2f80-8ae6-42ce-9f7d-e96f5db34328"
    },
    {
      "cell_type": "code",
      "execution_count": null,
      "metadata": {
        "id": "a269f375-586c-4b86-899a-932bf54d792c",
        "outputId": "14a8ca53-5abe-4bd5-dbf6-ae99535c8cd4"
      },
      "outputs": [
        {
          "data": {
            "text/plain": [
              "Index(['loan_limit', 'approv_in_adv', 'loan_type', 'loan_purpose',\n",
              "       'Credit_Worthiness', 'open_credit', 'business_or_commercial',\n",
              "       'Neg_ammortization', 'interest_only', 'lump_sum_payment',\n",
              "       'construction_type', 'occupancy_type', 'Secured_by', 'total_units',\n",
              "       'credit_type', 'co-applicant_credit_type', 'age',\n",
              "       'submission_of_application', 'Region', 'Security_Type'],\n",
              "      dtype='object')"
            ]
          },
          "execution_count": 36,
          "metadata": {},
          "output_type": "execute_result"
        }
      ],
      "source": [
        "cats = df.dtypes[df.dtypes=='object'].index\n",
        "cats"
      ],
      "id": "a269f375-586c-4b86-899a-932bf54d792c"
    },
    {
      "cell_type": "code",
      "execution_count": null,
      "metadata": {
        "id": "fcb2c82a-96d8-470d-a8fe-4842823724ee",
        "outputId": "be2ccd73-6ef4-4414-b3df-f6a879f94485"
      },
      "outputs": [
        {
          "data": {
            "text/html": [
              "<div>\n",
              "<style scoped>\n",
              "    .dataframe tbody tr th:only-of-type {\n",
              "        vertical-align: middle;\n",
              "    }\n",
              "\n",
              "    .dataframe tbody tr th {\n",
              "        vertical-align: top;\n",
              "    }\n",
              "\n",
              "    .dataframe thead th {\n",
              "        text-align: right;\n",
              "    }\n",
              "</style>\n",
              "<table border=\"1\" class=\"dataframe\">\n",
              "  <thead>\n",
              "    <tr style=\"text-align: right;\">\n",
              "      <th></th>\n",
              "      <th>loan_amount</th>\n",
              "      <th>rate_of_interest</th>\n",
              "      <th>Interest_rate_spread</th>\n",
              "      <th>Upfront_charges</th>\n",
              "      <th>term</th>\n",
              "      <th>property_value</th>\n",
              "      <th>income</th>\n",
              "      <th>Credit_Score</th>\n",
              "      <th>LTV</th>\n",
              "      <th>Status</th>\n",
              "      <th>dtir1</th>\n",
              "      <th>NA count</th>\n",
              "    </tr>\n",
              "  </thead>\n",
              "  <tbody>\n",
              "    <tr>\n",
              "      <th>0</th>\n",
              "      <td>116500</td>\n",
              "      <td>NaN</td>\n",
              "      <td>NaN</td>\n",
              "      <td>NaN</td>\n",
              "      <td>360.0</td>\n",
              "      <td>118000.0</td>\n",
              "      <td>1740.0</td>\n",
              "      <td>758</td>\n",
              "      <td>98.728814</td>\n",
              "      <td>1</td>\n",
              "      <td>45.0</td>\n",
              "      <td>3</td>\n",
              "    </tr>\n",
              "    <tr>\n",
              "      <th>1</th>\n",
              "      <td>206500</td>\n",
              "      <td>NaN</td>\n",
              "      <td>NaN</td>\n",
              "      <td>NaN</td>\n",
              "      <td>360.0</td>\n",
              "      <td>NaN</td>\n",
              "      <td>4980.0</td>\n",
              "      <td>552</td>\n",
              "      <td>NaN</td>\n",
              "      <td>1</td>\n",
              "      <td>NaN</td>\n",
              "      <td>6</td>\n",
              "    </tr>\n",
              "    <tr>\n",
              "      <th>2</th>\n",
              "      <td>406500</td>\n",
              "      <td>4.560</td>\n",
              "      <td>0.2000</td>\n",
              "      <td>595.00</td>\n",
              "      <td>360.0</td>\n",
              "      <td>508000.0</td>\n",
              "      <td>9480.0</td>\n",
              "      <td>834</td>\n",
              "      <td>80.019685</td>\n",
              "      <td>0</td>\n",
              "      <td>46.0</td>\n",
              "      <td>0</td>\n",
              "    </tr>\n",
              "    <tr>\n",
              "      <th>3</th>\n",
              "      <td>456500</td>\n",
              "      <td>4.250</td>\n",
              "      <td>0.6810</td>\n",
              "      <td>NaN</td>\n",
              "      <td>360.0</td>\n",
              "      <td>658000.0</td>\n",
              "      <td>11880.0</td>\n",
              "      <td>587</td>\n",
              "      <td>69.376900</td>\n",
              "      <td>0</td>\n",
              "      <td>42.0</td>\n",
              "      <td>1</td>\n",
              "    </tr>\n",
              "    <tr>\n",
              "      <th>4</th>\n",
              "      <td>696500</td>\n",
              "      <td>4.000</td>\n",
              "      <td>0.3042</td>\n",
              "      <td>0.00</td>\n",
              "      <td>360.0</td>\n",
              "      <td>758000.0</td>\n",
              "      <td>10440.0</td>\n",
              "      <td>602</td>\n",
              "      <td>91.886544</td>\n",
              "      <td>0</td>\n",
              "      <td>39.0</td>\n",
              "      <td>0</td>\n",
              "    </tr>\n",
              "    <tr>\n",
              "      <th>...</th>\n",
              "      <td>...</td>\n",
              "      <td>...</td>\n",
              "      <td>...</td>\n",
              "      <td>...</td>\n",
              "      <td>...</td>\n",
              "      <td>...</td>\n",
              "      <td>...</td>\n",
              "      <td>...</td>\n",
              "      <td>...</td>\n",
              "      <td>...</td>\n",
              "      <td>...</td>\n",
              "      <td>...</td>\n",
              "    </tr>\n",
              "    <tr>\n",
              "      <th>148665</th>\n",
              "      <td>436500</td>\n",
              "      <td>3.125</td>\n",
              "      <td>0.2571</td>\n",
              "      <td>9960.00</td>\n",
              "      <td>180.0</td>\n",
              "      <td>608000.0</td>\n",
              "      <td>7860.0</td>\n",
              "      <td>659</td>\n",
              "      <td>71.792763</td>\n",
              "      <td>0</td>\n",
              "      <td>48.0</td>\n",
              "      <td>0</td>\n",
              "    </tr>\n",
              "    <tr>\n",
              "      <th>148666</th>\n",
              "      <td>586500</td>\n",
              "      <td>5.190</td>\n",
              "      <td>0.8544</td>\n",
              "      <td>0.00</td>\n",
              "      <td>360.0</td>\n",
              "      <td>788000.0</td>\n",
              "      <td>7140.0</td>\n",
              "      <td>569</td>\n",
              "      <td>74.428934</td>\n",
              "      <td>0</td>\n",
              "      <td>15.0</td>\n",
              "      <td>0</td>\n",
              "    </tr>\n",
              "    <tr>\n",
              "      <th>148667</th>\n",
              "      <td>446500</td>\n",
              "      <td>3.125</td>\n",
              "      <td>0.0816</td>\n",
              "      <td>1226.64</td>\n",
              "      <td>180.0</td>\n",
              "      <td>728000.0</td>\n",
              "      <td>6900.0</td>\n",
              "      <td>702</td>\n",
              "      <td>61.332418</td>\n",
              "      <td>0</td>\n",
              "      <td>49.0</td>\n",
              "      <td>0</td>\n",
              "    </tr>\n",
              "    <tr>\n",
              "      <th>148668</th>\n",
              "      <td>196500</td>\n",
              "      <td>3.500</td>\n",
              "      <td>0.5824</td>\n",
              "      <td>4323.33</td>\n",
              "      <td>180.0</td>\n",
              "      <td>278000.0</td>\n",
              "      <td>7140.0</td>\n",
              "      <td>737</td>\n",
              "      <td>70.683453</td>\n",
              "      <td>0</td>\n",
              "      <td>29.0</td>\n",
              "      <td>0</td>\n",
              "    </tr>\n",
              "    <tr>\n",
              "      <th>148669</th>\n",
              "      <td>406500</td>\n",
              "      <td>4.375</td>\n",
              "      <td>1.3871</td>\n",
              "      <td>6000.00</td>\n",
              "      <td>240.0</td>\n",
              "      <td>558000.0</td>\n",
              "      <td>7260.0</td>\n",
              "      <td>830</td>\n",
              "      <td>72.849462</td>\n",
              "      <td>0</td>\n",
              "      <td>44.0</td>\n",
              "      <td>0</td>\n",
              "    </tr>\n",
              "  </tbody>\n",
              "</table>\n",
              "<p>148670 rows × 12 columns</p>\n",
              "</div>"
            ],
            "text/plain": [
              "        loan_amount  rate_of_interest  Interest_rate_spread  Upfront_charges  \\\n",
              "0            116500               NaN                   NaN              NaN   \n",
              "1            206500               NaN                   NaN              NaN   \n",
              "2            406500             4.560                0.2000           595.00   \n",
              "3            456500             4.250                0.6810              NaN   \n",
              "4            696500             4.000                0.3042             0.00   \n",
              "...             ...               ...                   ...              ...   \n",
              "148665       436500             3.125                0.2571          9960.00   \n",
              "148666       586500             5.190                0.8544             0.00   \n",
              "148667       446500             3.125                0.0816          1226.64   \n",
              "148668       196500             3.500                0.5824          4323.33   \n",
              "148669       406500             4.375                1.3871          6000.00   \n",
              "\n",
              "         term  property_value   income  Credit_Score        LTV  Status  \\\n",
              "0       360.0        118000.0   1740.0           758  98.728814       1   \n",
              "1       360.0             NaN   4980.0           552        NaN       1   \n",
              "2       360.0        508000.0   9480.0           834  80.019685       0   \n",
              "3       360.0        658000.0  11880.0           587  69.376900       0   \n",
              "4       360.0        758000.0  10440.0           602  91.886544       0   \n",
              "...       ...             ...      ...           ...        ...     ...   \n",
              "148665  180.0        608000.0   7860.0           659  71.792763       0   \n",
              "148666  360.0        788000.0   7140.0           569  74.428934       0   \n",
              "148667  180.0        728000.0   6900.0           702  61.332418       0   \n",
              "148668  180.0        278000.0   7140.0           737  70.683453       0   \n",
              "148669  240.0        558000.0   7260.0           830  72.849462       0   \n",
              "\n",
              "        dtir1  NA count  \n",
              "0        45.0         3  \n",
              "1         NaN         6  \n",
              "2        46.0         0  \n",
              "3        42.0         1  \n",
              "4        39.0         0  \n",
              "...       ...       ...  \n",
              "148665   48.0         0  \n",
              "148666   15.0         0  \n",
              "148667   49.0         0  \n",
              "148668   29.0         0  \n",
              "148669   44.0         0  \n",
              "\n",
              "[148670 rows x 12 columns]"
            ]
          },
          "execution_count": 44,
          "metadata": {},
          "output_type": "execute_result"
        }
      ],
      "source": [
        "cols = df.drop(columns = cats)\n",
        "cols"
      ],
      "id": "fcb2c82a-96d8-470d-a8fe-4842823724ee"
    },
    {
      "cell_type": "code",
      "execution_count": null,
      "metadata": {
        "id": "4721ba76-1777-429f-989b-be401a1f946a"
      },
      "outputs": [],
      "source": [
        "import seaborn as sns"
      ],
      "id": "4721ba76-1777-429f-989b-be401a1f946a"
    },
    {
      "cell_type": "code",
      "execution_count": null,
      "metadata": {
        "id": "166629fa-0ec8-4429-8ba4-f356d481fee7",
        "outputId": "866f9e9f-6f3f-4841-9b8b-090b148d6e1a"
      },
      "outputs": [
        {
          "data": {
            "text/plain": [
              "<AxesSubplot:>"
            ]
          },
          "execution_count": 42,
          "metadata": {},
          "output_type": "execute_result"
        },
        {
          "data": {
            "image/png": "[encoded data removed]",
            "text/plain": [
              "<Figure size 1080x576 with 2 Axes>"
            ]
          },
          "metadata": {},
          "output_type": "display_data"
        }
      ],
      "source": [
        "core = cols.corr()\n",
        "sns.set(rc = {'figure.figsize':(15,8)}, style=\"whitegrid\")\n",
        "sns.heatmap(\n",
        "    core, \n",
        "    xticklabels = core.columns, \n",
        "    yticklabels = core.columns,\n",
        "    annot=True,\n",
        "    linewidth=.5,\n",
        "    cmap=\"YlGnBu\"\n",
        ")\n"
      ],
      "id": "166629fa-0ec8-4429-8ba4-f356d481fee7"
    },
    {
      "cell_type": "code",
      "execution_count": null,
      "metadata": {
        "id": "5613a2ab-0584-4fb1-b78c-f615653d53da"
      },
      "outputs": [],
      "source": [
        "# model.predict([0, 0, 0, 0, 0, 0, 0, 0, 720]) => 0.8 high risk"
      ],
      "id": "5613a2ab-0584-4fb1-b78c-f615653d53da"
    },
    {
      "cell_type": "code",
      "execution_count": null,
      "metadata": {
        "id": "5f3bf0b6-b2f7-46b1-9226-e7a9d649b3a7"
      },
      "outputs": [],
      "source": [
        "# model.predict([0, 0, 0, 0, 0, 0, 0, 0, 780]) => 0.69 low risk | 0.7 approve more loans -> generate more income & higher chance of making mistake -> losses"
      ],
      "id": "5f3bf0b6-b2f7-46b1-9226-e7a9d649b3a7"
    },
    {
      "cell_type": "code",
      "execution_count": null,
      "metadata": {
        "id": "0e2f4f2c-3876-45da-a58c-259d33241d24"
      },
      "outputs": [],
      "source": [
        "# accuracy score\n",
        "# approving a loan when it should have been rejected\n",
        "\n",
        "# True = high risk\n",
        "# recall to be high - TP / (TP+FN)\n",
        "# precision will be lower - TP / (TP+FP)"
      ],
      "id": "0e2f4f2c-3876-45da-a58c-259d33241d24"
    },
    {
      "cell_type": "code",
      "execution_count": null,
      "metadata": {
        "id": "b383d037-b6f3-4f8f-b8b5-d8289faa6526",
        "outputId": "263d8ad2-d783-4ebb-b6d0-da6806846a17"
      },
      "outputs": [
        {
          "ename": "NameError",
          "evalue": "name 'model' is not defined",
          "output_type": "error",
          "traceback": [
            "\u001b[1;31m---------------------------------------------------------------------------\u001b[0m",
            "\u001b[1;31mNameError\u001b[0m                                 Traceback (most recent call last)",
            "Input \u001b[1;32mIn [86]\u001b[0m, in \u001b[0;36m<cell line: 1>\u001b[1;34m()\u001b[0m\n\u001b[1;32m----> 1\u001b[0m \u001b[43mmodel\u001b[49m\u001b[38;5;241m.\u001b[39mpredict([\u001b[38;5;241m0\u001b[39m, \u001b[38;5;241m0\u001b[39m, \u001b[38;5;241m0\u001b[39m, \u001b[38;5;241m0\u001b[39m, \u001b[38;5;241m0\u001b[39m, \u001b[38;5;241m0\u001b[39m, \u001b[38;5;241m0\u001b[39m, \u001b[38;5;241m0\u001b[39m, \u001b[38;5;241m750\u001b[39m])\n",
            "\u001b[1;31mNameError\u001b[0m: name 'model' is not defined"
          ]
        }
      ],
      "source": [
        "# model.predict([0, 0, 0, 0, 0, 0, 0, 0, 750])"
      ],
      "id": "b383d037-b6f3-4f8f-b8b5-d8289faa6526"
    },
    {
      "cell_type": "code",
      "execution_count": null,
      "metadata": {
        "id": "84678b3f-5c47-44e5-bbad-73a9c670e363",
        "outputId": "24952a3c-ec9e-45b9-bc29-ae9a475297c4"
      },
      "outputs": [
        {
          "data": {
            "text/plain": [
              "0    100879\n",
              "1     19647\n",
              "Name: Status, dtype: int64"
            ]
          },
          "execution_count": 9,
          "metadata": {},
          "output_type": "execute_result"
        }
      ],
      "source": [
        "test = df.dropna()\n",
        "test.Status.value_counts()"
      ],
      "id": "84678b3f-5c47-44e5-bbad-73a9c670e363"
    },
    {
      "cell_type": "code",
      "execution_count": null,
      "metadata": {
        "id": "0b4da9dc-d7db-4cdb-85fa-0ff2a4afc8e5",
        "outputId": "8307a81e-f810-4270-818b-da15934dc8db"
      },
      "outputs": [
        {
          "data": {
            "text/plain": [
              "loan_amount           0\n",
              "term                 41\n",
              "property_value    15098\n",
              "income             9150\n",
              "Credit_Score          0\n",
              "LTV               15098\n",
              "Status                0\n",
              "dtir1             24121\n",
              "dtype: int64"
            ]
          },
          "execution_count": 61,
          "metadata": {},
          "output_type": "execute_result"
        }
      ],
      "source": [
        "cols.isnull().sum()"
      ],
      "id": "0b4da9dc-d7db-4cdb-85fa-0ff2a4afc8e5"
    },
    {
      "cell_type": "code",
      "execution_count": null,
      "metadata": {
        "id": "5d700166-916d-4aca-a7ae-9d56a7f3c2c5",
        "outputId": "3e2ea2d0-c1c8-4ec1-e450-e95f3ef7aca2"
      },
      "outputs": [
        {
          "name": "stdout",
          "output_type": "stream",
          "text": [
            "-0.0368252755443805\n",
            "-0.00023982428649341355\n",
            "-0.0488641271851315\n",
            "-0.06511896960828174\n",
            "0.004003693595588527\n",
            "0.03889546617224202\n",
            "1.0\n",
            "0.07808306605281926\n"
          ]
        }
      ],
      "source": [
        "for i in cols:\n",
        "    print(cols['Status'].corr(df[i]))"
      ],
      "id": "5d700166-916d-4aca-a7ae-9d56a7f3c2c5"
    },
    {
      "cell_type": "code",
      "execution_count": null,
      "metadata": {
        "id": "e459a8fc-3179-4e30-a17c-1eb72faf66ec"
      },
      "outputs": [],
      "source": [
        "#df.isnull().sum()"
      ],
      "id": "e459a8fc-3179-4e30-a17c-1eb72faf66ec"
    },
    {
      "cell_type": "code",
      "execution_count": null,
      "metadata": {
        "id": "d29b8c71-a3f2-4819-967a-14c83202e2d3"
      },
      "outputs": [],
      "source": [
        "#cols['rate_of_interest'].fillna(cols['rate_of_interest'].mean(), inplace = True)\n",
        "#cols['Interest_rate_spread'].fillna(cols['Interest_rate_spread'].mean(), inplace = True)\n",
        "#cols['Upfront_charges'].fillna(cols['Upfront_charges'].mean(), inplace = True)\n",
        "cols['term'].fillna(cols['term'].mean(), inplace = True)\n",
        "cols['property_value'].fillna(cols['property_value'].mean(), inplace = True)\n",
        "cols['income'].fillna(cols['income'].mean(), inplace = True)\n",
        "cols['LTV'].fillna(cols['LTV'].mean(), inplace = True)\n",
        "cols['dtir1'].fillna(cols['dtir1'].mean(), inplace = True)"
      ],
      "id": "d29b8c71-a3f2-4819-967a-14c83202e2d3"
    },
    {
      "cell_type": "code",
      "execution_count": null,
      "metadata": {
        "id": "aaabb549-174f-4c43-bae7-ebb02100267c",
        "outputId": "b52e0363-3dc0-443b-9a8d-01483801664a"
      },
      "outputs": [
        {
          "data": {
            "text/plain": [
              "loan_amount       0\n",
              "term              0\n",
              "property_value    0\n",
              "income            0\n",
              "Credit_Score      0\n",
              "LTV               0\n",
              "Status            0\n",
              "dtir1             0\n",
              "dtype: int64"
            ]
          },
          "execution_count": 65,
          "metadata": {},
          "output_type": "execute_result"
        }
      ],
      "source": [
        "cols.isnull().sum()"
      ],
      "id": "aaabb549-174f-4c43-bae7-ebb02100267c"
    },
    {
      "cell_type": "code",
      "execution_count": null,
      "metadata": {
        "id": "5209c946-cfc6-44c1-afc6-b5245366bbd2"
      },
      "outputs": [],
      "source": [
        "#cols['rate_of_interest'].fillna(cols['rate_of_interest'].mean(), inplace = True)"
      ],
      "id": "5209c946-cfc6-44c1-afc6-b5245366bbd2"
    },
    {
      "cell_type": "code",
      "execution_count": null,
      "metadata": {
        "id": "be8afec2-11ce-4986-bc4b-f91ec8ff5d75",
        "outputId": "60ccdef6-5332-4df7-f709-ed851208d5e5"
      },
      "outputs": [
        {
          "name": "stdout",
          "output_type": "stream",
          "text": [
            "-0.0368252755443805\n",
            "-0.00023982428649341355\n",
            "-0.0488641271851315\n",
            "-0.06511896960828174\n",
            "0.004003693595588527\n",
            "0.03889546617224202\n",
            "1.0\n",
            "0.07808306605281926\n"
          ]
        }
      ],
      "source": [
        "for i in cols:\n",
        "    print(cols['Status'].corr(df[i]))\n"
      ],
      "id": "be8afec2-11ce-4986-bc4b-f91ec8ff5d75"
    },
    {
      "cell_type": "code",
      "execution_count": null,
      "metadata": {
        "id": "c724ecae-c57e-4884-ab26-da1616f8f177",
        "outputId": "edcc3e57-35cb-4361-bcfc-dccd08fa81ef"
      },
      "outputs": [
        {
          "data": {
            "text/html": [
              "<div>\n",
              "<style scoped>\n",
              "    .dataframe tbody tr th:only-of-type {\n",
              "        vertical-align: middle;\n",
              "    }\n",
              "\n",
              "    .dataframe tbody tr th {\n",
              "        vertical-align: top;\n",
              "    }\n",
              "\n",
              "    .dataframe thead th {\n",
              "        text-align: right;\n",
              "    }\n",
              "</style>\n",
              "<table border=\"1\" class=\"dataframe\">\n",
              "  <thead>\n",
              "    <tr style=\"text-align: right;\">\n",
              "      <th></th>\n",
              "      <th>loan_limit</th>\n",
              "      <th>approv_in_adv</th>\n",
              "      <th>loan_type</th>\n",
              "      <th>loan_purpose</th>\n",
              "      <th>Credit_Worthiness</th>\n",
              "      <th>open_credit</th>\n",
              "      <th>business_or_commercial</th>\n",
              "      <th>loan_amount</th>\n",
              "      <th>term</th>\n",
              "      <th>Neg_ammortization</th>\n",
              "      <th>...</th>\n",
              "      <th>credit_type</th>\n",
              "      <th>Credit_Score</th>\n",
              "      <th>co-applicant_credit_type</th>\n",
              "      <th>age</th>\n",
              "      <th>submission_of_application</th>\n",
              "      <th>LTV</th>\n",
              "      <th>Region</th>\n",
              "      <th>Security_Type</th>\n",
              "      <th>Status</th>\n",
              "      <th>dtir1</th>\n",
              "    </tr>\n",
              "  </thead>\n",
              "  <tbody>\n",
              "    <tr>\n",
              "      <th>0</th>\n",
              "      <td>False</td>\n",
              "      <td>False</td>\n",
              "      <td>False</td>\n",
              "      <td>False</td>\n",
              "      <td>False</td>\n",
              "      <td>False</td>\n",
              "      <td>False</td>\n",
              "      <td>False</td>\n",
              "      <td>False</td>\n",
              "      <td>False</td>\n",
              "      <td>...</td>\n",
              "      <td>False</td>\n",
              "      <td>False</td>\n",
              "      <td>False</td>\n",
              "      <td>False</td>\n",
              "      <td>False</td>\n",
              "      <td>False</td>\n",
              "      <td>False</td>\n",
              "      <td>False</td>\n",
              "      <td>False</td>\n",
              "      <td>False</td>\n",
              "    </tr>\n",
              "    <tr>\n",
              "      <th>1</th>\n",
              "      <td>False</td>\n",
              "      <td>False</td>\n",
              "      <td>False</td>\n",
              "      <td>False</td>\n",
              "      <td>False</td>\n",
              "      <td>False</td>\n",
              "      <td>False</td>\n",
              "      <td>False</td>\n",
              "      <td>False</td>\n",
              "      <td>False</td>\n",
              "      <td>...</td>\n",
              "      <td>False</td>\n",
              "      <td>False</td>\n",
              "      <td>False</td>\n",
              "      <td>False</td>\n",
              "      <td>False</td>\n",
              "      <td>True</td>\n",
              "      <td>False</td>\n",
              "      <td>False</td>\n",
              "      <td>False</td>\n",
              "      <td>True</td>\n",
              "    </tr>\n",
              "    <tr>\n",
              "      <th>2</th>\n",
              "      <td>False</td>\n",
              "      <td>False</td>\n",
              "      <td>False</td>\n",
              "      <td>False</td>\n",
              "      <td>False</td>\n",
              "      <td>False</td>\n",
              "      <td>False</td>\n",
              "      <td>False</td>\n",
              "      <td>False</td>\n",
              "      <td>False</td>\n",
              "      <td>...</td>\n",
              "      <td>False</td>\n",
              "      <td>False</td>\n",
              "      <td>False</td>\n",
              "      <td>False</td>\n",
              "      <td>False</td>\n",
              "      <td>False</td>\n",
              "      <td>False</td>\n",
              "      <td>False</td>\n",
              "      <td>False</td>\n",
              "      <td>False</td>\n",
              "    </tr>\n",
              "    <tr>\n",
              "      <th>3</th>\n",
              "      <td>False</td>\n",
              "      <td>False</td>\n",
              "      <td>False</td>\n",
              "      <td>False</td>\n",
              "      <td>False</td>\n",
              "      <td>False</td>\n",
              "      <td>False</td>\n",
              "      <td>False</td>\n",
              "      <td>False</td>\n",
              "      <td>False</td>\n",
              "      <td>...</td>\n",
              "      <td>False</td>\n",
              "      <td>False</td>\n",
              "      <td>False</td>\n",
              "      <td>False</td>\n",
              "      <td>False</td>\n",
              "      <td>False</td>\n",
              "      <td>False</td>\n",
              "      <td>False</td>\n",
              "      <td>False</td>\n",
              "      <td>False</td>\n",
              "    </tr>\n",
              "    <tr>\n",
              "      <th>4</th>\n",
              "      <td>False</td>\n",
              "      <td>False</td>\n",
              "      <td>False</td>\n",
              "      <td>False</td>\n",
              "      <td>False</td>\n",
              "      <td>False</td>\n",
              "      <td>False</td>\n",
              "      <td>False</td>\n",
              "      <td>False</td>\n",
              "      <td>False</td>\n",
              "      <td>...</td>\n",
              "      <td>False</td>\n",
              "      <td>False</td>\n",
              "      <td>False</td>\n",
              "      <td>False</td>\n",
              "      <td>False</td>\n",
              "      <td>False</td>\n",
              "      <td>False</td>\n",
              "      <td>False</td>\n",
              "      <td>False</td>\n",
              "      <td>False</td>\n",
              "    </tr>\n",
              "    <tr>\n",
              "      <th>5</th>\n",
              "      <td>False</td>\n",
              "      <td>False</td>\n",
              "      <td>False</td>\n",
              "      <td>False</td>\n",
              "      <td>False</td>\n",
              "      <td>False</td>\n",
              "      <td>False</td>\n",
              "      <td>False</td>\n",
              "      <td>False</td>\n",
              "      <td>False</td>\n",
              "      <td>...</td>\n",
              "      <td>False</td>\n",
              "      <td>False</td>\n",
              "      <td>False</td>\n",
              "      <td>False</td>\n",
              "      <td>False</td>\n",
              "      <td>False</td>\n",
              "      <td>False</td>\n",
              "      <td>False</td>\n",
              "      <td>False</td>\n",
              "      <td>False</td>\n",
              "    </tr>\n",
              "    <tr>\n",
              "      <th>6</th>\n",
              "      <td>False</td>\n",
              "      <td>False</td>\n",
              "      <td>False</td>\n",
              "      <td>False</td>\n",
              "      <td>False</td>\n",
              "      <td>False</td>\n",
              "      <td>False</td>\n",
              "      <td>False</td>\n",
              "      <td>False</td>\n",
              "      <td>False</td>\n",
              "      <td>...</td>\n",
              "      <td>False</td>\n",
              "      <td>False</td>\n",
              "      <td>False</td>\n",
              "      <td>False</td>\n",
              "      <td>False</td>\n",
              "      <td>False</td>\n",
              "      <td>False</td>\n",
              "      <td>False</td>\n",
              "      <td>False</td>\n",
              "      <td>False</td>\n",
              "    </tr>\n",
              "    <tr>\n",
              "      <th>7</th>\n",
              "      <td>True</td>\n",
              "      <td>False</td>\n",
              "      <td>False</td>\n",
              "      <td>False</td>\n",
              "      <td>False</td>\n",
              "      <td>False</td>\n",
              "      <td>False</td>\n",
              "      <td>False</td>\n",
              "      <td>False</td>\n",
              "      <td>False</td>\n",
              "      <td>...</td>\n",
              "      <td>False</td>\n",
              "      <td>False</td>\n",
              "      <td>False</td>\n",
              "      <td>False</td>\n",
              "      <td>False</td>\n",
              "      <td>False</td>\n",
              "      <td>False</td>\n",
              "      <td>False</td>\n",
              "      <td>False</td>\n",
              "      <td>False</td>\n",
              "    </tr>\n",
              "    <tr>\n",
              "      <th>8</th>\n",
              "      <td>False</td>\n",
              "      <td>False</td>\n",
              "      <td>False</td>\n",
              "      <td>False</td>\n",
              "      <td>False</td>\n",
              "      <td>False</td>\n",
              "      <td>False</td>\n",
              "      <td>False</td>\n",
              "      <td>False</td>\n",
              "      <td>False</td>\n",
              "      <td>...</td>\n",
              "      <td>False</td>\n",
              "      <td>False</td>\n",
              "      <td>False</td>\n",
              "      <td>False</td>\n",
              "      <td>False</td>\n",
              "      <td>False</td>\n",
              "      <td>False</td>\n",
              "      <td>False</td>\n",
              "      <td>False</td>\n",
              "      <td>False</td>\n",
              "    </tr>\n",
              "    <tr>\n",
              "      <th>9</th>\n",
              "      <td>False</td>\n",
              "      <td>False</td>\n",
              "      <td>False</td>\n",
              "      <td>False</td>\n",
              "      <td>False</td>\n",
              "      <td>False</td>\n",
              "      <td>False</td>\n",
              "      <td>False</td>\n",
              "      <td>False</td>\n",
              "      <td>False</td>\n",
              "      <td>...</td>\n",
              "      <td>False</td>\n",
              "      <td>False</td>\n",
              "      <td>False</td>\n",
              "      <td>False</td>\n",
              "      <td>False</td>\n",
              "      <td>False</td>\n",
              "      <td>False</td>\n",
              "      <td>False</td>\n",
              "      <td>False</td>\n",
              "      <td>False</td>\n",
              "    </tr>\n",
              "  </tbody>\n",
              "</table>\n",
              "<p>10 rows × 28 columns</p>\n",
              "</div>"
            ],
            "text/plain": [
              "   loan_limit  approv_in_adv  loan_type  loan_purpose  Credit_Worthiness  \\\n",
              "0       False          False      False         False              False   \n",
              "1       False          False      False         False              False   \n",
              "2       False          False      False         False              False   \n",
              "3       False          False      False         False              False   \n",
              "4       False          False      False         False              False   \n",
              "5       False          False      False         False              False   \n",
              "6       False          False      False         False              False   \n",
              "7        True          False      False         False              False   \n",
              "8       False          False      False         False              False   \n",
              "9       False          False      False         False              False   \n",
              "\n",
              "   open_credit  business_or_commercial  loan_amount   term  Neg_ammortization  \\\n",
              "0        False                   False        False  False              False   \n",
              "1        False                   False        False  False              False   \n",
              "2        False                   False        False  False              False   \n",
              "3        False                   False        False  False              False   \n",
              "4        False                   False        False  False              False   \n",
              "5        False                   False        False  False              False   \n",
              "6        False                   False        False  False              False   \n",
              "7        False                   False        False  False              False   \n",
              "8        False                   False        False  False              False   \n",
              "9        False                   False        False  False              False   \n",
              "\n",
              "   ...  credit_type  Credit_Score  co-applicant_credit_type    age  \\\n",
              "0  ...        False         False                     False  False   \n",
              "1  ...        False         False                     False  False   \n",
              "2  ...        False         False                     False  False   \n",
              "3  ...        False         False                     False  False   \n",
              "4  ...        False         False                     False  False   \n",
              "5  ...        False         False                     False  False   \n",
              "6  ...        False         False                     False  False   \n",
              "7  ...        False         False                     False  False   \n",
              "8  ...        False         False                     False  False   \n",
              "9  ...        False         False                     False  False   \n",
              "\n",
              "   submission_of_application    LTV  Region  Security_Type  Status  dtir1  \n",
              "0                      False  False   False          False   False  False  \n",
              "1                      False   True   False          False   False   True  \n",
              "2                      False  False   False          False   False  False  \n",
              "3                      False  False   False          False   False  False  \n",
              "4                      False  False   False          False   False  False  \n",
              "5                      False  False   False          False   False  False  \n",
              "6                      False  False   False          False   False  False  \n",
              "7                      False  False   False          False   False  False  \n",
              "8                      False  False   False          False   False  False  \n",
              "9                      False  False   False          False   False  False  \n",
              "\n",
              "[10 rows x 28 columns]"
            ]
          },
          "execution_count": 17,
          "metadata": {},
          "output_type": "execute_result"
        }
      ],
      "source": [
        "df.isna().head(10)#.sum()"
      ],
      "id": "c724ecae-c57e-4884-ab26-da1616f8f177"
    },
    {
      "cell_type": "code",
      "execution_count": null,
      "metadata": {
        "id": "c89fbc18-4c25-4b4a-859f-afaee7ed53f9",
        "outputId": "ca369f36-8e33-4cbb-ad9f-79c9e7ab28a1"
      },
      "outputs": [
        {
          "data": {
            "text/plain": [
              "0    112031\n",
              "1     36639\n",
              "Name: Status, dtype: int64"
            ]
          },
          "execution_count": 67,
          "metadata": {},
          "output_type": "execute_result"
        }
      ],
      "source": [
        "df.Status.value_counts()"
      ],
      "id": "c89fbc18-4c25-4b4a-859f-afaee7ed53f9"
    },
    {
      "cell_type": "code",
      "execution_count": null,
      "metadata": {
        "id": "6fd4de5b-a8eb-4f42-928b-a2e38067d1f9"
      },
      "outputs": [],
      "source": [
        "cats = list(df.dtypes[df.dtypes == 'object'].index)"
      ],
      "id": "6fd4de5b-a8eb-4f42-928b-a2e38067d1f9"
    },
    {
      "cell_type": "code",
      "execution_count": null,
      "metadata": {
        "id": "db983034-136c-4b68-8117-24131c7fb2ca",
        "outputId": "5eb270f1-8c25-4200-b834-6f5721ee2eb7"
      },
      "outputs": [
        {
          "data": {
            "text/plain": [
              "['loan_limit',\n",
              " 'approv_in_adv',\n",
              " 'loan_type',\n",
              " 'loan_purpose',\n",
              " 'Credit_Worthiness',\n",
              " 'open_credit',\n",
              " 'business_or_commercial',\n",
              " 'Neg_ammortization',\n",
              " 'interest_only',\n",
              " 'lump_sum_payment',\n",
              " 'construction_type',\n",
              " 'occupancy_type',\n",
              " 'Secured_by',\n",
              " 'total_units',\n",
              " 'credit_type',\n",
              " 'co-applicant_credit_type',\n",
              " 'age',\n",
              " 'submission_of_application',\n",
              " 'Region',\n",
              " 'Security_Type']"
            ]
          },
          "execution_count": 69,
          "metadata": {},
          "output_type": "execute_result"
        }
      ],
      "source": [
        "cats"
      ],
      "id": "db983034-136c-4b68-8117-24131c7fb2ca"
    },
    {
      "cell_type": "code",
      "execution_count": null,
      "metadata": {
        "id": "99db286f-a6fd-4201-9c1e-f3f5b6411f20",
        "outputId": "87cd3f53-87d9-4db3-9d13-ef07efd9604b"
      },
      "outputs": [
        {
          "name": "stdout",
          "output_type": "stream",
          "text": [
            "cf     135348\n",
            "ncf      9978\n",
            "Name: loan_limit, dtype: int64\n",
            "nopre    124621\n",
            "pre       23141\n",
            "Name: approv_in_adv, dtype: int64\n",
            "type1    113173\n",
            "type2     20762\n",
            "type3     14735\n",
            "Name: loan_type, dtype: int64\n",
            "p3    55934\n",
            "p4    54799\n",
            "p1    34529\n",
            "p2     3274\n",
            "Name: loan_purpose, dtype: int64\n",
            "l1    142344\n",
            "l2      6326\n",
            "Name: Credit_Worthiness, dtype: int64\n",
            "nopc    148114\n",
            "opc        556\n",
            "Name: open_credit, dtype: int64\n",
            "nob/c    127908\n",
            "b/c       20762\n",
            "Name: business_or_commercial, dtype: int64\n",
            "not_neg    133420\n",
            "neg_amm     15129\n",
            "Name: Neg_ammortization, dtype: int64\n",
            "not_int     141560\n",
            "int_only      7110\n",
            "Name: interest_only, dtype: int64\n",
            "not_lpsm    145286\n",
            "lpsm          3384\n",
            "Name: lump_sum_payment, dtype: int64\n",
            "sb    148637\n",
            "mh        33\n",
            "Name: construction_type, dtype: int64\n",
            "pr    138201\n",
            "ir      7340\n",
            "sr      3129\n",
            "Name: occupancy_type, dtype: int64\n",
            "home    148637\n",
            "land        33\n",
            "Name: Secured_by, dtype: int64\n",
            "1U    146480\n",
            "2U      1477\n",
            "3U       393\n",
            "4U       320\n",
            "Name: total_units, dtype: int64\n",
            "CIB     48152\n",
            "CRIF    43901\n",
            "EXP     41319\n",
            "EQUI    15298\n",
            "Name: credit_type, dtype: int64\n",
            "CIB    74392\n",
            "EXP    74278\n",
            "Name: co-applicant_credit_type, dtype: int64\n",
            "45-54    34720\n",
            "35-44    32818\n",
            "55-64    32534\n",
            "65-74    20744\n",
            "25-34    19142\n",
            ">74       7175\n",
            "<25       1337\n",
            "Name: age, dtype: int64\n",
            "to_inst     95814\n",
            "not_inst    52656\n",
            "Name: submission_of_application, dtype: int64\n",
            "North         74722\n",
            "south         64016\n",
            "central        8697\n",
            "North-East     1235\n",
            "Name: Region, dtype: int64\n",
            "direct      148637\n",
            "Indriect        33\n",
            "Name: Security_Type, dtype: int64\n"
          ]
        }
      ],
      "source": [
        "for i in cats:\n",
        "    print(df[i].value_counts())"
      ],
      "id": "99db286f-a6fd-4201-9c1e-f3f5b6411f20"
    },
    {
      "cell_type": "code",
      "execution_count": null,
      "metadata": {
        "id": "68e9002f-d5d0-4aef-88bb-1149b31d2891"
      },
      "outputs": [],
      "source": [
        "enc = OneHotEncoder(sparse=False)\n"
      ],
      "id": "68e9002f-d5d0-4aef-88bb-1149b31d2891"
    },
    {
      "cell_type": "code",
      "execution_count": null,
      "metadata": {
        "id": "b76068f2-37a5-44d4-8254-fb9a1f527859"
      },
      "outputs": [],
      "source": [
        "cats_enc = enc.fit_transform(df[cats])"
      ],
      "id": "b76068f2-37a5-44d4-8254-fb9a1f527859"
    },
    {
      "cell_type": "code",
      "execution_count": null,
      "metadata": {
        "id": "249b9b04-df70-40cc-834b-7396fc191b25",
        "outputId": "51906be7-26b2-4dbf-c082-f824469d8c12"
      },
      "outputs": [
        {
          "data": {
            "text/plain": [
              "array([[1., 0., 0., ..., 1., 0., 1.],\n",
              "       [1., 0., 0., ..., 0., 0., 1.],\n",
              "       [1., 0., 0., ..., 1., 0., 1.],\n",
              "       ...,\n",
              "       [1., 0., 0., ..., 0., 0., 1.],\n",
              "       [1., 0., 0., ..., 0., 0., 1.],\n",
              "       [1., 0., 0., ..., 0., 0., 1.]])"
            ]
          },
          "execution_count": 24,
          "metadata": {},
          "output_type": "execute_result"
        }
      ],
      "source": [
        "cats_enc"
      ],
      "id": "249b9b04-df70-40cc-834b-7396fc191b25"
    },
    {
      "cell_type": "code",
      "execution_count": null,
      "metadata": {
        "id": "5f904eae-40d1-4627-b6ec-5d94a172009b",
        "outputId": "185f095d-7149-4093-95dd-f2a035b67f02"
      },
      "outputs": [
        {
          "name": "stderr",
          "output_type": "stream",
          "text": [
            "C:\\Users\\Gabe\\anaconda3\\lib\\site-packages\\sklearn\\utils\\deprecation.py:87: FutureWarning: Function get_feature_names is deprecated; get_feature_names is deprecated in 1.0 and will be removed in 1.2. Please use get_feature_names_out instead.\n",
            "  warnings.warn(msg, category=FutureWarning)\n"
          ]
        },
        {
          "data": {
            "text/plain": [
              "loan_limit_cf             0\n",
              "loan_limit_ncf            0\n",
              "loan_limit_nan            0\n",
              "approv_in_adv_nopre       0\n",
              "approv_in_adv_pre         0\n",
              "                         ..\n",
              "Region_North-East         0\n",
              "Region_central            0\n",
              "Region_south              0\n",
              "Security_Type_Indriect    0\n",
              "Security_Type_direct      0\n",
              "Length: 61, dtype: int64"
            ]
          },
          "execution_count": 25,
          "metadata": {},
          "output_type": "execute_result"
        }
      ],
      "source": [
        "df_enc = pd.DataFrame(cats_enc,\n",
        "                     columns = enc.get_feature_names(cats))\n",
        "df_enc.isnull().sum()"
      ],
      "id": "5f904eae-40d1-4627-b6ec-5d94a172009b"
    },
    {
      "cell_type": "code",
      "execution_count": null,
      "metadata": {
        "id": "4c974052-d20a-435e-b2c0-0162338460d0"
      },
      "outputs": [],
      "source": [
        "df_final = pd.concat([cols, df_enc], axis=1)"
      ],
      "id": "4c974052-d20a-435e-b2c0-0162338460d0"
    },
    {
      "cell_type": "code",
      "execution_count": null,
      "metadata": {
        "id": "a3c95aa2-6172-40b0-9f9f-62466daa8234"
      },
      "outputs": [],
      "source": [
        ""
      ],
      "id": "a3c95aa2-6172-40b0-9f9f-62466daa8234"
    },
    {
      "cell_type": "code",
      "execution_count": null,
      "metadata": {
        "id": "6f4cc259-62d3-414a-bd9a-d76642beff38"
      },
      "outputs": [],
      "source": [
        "# good_loan = df_final[df_final.Status==0][:36639].copy()\n",
        "# bad_loan = df_final[df_final.Status==1].copy()\n",
        "# trimmed_loan = pd.concat([good_loan, bad_loan])\n",
        "# trimmed_loan"
      ],
      "id": "6f4cc259-62d3-414a-bd9a-d76642beff38"
    },
    {
      "cell_type": "code",
      "execution_count": null,
      "metadata": {
        "id": "d8591928-adcb-4914-aaf9-2de2ed235373"
      },
      "outputs": [],
      "source": [
        "# y = trimmed_loan.Status\n",
        "# y\n",
        "# X = trimmed_loan.drop(columns = 'Status')\n",
        "# X.isnull().sum()"
      ],
      "id": "d8591928-adcb-4914-aaf9-2de2ed235373"
    },
    {
      "cell_type": "code",
      "execution_count": null,
      "metadata": {
        "id": "657c4ce3-5c8a-426d-a14d-d0c450449613",
        "outputId": "3d29de09-3925-4ba4-aef1-c52e310cb991"
      },
      "outputs": [
        {
          "data": {
            "text/plain": [
              "loan_amount               0\n",
              "term                      0\n",
              "property_value            0\n",
              "income                    0\n",
              "Credit_Score              0\n",
              "                         ..\n",
              "Region_North-East         0\n",
              "Region_central            0\n",
              "Region_south              0\n",
              "Security_Type_Indriect    0\n",
              "Security_Type_direct      0\n",
              "Length: 68, dtype: int64"
            ]
          },
          "execution_count": 29,
          "metadata": {},
          "output_type": "execute_result"
        }
      ],
      "source": [
        "y = df_final.Status\n",
        "y\n",
        "X = df_final.drop(columns = 'Status')\n",
        "X.isnull().sum()"
      ],
      "id": "657c4ce3-5c8a-426d-a14d-d0c450449613"
    },
    {
      "cell_type": "code",
      "execution_count": null,
      "metadata": {
        "id": "927d596d-88a8-4ef9-bc79-530097c84273",
        "outputId": "5a11fbb4-e0c6-4177-d65b-a742ed7972e2"
      },
      "outputs": [
        {
          "data": {
            "text/html": [
              "<div>\n",
              "<style scoped>\n",
              "    .dataframe tbody tr th:only-of-type {\n",
              "        vertical-align: middle;\n",
              "    }\n",
              "\n",
              "    .dataframe tbody tr th {\n",
              "        vertical-align: top;\n",
              "    }\n",
              "\n",
              "    .dataframe thead th {\n",
              "        text-align: right;\n",
              "    }\n",
              "</style>\n",
              "<table border=\"1\" class=\"dataframe\">\n",
              "  <thead>\n",
              "    <tr style=\"text-align: right;\">\n",
              "      <th></th>\n",
              "      <th>loan_amount</th>\n",
              "      <th>term</th>\n",
              "      <th>property_value</th>\n",
              "      <th>income</th>\n",
              "      <th>Credit_Score</th>\n",
              "      <th>LTV</th>\n",
              "      <th>Status</th>\n",
              "      <th>dtir1</th>\n",
              "      <th>loan_limit_cf</th>\n",
              "      <th>loan_limit_ncf</th>\n",
              "      <th>...</th>\n",
              "      <th>age_nan</th>\n",
              "      <th>submission_of_application_not_inst</th>\n",
              "      <th>submission_of_application_to_inst</th>\n",
              "      <th>submission_of_application_nan</th>\n",
              "      <th>Region_North</th>\n",
              "      <th>Region_North-East</th>\n",
              "      <th>Region_central</th>\n",
              "      <th>Region_south</th>\n",
              "      <th>Security_Type_Indriect</th>\n",
              "      <th>Security_Type_direct</th>\n",
              "    </tr>\n",
              "  </thead>\n",
              "  <tbody>\n",
              "    <tr>\n",
              "      <th>0</th>\n",
              "      <td>116500</td>\n",
              "      <td>360.0</td>\n",
              "      <td>118000.000000</td>\n",
              "      <td>1740.0</td>\n",
              "      <td>758</td>\n",
              "      <td>98.728814</td>\n",
              "      <td>1</td>\n",
              "      <td>45.000000</td>\n",
              "      <td>1.0</td>\n",
              "      <td>0.0</td>\n",
              "      <td>...</td>\n",
              "      <td>0.0</td>\n",
              "      <td>0.0</td>\n",
              "      <td>1.0</td>\n",
              "      <td>0.0</td>\n",
              "      <td>0.0</td>\n",
              "      <td>0.0</td>\n",
              "      <td>0.0</td>\n",
              "      <td>1.0</td>\n",
              "      <td>0.0</td>\n",
              "      <td>1.0</td>\n",
              "    </tr>\n",
              "    <tr>\n",
              "      <th>1</th>\n",
              "      <td>206500</td>\n",
              "      <td>360.0</td>\n",
              "      <td>497893.465696</td>\n",
              "      <td>4980.0</td>\n",
              "      <td>552</td>\n",
              "      <td>72.746457</td>\n",
              "      <td>1</td>\n",
              "      <td>37.732932</td>\n",
              "      <td>1.0</td>\n",
              "      <td>0.0</td>\n",
              "      <td>...</td>\n",
              "      <td>0.0</td>\n",
              "      <td>0.0</td>\n",
              "      <td>1.0</td>\n",
              "      <td>0.0</td>\n",
              "      <td>1.0</td>\n",
              "      <td>0.0</td>\n",
              "      <td>0.0</td>\n",
              "      <td>0.0</td>\n",
              "      <td>0.0</td>\n",
              "      <td>1.0</td>\n",
              "    </tr>\n",
              "    <tr>\n",
              "      <th>2</th>\n",
              "      <td>406500</td>\n",
              "      <td>360.0</td>\n",
              "      <td>508000.000000</td>\n",
              "      <td>9480.0</td>\n",
              "      <td>834</td>\n",
              "      <td>80.019685</td>\n",
              "      <td>0</td>\n",
              "      <td>46.000000</td>\n",
              "      <td>1.0</td>\n",
              "      <td>0.0</td>\n",
              "      <td>...</td>\n",
              "      <td>0.0</td>\n",
              "      <td>0.0</td>\n",
              "      <td>1.0</td>\n",
              "      <td>0.0</td>\n",
              "      <td>0.0</td>\n",
              "      <td>0.0</td>\n",
              "      <td>0.0</td>\n",
              "      <td>1.0</td>\n",
              "      <td>0.0</td>\n",
              "      <td>1.0</td>\n",
              "    </tr>\n",
              "    <tr>\n",
              "      <th>3</th>\n",
              "      <td>456500</td>\n",
              "      <td>360.0</td>\n",
              "      <td>658000.000000</td>\n",
              "      <td>11880.0</td>\n",
              "      <td>587</td>\n",
              "      <td>69.376900</td>\n",
              "      <td>0</td>\n",
              "      <td>42.000000</td>\n",
              "      <td>1.0</td>\n",
              "      <td>0.0</td>\n",
              "      <td>...</td>\n",
              "      <td>0.0</td>\n",
              "      <td>1.0</td>\n",
              "      <td>0.0</td>\n",
              "      <td>0.0</td>\n",
              "      <td>1.0</td>\n",
              "      <td>0.0</td>\n",
              "      <td>0.0</td>\n",
              "      <td>0.0</td>\n",
              "      <td>0.0</td>\n",
              "      <td>1.0</td>\n",
              "    </tr>\n",
              "    <tr>\n",
              "      <th>4</th>\n",
              "      <td>696500</td>\n",
              "      <td>360.0</td>\n",
              "      <td>758000.000000</td>\n",
              "      <td>10440.0</td>\n",
              "      <td>602</td>\n",
              "      <td>91.886544</td>\n",
              "      <td>0</td>\n",
              "      <td>39.000000</td>\n",
              "      <td>1.0</td>\n",
              "      <td>0.0</td>\n",
              "      <td>...</td>\n",
              "      <td>0.0</td>\n",
              "      <td>1.0</td>\n",
              "      <td>0.0</td>\n",
              "      <td>0.0</td>\n",
              "      <td>1.0</td>\n",
              "      <td>0.0</td>\n",
              "      <td>0.0</td>\n",
              "      <td>0.0</td>\n",
              "      <td>0.0</td>\n",
              "      <td>1.0</td>\n",
              "    </tr>\n",
              "    <tr>\n",
              "      <th>...</th>\n",
              "      <td>...</td>\n",
              "      <td>...</td>\n",
              "      <td>...</td>\n",
              "      <td>...</td>\n",
              "      <td>...</td>\n",
              "      <td>...</td>\n",
              "      <td>...</td>\n",
              "      <td>...</td>\n",
              "      <td>...</td>\n",
              "      <td>...</td>\n",
              "      <td>...</td>\n",
              "      <td>...</td>\n",
              "      <td>...</td>\n",
              "      <td>...</td>\n",
              "      <td>...</td>\n",
              "      <td>...</td>\n",
              "      <td>...</td>\n",
              "      <td>...</td>\n",
              "      <td>...</td>\n",
              "      <td>...</td>\n",
              "      <td>...</td>\n",
              "    </tr>\n",
              "    <tr>\n",
              "      <th>148665</th>\n",
              "      <td>436500</td>\n",
              "      <td>180.0</td>\n",
              "      <td>608000.000000</td>\n",
              "      <td>7860.0</td>\n",
              "      <td>659</td>\n",
              "      <td>71.792763</td>\n",
              "      <td>0</td>\n",
              "      <td>48.000000</td>\n",
              "      <td>1.0</td>\n",
              "      <td>0.0</td>\n",
              "      <td>...</td>\n",
              "      <td>0.0</td>\n",
              "      <td>0.0</td>\n",
              "      <td>1.0</td>\n",
              "      <td>0.0</td>\n",
              "      <td>0.0</td>\n",
              "      <td>0.0</td>\n",
              "      <td>0.0</td>\n",
              "      <td>1.0</td>\n",
              "      <td>0.0</td>\n",
              "      <td>1.0</td>\n",
              "    </tr>\n",
              "    <tr>\n",
              "      <th>148666</th>\n",
              "      <td>586500</td>\n",
              "      <td>360.0</td>\n",
              "      <td>788000.000000</td>\n",
              "      <td>7140.0</td>\n",
              "      <td>569</td>\n",
              "      <td>74.428934</td>\n",
              "      <td>0</td>\n",
              "      <td>15.000000</td>\n",
              "      <td>1.0</td>\n",
              "      <td>0.0</td>\n",
              "      <td>...</td>\n",
              "      <td>0.0</td>\n",
              "      <td>1.0</td>\n",
              "      <td>0.0</td>\n",
              "      <td>0.0</td>\n",
              "      <td>0.0</td>\n",
              "      <td>0.0</td>\n",
              "      <td>0.0</td>\n",
              "      <td>1.0</td>\n",
              "      <td>0.0</td>\n",
              "      <td>1.0</td>\n",
              "    </tr>\n",
              "    <tr>\n",
              "      <th>148667</th>\n",
              "      <td>446500</td>\n",
              "      <td>180.0</td>\n",
              "      <td>728000.000000</td>\n",
              "      <td>6900.0</td>\n",
              "      <td>702</td>\n",
              "      <td>61.332418</td>\n",
              "      <td>0</td>\n",
              "      <td>49.000000</td>\n",
              "      <td>1.0</td>\n",
              "      <td>0.0</td>\n",
              "      <td>...</td>\n",
              "      <td>0.0</td>\n",
              "      <td>1.0</td>\n",
              "      <td>0.0</td>\n",
              "      <td>0.0</td>\n",
              "      <td>1.0</td>\n",
              "      <td>0.0</td>\n",
              "      <td>0.0</td>\n",
              "      <td>0.0</td>\n",
              "      <td>0.0</td>\n",
              "      <td>1.0</td>\n",
              "    </tr>\n",
              "    <tr>\n",
              "      <th>148668</th>\n",
              "      <td>196500</td>\n",
              "      <td>180.0</td>\n",
              "      <td>278000.000000</td>\n",
              "      <td>7140.0</td>\n",
              "      <td>737</td>\n",
              "      <td>70.683453</td>\n",
              "      <td>0</td>\n",
              "      <td>29.000000</td>\n",
              "      <td>1.0</td>\n",
              "      <td>0.0</td>\n",
              "      <td>...</td>\n",
              "      <td>0.0</td>\n",
              "      <td>0.0</td>\n",
              "      <td>1.0</td>\n",
              "      <td>0.0</td>\n",
              "      <td>1.0</td>\n",
              "      <td>0.0</td>\n",
              "      <td>0.0</td>\n",
              "      <td>0.0</td>\n",
              "      <td>0.0</td>\n",
              "      <td>1.0</td>\n",
              "    </tr>\n",
              "    <tr>\n",
              "      <th>148669</th>\n",
              "      <td>406500</td>\n",
              "      <td>240.0</td>\n",
              "      <td>558000.000000</td>\n",
              "      <td>7260.0</td>\n",
              "      <td>830</td>\n",
              "      <td>72.849462</td>\n",
              "      <td>0</td>\n",
              "      <td>44.000000</td>\n",
              "      <td>1.0</td>\n",
              "      <td>0.0</td>\n",
              "      <td>...</td>\n",
              "      <td>0.0</td>\n",
              "      <td>1.0</td>\n",
              "      <td>0.0</td>\n",
              "      <td>0.0</td>\n",
              "      <td>1.0</td>\n",
              "      <td>0.0</td>\n",
              "      <td>0.0</td>\n",
              "      <td>0.0</td>\n",
              "      <td>0.0</td>\n",
              "      <td>1.0</td>\n",
              "    </tr>\n",
              "  </tbody>\n",
              "</table>\n",
              "<p>148670 rows × 69 columns</p>\n",
              "</div>"
            ],
            "text/plain": [
              "        loan_amount   term  property_value   income  Credit_Score        LTV  \\\n",
              "0            116500  360.0   118000.000000   1740.0           758  98.728814   \n",
              "1            206500  360.0   497893.465696   4980.0           552  72.746457   \n",
              "2            406500  360.0   508000.000000   9480.0           834  80.019685   \n",
              "3            456500  360.0   658000.000000  11880.0           587  69.376900   \n",
              "4            696500  360.0   758000.000000  10440.0           602  91.886544   \n",
              "...             ...    ...             ...      ...           ...        ...   \n",
              "148665       436500  180.0   608000.000000   7860.0           659  71.792763   \n",
              "148666       586500  360.0   788000.000000   7140.0           569  74.428934   \n",
              "148667       446500  180.0   728000.000000   6900.0           702  61.332418   \n",
              "148668       196500  180.0   278000.000000   7140.0           737  70.683453   \n",
              "148669       406500  240.0   558000.000000   7260.0           830  72.849462   \n",
              "\n",
              "        Status      dtir1  loan_limit_cf  loan_limit_ncf  ...  age_nan  \\\n",
              "0            1  45.000000            1.0             0.0  ...      0.0   \n",
              "1            1  37.732932            1.0             0.0  ...      0.0   \n",
              "2            0  46.000000            1.0             0.0  ...      0.0   \n",
              "3            0  42.000000            1.0             0.0  ...      0.0   \n",
              "4            0  39.000000            1.0             0.0  ...      0.0   \n",
              "...        ...        ...            ...             ...  ...      ...   \n",
              "148665       0  48.000000            1.0             0.0  ...      0.0   \n",
              "148666       0  15.000000            1.0             0.0  ...      0.0   \n",
              "148667       0  49.000000            1.0             0.0  ...      0.0   \n",
              "148668       0  29.000000            1.0             0.0  ...      0.0   \n",
              "148669       0  44.000000            1.0             0.0  ...      0.0   \n",
              "\n",
              "        submission_of_application_not_inst  submission_of_application_to_inst  \\\n",
              "0                                      0.0                                1.0   \n",
              "1                                      0.0                                1.0   \n",
              "2                                      0.0                                1.0   \n",
              "3                                      1.0                                0.0   \n",
              "4                                      1.0                                0.0   \n",
              "...                                    ...                                ...   \n",
              "148665                                 0.0                                1.0   \n",
              "148666                                 1.0                                0.0   \n",
              "148667                                 1.0                                0.0   \n",
              "148668                                 0.0                                1.0   \n",
              "148669                                 1.0                                0.0   \n",
              "\n",
              "        submission_of_application_nan  Region_North  Region_North-East  \\\n",
              "0                                 0.0           0.0                0.0   \n",
              "1                                 0.0           1.0                0.0   \n",
              "2                                 0.0           0.0                0.0   \n",
              "3                                 0.0           1.0                0.0   \n",
              "4                                 0.0           1.0                0.0   \n",
              "...                               ...           ...                ...   \n",
              "148665                            0.0           0.0                0.0   \n",
              "148666                            0.0           0.0                0.0   \n",
              "148667                            0.0           1.0                0.0   \n",
              "148668                            0.0           1.0                0.0   \n",
              "148669                            0.0           1.0                0.0   \n",
              "\n",
              "        Region_central  Region_south  Security_Type_Indriect  \\\n",
              "0                  0.0           1.0                     0.0   \n",
              "1                  0.0           0.0                     0.0   \n",
              "2                  0.0           1.0                     0.0   \n",
              "3                  0.0           0.0                     0.0   \n",
              "4                  0.0           0.0                     0.0   \n",
              "...                ...           ...                     ...   \n",
              "148665             0.0           1.0                     0.0   \n",
              "148666             0.0           1.0                     0.0   \n",
              "148667             0.0           0.0                     0.0   \n",
              "148668             0.0           0.0                     0.0   \n",
              "148669             0.0           0.0                     0.0   \n",
              "\n",
              "        Security_Type_direct  \n",
              "0                        1.0  \n",
              "1                        1.0  \n",
              "2                        1.0  \n",
              "3                        1.0  \n",
              "4                        1.0  \n",
              "...                      ...  \n",
              "148665                   1.0  \n",
              "148666                   1.0  \n",
              "148667                   1.0  \n",
              "148668                   1.0  \n",
              "148669                   1.0  \n",
              "\n",
              "[148670 rows x 69 columns]"
            ]
          },
          "execution_count": 30,
          "metadata": {},
          "output_type": "execute_result"
        }
      ],
      "source": [
        "df_final"
      ],
      "id": "927d596d-88a8-4ef9-bc79-530097c84273"
    },
    {
      "cell_type": "code",
      "execution_count": null,
      "metadata": {
        "id": "27495e0a-f1e6-4876-a54c-09bef41a9f37"
      },
      "outputs": [],
      "source": [
        "X_train, X_test, y_train, y_test = train_test_split(X, y, random_state=1)"
      ],
      "id": "27495e0a-f1e6-4876-a54c-09bef41a9f37"
    },
    {
      "cell_type": "code",
      "execution_count": null,
      "metadata": {
        "id": "b1915267-210e-4e94-8be9-62438d6a7157"
      },
      "outputs": [],
      "source": [
        "scaler = StandardScaler()\n",
        "X_scaler = scaler.fit(X_train)\n",
        "X_train_scaled = X_scaler.transform(X_train)\n",
        "X_test_scaled = X_scaler.transform(X_test)"
      ],
      "id": "b1915267-210e-4e94-8be9-62438d6a7157"
    },
    {
      "cell_type": "code",
      "execution_count": null,
      "metadata": {
        "id": "f2985e07-7af4-4012-94a5-0fbe20dbfc28",
        "outputId": "bce68062-69a2-4031-9729-03caa4f05655"
      },
      "outputs": [
        {
          "data": {
            "text/plain": [
              "array([[-1.11738103,  0.42588032, -1.00442995, ..., -0.87161105,\n",
              "        -0.01436374,  0.01436374],\n",
              "       [ 0.30502914,  0.42588032,  0.14916529, ...,  1.14730073,\n",
              "        -0.01436374,  0.01436374],\n",
              "       [ 0.96152614, -0.60159495,  0.11958593, ..., -0.87161105,\n",
              "        -0.01436374,  0.01436374],\n",
              "       ...,\n",
              "       [-0.13263553,  0.42588032, -0.41284265, ...,  1.14730073,\n",
              "        -0.01436374,  0.01436374],\n",
              "       [-0.07792745,  0.42588032, -0.41284265, ...,  1.14730073,\n",
              "        -0.01436374,  0.01436374],\n",
              "       [-0.40617595, -1.62907022, -0.0283109 , ...,  1.14730073,\n",
              "        -0.01436374,  0.01436374]])"
            ]
          },
          "execution_count": 33,
          "metadata": {},
          "output_type": "execute_result"
        }
      ],
      "source": [
        "X_train_scaled"
      ],
      "id": "f2985e07-7af4-4012-94a5-0fbe20dbfc28"
    },
    {
      "cell_type": "code",
      "execution_count": null,
      "metadata": {
        "id": "28034ce1-b586-4fe4-8343-7e8387d6e2a7"
      },
      "outputs": [],
      "source": [
        "# ros = RandomOverSampler()"
      ],
      "id": "28034ce1-b586-4fe4-8343-7e8387d6e2a7"
    },
    {
      "cell_type": "code",
      "execution_count": null,
      "metadata": {
        "id": "be2c44af-1fe6-4b57-a1ba-28a189105730"
      },
      "outputs": [],
      "source": [
        "# ros.fit_resample()\n",
        "# X_train_scaled = ros.fit_resample(X_train_scaled)"
      ],
      "id": "be2c44af-1fe6-4b57-a1ba-28a189105730"
    },
    {
      "cell_type": "code",
      "execution_count": null,
      "metadata": {
        "id": "9b8bfe2e-2521-45ff-a1f5-a6811e10fba0"
      },
      "outputs": [],
      "source": [
        "#ros.fit_resample(X_train_scaled, y_train)"
      ],
      "id": "9b8bfe2e-2521-45ff-a1f5-a6811e10fba0"
    },
    {
      "cell_type": "code",
      "execution_count": null,
      "metadata": {
        "id": "25a7f887-dd97-42a4-b66d-45ba00aa7c02",
        "outputId": "d586fc31-3c12-4d35-9b13-360d68ee2935"
      },
      "outputs": [
        {
          "data": {
            "text/plain": [
              "array([[-1.11738103,  0.42588032, -1.00442995, ..., -0.87161105,\n",
              "        -0.01436374,  0.01436374],\n",
              "       [ 0.30502914,  0.42588032,  0.14916529, ...,  1.14730073,\n",
              "        -0.01436374,  0.01436374],\n",
              "       [ 0.96152614, -0.60159495,  0.11958593, ..., -0.87161105,\n",
              "        -0.01436374,  0.01436374],\n",
              "       ...,\n",
              "       [-0.13263553,  0.42588032, -0.41284265, ...,  1.14730073,\n",
              "        -0.01436374,  0.01436374],\n",
              "       [-0.07792745,  0.42588032, -0.41284265, ...,  1.14730073,\n",
              "        -0.01436374,  0.01436374],\n",
              "       [-0.40617595, -1.62907022, -0.0283109 , ...,  1.14730073,\n",
              "        -0.01436374,  0.01436374]])"
            ]
          },
          "execution_count": 37,
          "metadata": {},
          "output_type": "execute_result"
        }
      ],
      "source": [
        "X_train_scaled\n"
      ],
      "id": "25a7f887-dd97-42a4-b66d-45ba00aa7c02"
    },
    {
      "cell_type": "code",
      "execution_count": null,
      "metadata": {
        "id": "42b0eb08-deda-45c0-aac7-f6b83a691359",
        "outputId": "1a01c121-25f1-4ff7-bdec-dd240f84eebf"
      },
      "outputs": [
        {
          "data": {
            "text/html": [
              "<div>\n",
              "<style scoped>\n",
              "    .dataframe tbody tr th:only-of-type {\n",
              "        vertical-align: middle;\n",
              "    }\n",
              "\n",
              "    .dataframe tbody tr th {\n",
              "        vertical-align: top;\n",
              "    }\n",
              "\n",
              "    .dataframe thead th {\n",
              "        text-align: right;\n",
              "    }\n",
              "</style>\n",
              "<table border=\"1\" class=\"dataframe\">\n",
              "  <thead>\n",
              "    <tr style=\"text-align: right;\">\n",
              "      <th></th>\n",
              "      <th>0</th>\n",
              "      <th>1</th>\n",
              "      <th>2</th>\n",
              "      <th>3</th>\n",
              "      <th>4</th>\n",
              "      <th>5</th>\n",
              "      <th>6</th>\n",
              "      <th>7</th>\n",
              "      <th>8</th>\n",
              "      <th>9</th>\n",
              "      <th>...</th>\n",
              "      <th>58</th>\n",
              "      <th>59</th>\n",
              "      <th>60</th>\n",
              "      <th>61</th>\n",
              "      <th>62</th>\n",
              "      <th>63</th>\n",
              "      <th>64</th>\n",
              "      <th>65</th>\n",
              "      <th>66</th>\n",
              "      <th>67</th>\n",
              "    </tr>\n",
              "  </thead>\n",
              "  <tbody>\n",
              "    <tr>\n",
              "      <th>0</th>\n",
              "      <td>-1.117381</td>\n",
              "      <td>0.425880</td>\n",
              "      <td>-1.004430</td>\n",
              "      <td>-0.709906</td>\n",
              "      <td>0.071742</td>\n",
              "      <td>0.195337</td>\n",
              "      <td>-2.671150</td>\n",
              "      <td>0.314655</td>\n",
              "      <td>-0.269269</td>\n",
              "      <td>-0.151661</td>\n",
              "      <td>...</td>\n",
              "      <td>-0.03731</td>\n",
              "      <td>-0.740890</td>\n",
              "      <td>0.743143</td>\n",
              "      <td>-0.03731</td>\n",
              "      <td>-1.003576</td>\n",
              "      <td>-0.091412</td>\n",
              "      <td>4.022510</td>\n",
              "      <td>-0.871611</td>\n",
              "      <td>-0.014364</td>\n",
              "      <td>0.014364</td>\n",
              "    </tr>\n",
              "    <tr>\n",
              "      <th>1</th>\n",
              "      <td>0.305029</td>\n",
              "      <td>0.425880</td>\n",
              "      <td>0.149165</td>\n",
              "      <td>0.338091</td>\n",
              "      <td>-0.247591</td>\n",
              "      <td>-0.058399</td>\n",
              "      <td>-1.530393</td>\n",
              "      <td>0.314655</td>\n",
              "      <td>-0.269269</td>\n",
              "      <td>-0.151661</td>\n",
              "      <td>...</td>\n",
              "      <td>-0.03731</td>\n",
              "      <td>1.349727</td>\n",
              "      <td>-1.345637</td>\n",
              "      <td>-0.03731</td>\n",
              "      <td>-1.003576</td>\n",
              "      <td>-0.091412</td>\n",
              "      <td>-0.248601</td>\n",
              "      <td>1.147301</td>\n",
              "      <td>-0.014364</td>\n",
              "      <td>0.014364</td>\n",
              "    </tr>\n",
              "    <tr>\n",
              "      <th>2</th>\n",
              "      <td>0.961526</td>\n",
              "      <td>-0.601595</td>\n",
              "      <td>0.119586</td>\n",
              "      <td>-0.298543</td>\n",
              "      <td>1.720191</td>\n",
              "      <td>0.570101</td>\n",
              "      <td>0.854825</td>\n",
              "      <td>0.314655</td>\n",
              "      <td>-0.269269</td>\n",
              "      <td>-0.151661</td>\n",
              "      <td>...</td>\n",
              "      <td>-0.03731</td>\n",
              "      <td>1.349727</td>\n",
              "      <td>-1.345637</td>\n",
              "      <td>-0.03731</td>\n",
              "      <td>-1.003576</td>\n",
              "      <td>-0.091412</td>\n",
              "      <td>4.022510</td>\n",
              "      <td>-0.871611</td>\n",
              "      <td>-0.014364</td>\n",
              "      <td>0.014364</td>\n",
              "    </tr>\n",
              "    <tr>\n",
              "      <th>3</th>\n",
              "      <td>-1.007965</td>\n",
              "      <td>0.425880</td>\n",
              "      <td>-0.501581</td>\n",
              "      <td>-0.788261</td>\n",
              "      <td>-1.464509</td>\n",
              "      <td>-0.746747</td>\n",
              "      <td>1.165941</td>\n",
              "      <td>-3.178089</td>\n",
              "      <td>-0.269269</td>\n",
              "      <td>6.593653</td>\n",
              "      <td>...</td>\n",
              "      <td>-0.03731</td>\n",
              "      <td>-0.740890</td>\n",
              "      <td>0.743143</td>\n",
              "      <td>-0.03731</td>\n",
              "      <td>-1.003576</td>\n",
              "      <td>-0.091412</td>\n",
              "      <td>-0.248601</td>\n",
              "      <td>1.147301</td>\n",
              "      <td>-0.014364</td>\n",
              "      <td>0.014364</td>\n",
              "    </tr>\n",
              "    <tr>\n",
              "      <th>4</th>\n",
              "      <td>-0.077927</td>\n",
              "      <td>0.425880</td>\n",
              "      <td>0.000953</td>\n",
              "      <td>-0.484636</td>\n",
              "      <td>-0.722275</td>\n",
              "      <td>0.000610</td>\n",
              "      <td>-0.002512</td>\n",
              "      <td>0.314655</td>\n",
              "      <td>-0.269269</td>\n",
              "      <td>-0.151661</td>\n",
              "      <td>...</td>\n",
              "      <td>-0.03731</td>\n",
              "      <td>-0.740890</td>\n",
              "      <td>0.743143</td>\n",
              "      <td>-0.03731</td>\n",
              "      <td>-1.003576</td>\n",
              "      <td>-0.091412</td>\n",
              "      <td>4.022510</td>\n",
              "      <td>-0.871611</td>\n",
              "      <td>-0.014364</td>\n",
              "      <td>0.014364</td>\n",
              "    </tr>\n",
              "    <tr>\n",
              "      <th>...</th>\n",
              "      <td>...</td>\n",
              "      <td>...</td>\n",
              "      <td>...</td>\n",
              "      <td>...</td>\n",
              "      <td>...</td>\n",
              "      <td>...</td>\n",
              "      <td>...</td>\n",
              "      <td>...</td>\n",
              "      <td>...</td>\n",
              "      <td>...</td>\n",
              "      <td>...</td>\n",
              "      <td>...</td>\n",
              "      <td>...</td>\n",
              "      <td>...</td>\n",
              "      <td>...</td>\n",
              "      <td>...</td>\n",
              "      <td>...</td>\n",
              "      <td>...</td>\n",
              "      <td>...</td>\n",
              "      <td>...</td>\n",
              "      <td>...</td>\n",
              "    </tr>\n",
              "    <tr>\n",
              "      <th>111497</th>\n",
              "      <td>1.399191</td>\n",
              "      <td>0.425880</td>\n",
              "      <td>1.066126</td>\n",
              "      <td>-0.024300</td>\n",
              "      <td>-1.067500</td>\n",
              "      <td>-0.116218</td>\n",
              "      <td>0.128889</td>\n",
              "      <td>0.314655</td>\n",
              "      <td>-0.269269</td>\n",
              "      <td>-0.151661</td>\n",
              "      <td>...</td>\n",
              "      <td>-0.03731</td>\n",
              "      <td>1.349727</td>\n",
              "      <td>-1.345637</td>\n",
              "      <td>-0.03731</td>\n",
              "      <td>-1.003576</td>\n",
              "      <td>-0.091412</td>\n",
              "      <td>-0.248601</td>\n",
              "      <td>1.147301</td>\n",
              "      <td>-0.014364</td>\n",
              "      <td>0.014364</td>\n",
              "    </tr>\n",
              "    <tr>\n",
              "      <th>111498</th>\n",
              "      <td>0.906818</td>\n",
              "      <td>0.425880</td>\n",
              "      <td>0.267483</td>\n",
              "      <td>0.367474</td>\n",
              "      <td>1.521687</td>\n",
              "      <td>0.311784</td>\n",
              "      <td>-0.389637</td>\n",
              "      <td>0.314655</td>\n",
              "      <td>-0.269269</td>\n",
              "      <td>-0.151661</td>\n",
              "      <td>...</td>\n",
              "      <td>-0.03731</td>\n",
              "      <td>1.349727</td>\n",
              "      <td>-1.345637</td>\n",
              "      <td>-0.03731</td>\n",
              "      <td>0.996437</td>\n",
              "      <td>-0.091412</td>\n",
              "      <td>-0.248601</td>\n",
              "      <td>-0.871611</td>\n",
              "      <td>-0.014364</td>\n",
              "      <td>0.014364</td>\n",
              "    </tr>\n",
              "    <tr>\n",
              "      <th>111499</th>\n",
              "      <td>-0.132636</td>\n",
              "      <td>0.425880</td>\n",
              "      <td>-0.412843</td>\n",
              "      <td>-0.494430</td>\n",
              "      <td>-1.240113</td>\n",
              "      <td>0.343075</td>\n",
              "      <td>2.306698</td>\n",
              "      <td>0.314655</td>\n",
              "      <td>-0.269269</td>\n",
              "      <td>-0.151661</td>\n",
              "      <td>...</td>\n",
              "      <td>-0.03731</td>\n",
              "      <td>-0.740890</td>\n",
              "      <td>0.743143</td>\n",
              "      <td>-0.03731</td>\n",
              "      <td>-1.003576</td>\n",
              "      <td>-0.091412</td>\n",
              "      <td>-0.248601</td>\n",
              "      <td>1.147301</td>\n",
              "      <td>-0.014364</td>\n",
              "      <td>0.014364</td>\n",
              "    </tr>\n",
              "    <tr>\n",
              "      <th>111500</th>\n",
              "      <td>-0.077927</td>\n",
              "      <td>0.425880</td>\n",
              "      <td>-0.412843</td>\n",
              "      <td>-0.308337</td>\n",
              "      <td>-0.178546</td>\n",
              "      <td>0.417415</td>\n",
              "      <td>1.891877</td>\n",
              "      <td>0.314655</td>\n",
              "      <td>-0.269269</td>\n",
              "      <td>-0.151661</td>\n",
              "      <td>...</td>\n",
              "      <td>-0.03731</td>\n",
              "      <td>-0.740890</td>\n",
              "      <td>0.743143</td>\n",
              "      <td>-0.03731</td>\n",
              "      <td>-1.003576</td>\n",
              "      <td>-0.091412</td>\n",
              "      <td>-0.248601</td>\n",
              "      <td>1.147301</td>\n",
              "      <td>-0.014364</td>\n",
              "      <td>0.014364</td>\n",
              "    </tr>\n",
              "    <tr>\n",
              "      <th>111501</th>\n",
              "      <td>-0.406176</td>\n",
              "      <td>-1.629070</td>\n",
              "      <td>-0.028311</td>\n",
              "      <td>-1.131064</td>\n",
              "      <td>1.633885</td>\n",
              "      <td>-0.536584</td>\n",
              "      <td>-2.360035</td>\n",
              "      <td>0.314655</td>\n",
              "      <td>-0.269269</td>\n",
              "      <td>-0.151661</td>\n",
              "      <td>...</td>\n",
              "      <td>-0.03731</td>\n",
              "      <td>1.349727</td>\n",
              "      <td>-1.345637</td>\n",
              "      <td>-0.03731</td>\n",
              "      <td>-1.003576</td>\n",
              "      <td>-0.091412</td>\n",
              "      <td>-0.248601</td>\n",
              "      <td>1.147301</td>\n",
              "      <td>-0.014364</td>\n",
              "      <td>0.014364</td>\n",
              "    </tr>\n",
              "  </tbody>\n",
              "</table>\n",
              "<p>111502 rows × 68 columns</p>\n",
              "</div>"
            ],
            "text/plain": [
              "              0         1         2         3         4         5         6   \\\n",
              "0      -1.117381  0.425880 -1.004430 -0.709906  0.071742  0.195337 -2.671150   \n",
              "1       0.305029  0.425880  0.149165  0.338091 -0.247591 -0.058399 -1.530393   \n",
              "2       0.961526 -0.601595  0.119586 -0.298543  1.720191  0.570101  0.854825   \n",
              "3      -1.007965  0.425880 -0.501581 -0.788261 -1.464509 -0.746747  1.165941   \n",
              "4      -0.077927  0.425880  0.000953 -0.484636 -0.722275  0.000610 -0.002512   \n",
              "...          ...       ...       ...       ...       ...       ...       ...   \n",
              "111497  1.399191  0.425880  1.066126 -0.024300 -1.067500 -0.116218  0.128889   \n",
              "111498  0.906818  0.425880  0.267483  0.367474  1.521687  0.311784 -0.389637   \n",
              "111499 -0.132636  0.425880 -0.412843 -0.494430 -1.240113  0.343075  2.306698   \n",
              "111500 -0.077927  0.425880 -0.412843 -0.308337 -0.178546  0.417415  1.891877   \n",
              "111501 -0.406176 -1.629070 -0.028311 -1.131064  1.633885 -0.536584 -2.360035   \n",
              "\n",
              "              7         8         9   ...       58        59        60  \\\n",
              "0       0.314655 -0.269269 -0.151661  ... -0.03731 -0.740890  0.743143   \n",
              "1       0.314655 -0.269269 -0.151661  ... -0.03731  1.349727 -1.345637   \n",
              "2       0.314655 -0.269269 -0.151661  ... -0.03731  1.349727 -1.345637   \n",
              "3      -3.178089 -0.269269  6.593653  ... -0.03731 -0.740890  0.743143   \n",
              "4       0.314655 -0.269269 -0.151661  ... -0.03731 -0.740890  0.743143   \n",
              "...          ...       ...       ...  ...      ...       ...       ...   \n",
              "111497  0.314655 -0.269269 -0.151661  ... -0.03731  1.349727 -1.345637   \n",
              "111498  0.314655 -0.269269 -0.151661  ... -0.03731  1.349727 -1.345637   \n",
              "111499  0.314655 -0.269269 -0.151661  ... -0.03731 -0.740890  0.743143   \n",
              "111500  0.314655 -0.269269 -0.151661  ... -0.03731 -0.740890  0.743143   \n",
              "111501  0.314655 -0.269269 -0.151661  ... -0.03731  1.349727 -1.345637   \n",
              "\n",
              "             61        62        63        64        65        66        67  \n",
              "0      -0.03731 -1.003576 -0.091412  4.022510 -0.871611 -0.014364  0.014364  \n",
              "1      -0.03731 -1.003576 -0.091412 -0.248601  1.147301 -0.014364  0.014364  \n",
              "2      -0.03731 -1.003576 -0.091412  4.022510 -0.871611 -0.014364  0.014364  \n",
              "3      -0.03731 -1.003576 -0.091412 -0.248601  1.147301 -0.014364  0.014364  \n",
              "4      -0.03731 -1.003576 -0.091412  4.022510 -0.871611 -0.014364  0.014364  \n",
              "...         ...       ...       ...       ...       ...       ...       ...  \n",
              "111497 -0.03731 -1.003576 -0.091412 -0.248601  1.147301 -0.014364  0.014364  \n",
              "111498 -0.03731  0.996437 -0.091412 -0.248601 -0.871611 -0.014364  0.014364  \n",
              "111499 -0.03731 -1.003576 -0.091412 -0.248601  1.147301 -0.014364  0.014364  \n",
              "111500 -0.03731 -1.003576 -0.091412 -0.248601  1.147301 -0.014364  0.014364  \n",
              "111501 -0.03731 -1.003576 -0.091412 -0.248601  1.147301 -0.014364  0.014364  \n",
              "\n",
              "[111502 rows x 68 columns]"
            ]
          },
          "execution_count": 38,
          "metadata": {},
          "output_type": "execute_result"
        }
      ],
      "source": [
        "pd.DataFrame(X_train_scaled)"
      ],
      "id": "42b0eb08-deda-45c0-aac7-f6b83a691359"
    },
    {
      "cell_type": "code",
      "execution_count": null,
      "metadata": {
        "id": "03c76fdc-4eca-4ce2-bd87-7d11fb0c4dc6",
        "outputId": "65efbac2-ae06-4b7a-b6f3-d6a62d80eec1"
      },
      "outputs": [
        {
          "data": {
            "text/plain": [
              "91251     1\n",
              "117136    0\n",
              "23610     1\n",
              "18637     0\n",
              "97353     1\n",
              "         ..\n",
              "73349     0\n",
              "109259    0\n",
              "50057     0\n",
              "5192      0\n",
              "128037    1\n",
              "Name: Status, Length: 111502, dtype: int64"
            ]
          },
          "execution_count": 39,
          "metadata": {},
          "output_type": "execute_result"
        }
      ],
      "source": [
        "y_train"
      ],
      "id": "03c76fdc-4eca-4ce2-bd87-7d11fb0c4dc6"
    },
    {
      "cell_type": "code",
      "execution_count": null,
      "metadata": {
        "tags": [],
        "id": "202cce97-3660-44e6-bfa1-f095a5cb10ec",
        "outputId": "f6b5704e-6c2f-48c2-f8c2-31a2773bcfee"
      },
      "outputs": [
        {
          "name": "stdout",
          "output_type": "stream",
          "text": [
            "Help on function softplus in module keras.activations:\n",
            "\n",
            "softplus(x)\n",
            "    Softplus activation function, `softplus(x) = log(exp(x) + 1)`.\n",
            "    \n",
            "    Example Usage:\n",
            "    \n",
            "    >>> a = tf.constant([-20, -1.0, 0.0, 1.0, 20], dtype = tf.float32)\n",
            "    >>> b = tf.keras.activations.softplus(a)\n",
            "    >>> b.numpy()\n",
            "    array([2.0611537e-09, 3.1326166e-01, 6.9314718e-01, 1.3132616e+00,\n",
            "             2.0000000e+01], dtype=float32)\n",
            "    \n",
            "    Args:\n",
            "        x: Input tensor.\n",
            "    \n",
            "    Returns:\n",
            "        The softplus activation: `log(exp(x) + 1)`.\n",
            "\n"
          ]
        }
      ],
      "source": [
        "help(tf.keras.activations.softplus)"
      ],
      "id": "202cce97-3660-44e6-bfa1-f095a5cb10ec"
    },
    {
      "cell_type": "code",
      "execution_count": null,
      "metadata": {
        "id": "c187739f-b139-4739-a2a9-1c2c78486446"
      },
      "outputs": [],
      "source": [
        "nn = Sequential()"
      ],
      "id": "c187739f-b139-4739-a2a9-1c2c78486446"
    },
    {
      "cell_type": "code",
      "execution_count": null,
      "metadata": {
        "id": "b3a892b6-48f4-4361-9b9a-48eeb58da462",
        "outputId": "7ae2fc5a-1943-4c3b-e866-077c360f0398"
      },
      "outputs": [
        {
          "name": "stdout",
          "output_type": "stream",
          "text": [
            "Model: \"sequential\"\n",
            "_________________________________________________________________\n",
            " Layer (type)                Output Shape              Param #   \n",
            "=================================================================\n",
            " dense (Dense)               (None, 4)                 276       \n",
            "                                                                 \n",
            " dense_1 (Dense)             (None, 2)                 10        \n",
            "                                                                 \n",
            " dense_2 (Dense)             (None, 1)                 3         \n",
            "                                                                 \n",
            " dense_3 (Dense)             (None, 1)                 2         \n",
            "                                                                 \n",
            "=================================================================\n",
            "Total params: 291\n",
            "Trainable params: 291\n",
            "Non-trainable params: 0\n",
            "_________________________________________________________________\n"
          ]
        }
      ],
      "source": [
        "hidden_nodes1 = 4\n",
        "hidden_nodes2 = 2\n",
        "hidden_nodes3 = 1\n",
        "final_nodes = 1\n",
        "num_features = len(X_train.iloc[0])\n",
        "\n",
        "\n",
        "nn.add(Dense(units = hidden_nodes1, input_dim = num_features, activation = 'relu'))\n",
        "nn.add(Dense(units = hidden_nodes2, activation = 'relu'))\n",
        "nn.add(Dense(units = hidden_nodes3, activation = 'relu'))\n",
        "nn.add(Dense(units = final_nodes, activation = 'sigmoid'))\n",
        "nn.summary()"
      ],
      "id": "b3a892b6-48f4-4361-9b9a-48eeb58da462"
    },
    {
      "cell_type": "code",
      "execution_count": null,
      "metadata": {
        "id": "1c3e505e-486a-47fc-9c86-4bafb31ce15c"
      },
      "outputs": [],
      "source": [
        "nn.compile(loss = 'binary_crossentropy', optimizer = 'adam', metrics = ['accuracy'])"
      ],
      "id": "1c3e505e-486a-47fc-9c86-4bafb31ce15c"
    },
    {
      "cell_type": "code",
      "execution_count": null,
      "metadata": {
        "id": "6b3f8304-2051-4c39-906d-687b084dde28",
        "outputId": "3f6e65e2-dfde-4238-bbc1-482bcf05b367"
      },
      "outputs": [
        {
          "name": "stdout",
          "output_type": "stream",
          "text": [
            "Epoch 1/10\n",
            "3485/3485 [==============================] - 8s 2ms/step - loss: 0.5766 - accuracy: 0.7534\n",
            "Epoch 2/10\n",
            "3485/3485 [==============================] - 7s 2ms/step - loss: 0.5586 - accuracy: 0.7534\n",
            "Epoch 3/10\n",
            "3485/3485 [==============================] - 8s 2ms/step - loss: 0.5586 - accuracy: 0.7534\n",
            "Epoch 4/10\n",
            "3485/3485 [==============================] - 8s 2ms/step - loss: 0.5586 - accuracy: 0.7534\n",
            "Epoch 5/10\n",
            "3485/3485 [==============================] - 8s 2ms/step - loss: 0.5586 - accuracy: 0.7534\n",
            "Epoch 6/10\n",
            "3485/3485 [==============================] - 7s 2ms/step - loss: 0.5586 - accuracy: 0.7534\n",
            "Epoch 7/10\n",
            "3485/3485 [==============================] - 8s 2ms/step - loss: 0.5586 - accuracy: 0.7534\n",
            "Epoch 8/10\n",
            "3485/3485 [==============================] - 7s 2ms/step - loss: 0.5586 - accuracy: 0.7534\n",
            "Epoch 9/10\n",
            "3485/3485 [==============================] - 8s 2ms/step - loss: 0.5586 - accuracy: 0.7534\n",
            "Epoch 10/10\n",
            "3485/3485 [==============================] - 7s 2ms/step - loss: 0.5586 - accuracy: 0.7534\n"
          ]
        }
      ],
      "source": [
        "fit_model = nn.fit(X_train_scaled, y_train, epochs = 10)"
      ],
      "id": "6b3f8304-2051-4c39-906d-687b084dde28"
    },
    {
      "cell_type": "code",
      "execution_count": null,
      "metadata": {
        "id": "2784f0d3-33f3-40cb-a7dd-8eb7b4326b36"
      },
      "outputs": [],
      "source": [
        "# help(fit_model)"
      ],
      "id": "2784f0d3-33f3-40cb-a7dd-8eb7b4326b36"
    },
    {
      "cell_type": "code",
      "execution_count": null,
      "metadata": {
        "id": "1ec1d3e1-d737-4f63-9163-af3f0f1dfd35",
        "outputId": "77140b88-632d-41d1-eb74-edab30b434bd"
      },
      "outputs": [
        {
          "name": "stdout",
          "output_type": "stream",
          "text": [
            "1162/1162 - 2s - loss: 0.5579 - accuracy: 0.7540 - 2s/epoch - 2ms/step\n",
            "Loss: 0.557857096195221, Accuracy: 0.7540357112884521\n"
          ]
        }
      ],
      "source": [
        "model_loss, model_accuracy = nn.evaluate(X_test_scaled, y_test, verbose=2)\n",
        "\n",
        "# Display the evaluation results\n",
        "print(f\"Loss: {model_loss}, Accuracy: {model_accuracy}\")"
      ],
      "id": "1ec1d3e1-d737-4f63-9163-af3f0f1dfd35"
    },
    {
      "cell_type": "code",
      "execution_count": null,
      "metadata": {
        "id": "610b37f7-3f91-4acf-b613-8cac3e9a4f65",
        "outputId": "e88175c0-eeae-4aae-a54b-614d65cf9751"
      },
      "outputs": [
        {
          "name": "stdout",
          "output_type": "stream",
          "text": [
            "4646/4646 [==============================] - 8s 2ms/step\n"
          ]
        }
      ],
      "source": [
        "prediction = nn.predict(X)"
      ],
      "id": "610b37f7-3f91-4acf-b613-8cac3e9a4f65"
    },
    {
      "cell_type": "code",
      "execution_count": null,
      "metadata": {
        "id": "917c2f61-743f-40f3-92cc-8bb44c35fb33"
      },
      "outputs": [],
      "source": [
        "# len(y)\n",
        "# y"
      ],
      "id": "917c2f61-743f-40f3-92cc-8bb44c35fb33"
    },
    {
      "cell_type": "code",
      "execution_count": null,
      "metadata": {
        "tags": [],
        "id": "0c672c47-ebd4-4a1f-9de9-28aa7d54b9c0",
        "outputId": "b2d4e246-e631-418a-d50e-390ba7abe641"
      },
      "outputs": [
        {
          "data": {
            "text/plain": [
              "array([[0.24592401],\n",
              "       [0.24592401],\n",
              "       [0.24592401],\n",
              "       [0.24592401],\n",
              "       [0.24592401],\n",
              "       [0.24592401],\n",
              "       [0.24592401],\n",
              "       [0.24592401],\n",
              "       [0.24592401],\n",
              "       [0.24592401],\n",
              "       [0.24592401],\n",
              "       [0.24592401],\n",
              "       [0.24592401],\n",
              "       [0.24592401],\n",
              "       [0.24592401],\n",
              "       [0.24592401],\n",
              "       [0.24592401],\n",
              "       [0.24592401],\n",
              "       [0.24592401],\n",
              "       [0.24592401]], dtype=float32)"
            ]
          },
          "execution_count": 49,
          "metadata": {},
          "output_type": "execute_result"
        }
      ],
      "source": [
        "prediction[:20]"
      ],
      "id": "0c672c47-ebd4-4a1f-9de9-28aa7d54b9c0"
    },
    {
      "cell_type": "code",
      "execution_count": null,
      "metadata": {
        "tags": [],
        "id": "5e6082a6-434a-4125-a8c5-44de08725cd3",
        "outputId": "dfa9dd66-a34e-44ae-8f8e-0357bc004101"
      },
      "outputs": [
        {
          "data": {
            "text/plain": [
              "0    112031\n",
              "1     36639\n",
              "Name: Status, dtype: int64"
            ]
          },
          "execution_count": 50,
          "metadata": {},
          "output_type": "execute_result"
        }
      ],
      "source": [
        "df_final.Status.value_counts()"
      ],
      "id": "5e6082a6-434a-4125-a8c5-44de08725cd3"
    },
    {
      "cell_type": "code",
      "execution_count": null,
      "metadata": {
        "id": "ee6046cf-4166-4bd6-a339-5d159818e9aa",
        "outputId": "01a2610f-603b-4f26-f058-6e3b85fd57d9"
      },
      "outputs": [
        {
          "data": {
            "text/plain": [
              "148670"
            ]
          },
          "execution_count": 51,
          "metadata": {},
          "output_type": "execute_result"
        }
      ],
      "source": [
        "prediction1 = np.where(prediction > .5, 1, 0)\n",
        "len(prediction1)"
      ],
      "id": "ee6046cf-4166-4bd6-a339-5d159818e9aa"
    },
    {
      "cell_type": "code",
      "execution_count": null,
      "metadata": {
        "id": "c8b9a1cd-e42f-402d-9045-6b6547c6d51d",
        "outputId": "c0498c98-9571-43a8-ec0f-d9ffe6265a73"
      },
      "outputs": [
        {
          "name": "stdout",
          "output_type": "stream",
          "text": [
            "              precision    recall  f1-score   support\n",
            "\n",
            "           0       0.75      1.00      0.86    112031\n",
            "           1       0.00      0.00      0.00     36639\n",
            "\n",
            "    accuracy                           0.75    148670\n",
            "   macro avg       0.38      0.50      0.43    148670\n",
            "weighted avg       0.57      0.75      0.65    148670\n",
            "\n"
          ]
        },
        {
          "name": "stderr",
          "output_type": "stream",
          "text": [
            "C:\\Users\\Gabe\\anaconda3\\lib\\site-packages\\sklearn\\metrics\\_classification.py:1318: UndefinedMetricWarning: Precision and F-score are ill-defined and being set to 0.0 in labels with no predicted samples. Use `zero_division` parameter to control this behavior.\n",
            "  _warn_prf(average, modifier, msg_start, len(result))\n",
            "C:\\Users\\Gabe\\anaconda3\\lib\\site-packages\\sklearn\\metrics\\_classification.py:1318: UndefinedMetricWarning: Precision and F-score are ill-defined and being set to 0.0 in labels with no predicted samples. Use `zero_division` parameter to control this behavior.\n",
            "  _warn_prf(average, modifier, msg_start, len(result))\n",
            "C:\\Users\\Gabe\\anaconda3\\lib\\site-packages\\sklearn\\metrics\\_classification.py:1318: UndefinedMetricWarning: Precision and F-score are ill-defined and being set to 0.0 in labels with no predicted samples. Use `zero_division` parameter to control this behavior.\n",
            "  _warn_prf(average, modifier, msg_start, len(result))\n"
          ]
        }
      ],
      "source": [
        "from sklearn.metrics import classification_report\n",
        "print(classification_report(y, prediction1))"
      ],
      "id": "c8b9a1cd-e42f-402d-9045-6b6547c6d51d"
    },
    {
      "cell_type": "code",
      "source": [
        "\n"
      ],
      "metadata": {
        "id": "qMctEHoZJ3wV"
      },
      "id": "qMctEHoZJ3wV",
      "execution_count": null,
      "outputs": []
    },
    {
      "cell_type": "code",
      "source": [
        ""
      ],
      "metadata": {
        "id": "8tBUdDI_LIsp"
      },
      "id": "8tBUdDI_LIsp",
      "execution_count": null,
      "outputs": []
    },
    {
      "cell_type": "code",
      "source": [
        ""
      ],
      "metadata": {
        "id": "Wl-spTrDJ8Wd"
      },
      "id": "Wl-spTrDJ8Wd",
      "execution_count": null,
      "outputs": []
    },
    {
      "cell_type": "code",
      "source": [
        ""
      ],
      "metadata": {
        "id": "rDTSGsl3KTUK"
      },
      "id": "rDTSGsl3KTUK",
      "execution_count": null,
      "outputs": []
    },
    {
      "cell_type": "code",
      "source": [
        ""
      ],
      "metadata": {
        "colab": {
          "base_uri": "https://localhost:8080/",
          "height": 164
        },
        "id": "hS4FboZpLdup",
        "outputId": "b7f7607d-36fa-4a56-eb2a-a42c4cd4dbc2"
      },
      "id": "hS4FboZpLdup",
      "execution_count": null,
      "outputs": [
        {
          "output_type": "error",
          "ename": "NameError",
          "evalue": "ignored",
          "traceback": [
            "\u001b[0;31m---------------------------------------------------------------------------\u001b[0m",
            "\u001b[0;31mNameError\u001b[0m                                 Traceback (most recent call last)",
            "\u001b[0;32m<ipython-input-1-43536289cdf9>\u001b[0m in \u001b[0;36m<module>\u001b[0;34m()\u001b[0m\n\u001b[0;32m----> 1\u001b[0;31m \u001b[0mdf\u001b[0m\u001b[0;34m.\u001b[0m\u001b[0mbarh\u001b[0m\u001b[0;34m(\u001b[0m\u001b[0;34m)\u001b[0m\u001b[0;34m\u001b[0m\u001b[0;34m\u001b[0m\u001b[0m\n\u001b[0m",
            "\u001b[0;31mNameError\u001b[0m: name 'df' is not defined"
          ]
        }
      ]
    },
    {
      "cell_type": "code",
      "source": [
        ""
      ],
      "metadata": {
        "id": "ytrmCZLB7ruC"
      },
      "id": "ytrmCZLB7ruC",
      "execution_count": null,
      "outputs": []
    }
  ],
  "metadata": {
    "kernelspec": {
      "display_name": "dev",
      "language": "python",
      "name": "dev"
    },
    "language_info": {
      "codemirror_mode": {
        "name": "ipython",
        "version": 3
      },
      "file_extension": ".py",
      "mimetype": "text/x-python",
      "name": "python",
      "nbconvert_exporter": "python",
      "pygments_lexer": "ipython3",
      "version": "3.7.11"
    },
    "colab": {
      "name": "olivia_practice.ipynb",
      "provenance": [],
      "collapsed_sections": []
    }
  },
  "nbformat": 4,
  "nbformat_minor": 5
}