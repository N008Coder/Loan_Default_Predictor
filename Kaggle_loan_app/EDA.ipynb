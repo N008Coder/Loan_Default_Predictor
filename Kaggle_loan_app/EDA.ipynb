{
  "nbformat": 4,
  "nbformat_minor": 0,
  "metadata": {
    "colab": {
      "name": "EDA.ipynb",
      "provenance": [],
      "collapsed_sections": []
    },
    "kernelspec": {
      "name": "python3",
      "display_name": "Python 3"
    },
    "language_info": {
      "name": "python"
    }
  },
  "cells": [
    {
      "cell_type": "code",
      "execution_count": null,
      "metadata": {
        "id": "PeXa0k6gXP2U"
      },
      "outputs": [],
      "source": [
        ""
      ]
    },
    {
      "cell_type": "code",
      "execution_count": 1,
      "metadata": {
        "id": "80b46324-3fe4-4f12-9530-2155ad8389d6"
      },
      "outputs": [],
      "source": [
        "import pandas as pd\n",
        "import tensorflow as tf\n",
        "from tensorflow.keras.layers import Dense\n",
        "from tensorflow.keras.models import Sequential\n",
        "from pathlib import Path\n",
        "from sklearn.model_selection import train_test_split\n",
        "from sklearn.preprocessing import StandardScaler\n",
        "from sklearn.preprocessing import OneHotEncoder\n",
        "import numpy as np\n",
        "from imblearn.over_sampling import RandomOverSampler\n",
        "\n",
        "\n",
        "\n",
        "import seaborn as sns\n",
        "\n",
        "import scipy\n",
        "from scipy.stats import chi2\n",
        "from scipy.stats import chi2_contingency\n",
        "from scipy.stats import pearsonr, spearmanr\n",
        "from sklearn.preprocessing import StandardScaler\n",
        "from sklearn.preprocessing import MinMaxScaler\n",
        "from sklearn.model_selection import train_test_split\n",
        "from sklearn.model_selection import GridSearchCV\n",
        "from sklearn.ensemble import RandomForestClassifier\n",
        "from sklearn.linear_model import LogisticRegression\n",
        "from sklearn.neighbors import KNeighborsClassifier\n",
        "from sklearn.svm import SVC\n",
        "from sklearn import tree\n",
        "from sklearn.tree import export_graphviz\n",
        "\n",
        "from sklearn.linear_model import Perceptron\n",
        "from sklearn.neural_network import MLPClassifier\n",
        "from sklearn.metrics import  precision_recall_curve, roc_auc_score, confusion_matrix, accuracy_score, recall_score, precision_score, f1_score,auc, roc_curve, plot_confusion_matrix\n",
        "\n",
        "from IPython.display import Image\n",
        "import pydotplus\n",
        "import matplotlib.pyplot as plt\n",
        "%matplotlib inline\n",
        "color = sns.color_palette()\n",
        "seed = 42"
      ]
    },
    {
      "cell_type": "code",
      "source": [
        "url = 'https://raw.githubusercontent.com/N008Coder/Loan_Default_Predictor/main/Kaggle_loan_app/Loan_Default.csv'\n",
        "df = pd.read_csv(url)\n",
        "# Dataset is now stored in a Pandas Dataframe\n",
        "df.head()"
      ],
      "metadata": {
        "colab": {
          "base_uri": "https://localhost:8080/",
          "height": 404
        },
        "id": "FrCJkynLsCuI",
        "outputId": "ec093b01-7ea0-4e86-ef40-9e12c7f71ec6"
      },
      "execution_count": 2,
      "outputs": [
        {
          "output_type": "execute_result",
          "data": {
            "text/plain": [
              "      ID  year loan_limit             Gender approv_in_adv loan_type  \\\n",
              "0  24890  2019         cf  Sex Not Available         nopre     type1   \n",
              "1  24891  2019         cf               Male         nopre     type2   \n",
              "2  24892  2019         cf               Male           pre     type1   \n",
              "3  24893  2019         cf               Male         nopre     type1   \n",
              "4  24894  2019         cf              Joint           pre     type1   \n",
              "\n",
              "  loan_purpose Credit_Worthiness open_credit business_or_commercial  ...  \\\n",
              "0           p1                l1        nopc                  nob/c  ...   \n",
              "1           p1                l1        nopc                    b/c  ...   \n",
              "2           p1                l1        nopc                  nob/c  ...   \n",
              "3           p4                l1        nopc                  nob/c  ...   \n",
              "4           p1                l1        nopc                  nob/c  ...   \n",
              "\n",
              "   credit_type  Credit_Score  co-applicant_credit_type    age  \\\n",
              "0          EXP           758                       CIB  25-34   \n",
              "1         EQUI           552                       EXP  55-64   \n",
              "2          EXP           834                       CIB  35-44   \n",
              "3          EXP           587                       CIB  45-54   \n",
              "4         CRIF           602                       EXP  25-34   \n",
              "\n",
              "   submission_of_application        LTV Region Security_Type  Status dtir1  \n",
              "0                    to_inst  98.728814  south        direct       1  45.0  \n",
              "1                    to_inst        NaN  North        direct       1   NaN  \n",
              "2                    to_inst  80.019685  south        direct       0  46.0  \n",
              "3                   not_inst  69.376900  North        direct       0  42.0  \n",
              "4                   not_inst  91.886544  North        direct       0  39.0  \n",
              "\n",
              "[5 rows x 34 columns]"
            ],
            "text/html": [
              "\n",
              "  <div id=\"df-27cb973e-17e0-449a-82c0-a5ba15bee38a\">\n",
              "    <div class=\"colab-df-container\">\n",
              "      <div>\n",
              "<style scoped>\n",
              "    .dataframe tbody tr th:only-of-type {\n",
              "        vertical-align: middle;\n",
              "    }\n",
              "\n",
              "    .dataframe tbody tr th {\n",
              "        vertical-align: top;\n",
              "    }\n",
              "\n",
              "    .dataframe thead th {\n",
              "        text-align: right;\n",
              "    }\n",
              "</style>\n",
              "<table border=\"1\" class=\"dataframe\">\n",
              "  <thead>\n",
              "    <tr style=\"text-align: right;\">\n",
              "      <th></th>\n",
              "      <th>ID</th>\n",
              "      <th>year</th>\n",
              "      <th>loan_limit</th>\n",
              "      <th>Gender</th>\n",
              "      <th>approv_in_adv</th>\n",
              "      <th>loan_type</th>\n",
              "      <th>loan_purpose</th>\n",
              "      <th>Credit_Worthiness</th>\n",
              "      <th>open_credit</th>\n",
              "      <th>business_or_commercial</th>\n",
              "      <th>...</th>\n",
              "      <th>credit_type</th>\n",
              "      <th>Credit_Score</th>\n",
              "      <th>co-applicant_credit_type</th>\n",
              "      <th>age</th>\n",
              "      <th>submission_of_application</th>\n",
              "      <th>LTV</th>\n",
              "      <th>Region</th>\n",
              "      <th>Security_Type</th>\n",
              "      <th>Status</th>\n",
              "      <th>dtir1</th>\n",
              "    </tr>\n",
              "  </thead>\n",
              "  <tbody>\n",
              "    <tr>\n",
              "      <th>0</th>\n",
              "      <td>24890</td>\n",
              "      <td>2019</td>\n",
              "      <td>cf</td>\n",
              "      <td>Sex Not Available</td>\n",
              "      <td>nopre</td>\n",
              "      <td>type1</td>\n",
              "      <td>p1</td>\n",
              "      <td>l1</td>\n",
              "      <td>nopc</td>\n",
              "      <td>nob/c</td>\n",
              "      <td>...</td>\n",
              "      <td>EXP</td>\n",
              "      <td>758</td>\n",
              "      <td>CIB</td>\n",
              "      <td>25-34</td>\n",
              "      <td>to_inst</td>\n",
              "      <td>98.728814</td>\n",
              "      <td>south</td>\n",
              "      <td>direct</td>\n",
              "      <td>1</td>\n",
              "      <td>45.0</td>\n",
              "    </tr>\n",
              "    <tr>\n",
              "      <th>1</th>\n",
              "      <td>24891</td>\n",
              "      <td>2019</td>\n",
              "      <td>cf</td>\n",
              "      <td>Male</td>\n",
              "      <td>nopre</td>\n",
              "      <td>type2</td>\n",
              "      <td>p1</td>\n",
              "      <td>l1</td>\n",
              "      <td>nopc</td>\n",
              "      <td>b/c</td>\n",
              "      <td>...</td>\n",
              "      <td>EQUI</td>\n",
              "      <td>552</td>\n",
              "      <td>EXP</td>\n",
              "      <td>55-64</td>\n",
              "      <td>to_inst</td>\n",
              "      <td>NaN</td>\n",
              "      <td>North</td>\n",
              "      <td>direct</td>\n",
              "      <td>1</td>\n",
              "      <td>NaN</td>\n",
              "    </tr>\n",
              "    <tr>\n",
              "      <th>2</th>\n",
              "      <td>24892</td>\n",
              "      <td>2019</td>\n",
              "      <td>cf</td>\n",
              "      <td>Male</td>\n",
              "      <td>pre</td>\n",
              "      <td>type1</td>\n",
              "      <td>p1</td>\n",
              "      <td>l1</td>\n",
              "      <td>nopc</td>\n",
              "      <td>nob/c</td>\n",
              "      <td>...</td>\n",
              "      <td>EXP</td>\n",
              "      <td>834</td>\n",
              "      <td>CIB</td>\n",
              "      <td>35-44</td>\n",
              "      <td>to_inst</td>\n",
              "      <td>80.019685</td>\n",
              "      <td>south</td>\n",
              "      <td>direct</td>\n",
              "      <td>0</td>\n",
              "      <td>46.0</td>\n",
              "    </tr>\n",
              "    <tr>\n",
              "      <th>3</th>\n",
              "      <td>24893</td>\n",
              "      <td>2019</td>\n",
              "      <td>cf</td>\n",
              "      <td>Male</td>\n",
              "      <td>nopre</td>\n",
              "      <td>type1</td>\n",
              "      <td>p4</td>\n",
              "      <td>l1</td>\n",
              "      <td>nopc</td>\n",
              "      <td>nob/c</td>\n",
              "      <td>...</td>\n",
              "      <td>EXP</td>\n",
              "      <td>587</td>\n",
              "      <td>CIB</td>\n",
              "      <td>45-54</td>\n",
              "      <td>not_inst</td>\n",
              "      <td>69.376900</td>\n",
              "      <td>North</td>\n",
              "      <td>direct</td>\n",
              "      <td>0</td>\n",
              "      <td>42.0</td>\n",
              "    </tr>\n",
              "    <tr>\n",
              "      <th>4</th>\n",
              "      <td>24894</td>\n",
              "      <td>2019</td>\n",
              "      <td>cf</td>\n",
              "      <td>Joint</td>\n",
              "      <td>pre</td>\n",
              "      <td>type1</td>\n",
              "      <td>p1</td>\n",
              "      <td>l1</td>\n",
              "      <td>nopc</td>\n",
              "      <td>nob/c</td>\n",
              "      <td>...</td>\n",
              "      <td>CRIF</td>\n",
              "      <td>602</td>\n",
              "      <td>EXP</td>\n",
              "      <td>25-34</td>\n",
              "      <td>not_inst</td>\n",
              "      <td>91.886544</td>\n",
              "      <td>North</td>\n",
              "      <td>direct</td>\n",
              "      <td>0</td>\n",
              "      <td>39.0</td>\n",
              "    </tr>\n",
              "  </tbody>\n",
              "</table>\n",
              "<p>5 rows × 34 columns</p>\n",
              "</div>\n",
              "      <button class=\"colab-df-convert\" onclick=\"convertToInteractive('df-27cb973e-17e0-449a-82c0-a5ba15bee38a')\"\n",
              "              title=\"Convert this dataframe to an interactive table.\"\n",
              "              style=\"display:none;\">\n",
              "        \n",
              "  <svg xmlns=\"http://www.w3.org/2000/svg\" height=\"24px\"viewBox=\"0 0 24 24\"\n",
              "       width=\"24px\">\n",
              "    <path d=\"M0 0h24v24H0V0z\" fill=\"none\"/>\n",
              "    <path d=\"M18.56 5.44l.94 2.06.94-2.06 2.06-.94-2.06-.94-.94-2.06-.94 2.06-2.06.94zm-11 1L8.5 8.5l.94-2.06 2.06-.94-2.06-.94L8.5 2.5l-.94 2.06-2.06.94zm10 10l.94 2.06.94-2.06 2.06-.94-2.06-.94-.94-2.06-.94 2.06-2.06.94z\"/><path d=\"M17.41 7.96l-1.37-1.37c-.4-.4-.92-.59-1.43-.59-.52 0-1.04.2-1.43.59L10.3 9.45l-7.72 7.72c-.78.78-.78 2.05 0 2.83L4 21.41c.39.39.9.59 1.41.59.51 0 1.02-.2 1.41-.59l7.78-7.78 2.81-2.81c.8-.78.8-2.07 0-2.86zM5.41 20L4 18.59l7.72-7.72 1.47 1.35L5.41 20z\"/>\n",
              "  </svg>\n",
              "      </button>\n",
              "      \n",
              "  <style>\n",
              "    .colab-df-container {\n",
              "      display:flex;\n",
              "      flex-wrap:wrap;\n",
              "      gap: 12px;\n",
              "    }\n",
              "\n",
              "    .colab-df-convert {\n",
              "      background-color: #E8F0FE;\n",
              "      border: none;\n",
              "      border-radius: 50%;\n",
              "      cursor: pointer;\n",
              "      display: none;\n",
              "      fill: #1967D2;\n",
              "      height: 32px;\n",
              "      padding: 0 0 0 0;\n",
              "      width: 32px;\n",
              "    }\n",
              "\n",
              "    .colab-df-convert:hover {\n",
              "      background-color: #E2EBFA;\n",
              "      box-shadow: 0px 1px 2px rgba(60, 64, 67, 0.3), 0px 1px 3px 1px rgba(60, 64, 67, 0.15);\n",
              "      fill: #174EA6;\n",
              "    }\n",
              "\n",
              "    [theme=dark] .colab-df-convert {\n",
              "      background-color: #3B4455;\n",
              "      fill: #D2E3FC;\n",
              "    }\n",
              "\n",
              "    [theme=dark] .colab-df-convert:hover {\n",
              "      background-color: #434B5C;\n",
              "      box-shadow: 0px 1px 3px 1px rgba(0, 0, 0, 0.15);\n",
              "      filter: drop-shadow(0px 1px 2px rgba(0, 0, 0, 0.3));\n",
              "      fill: #FFFFFF;\n",
              "    }\n",
              "  </style>\n",
              "\n",
              "      <script>\n",
              "        const buttonEl =\n",
              "          document.querySelector('#df-27cb973e-17e0-449a-82c0-a5ba15bee38a button.colab-df-convert');\n",
              "        buttonEl.style.display =\n",
              "          google.colab.kernel.accessAllowed ? 'block' : 'none';\n",
              "\n",
              "        async function convertToInteractive(key) {\n",
              "          const element = document.querySelector('#df-27cb973e-17e0-449a-82c0-a5ba15bee38a');\n",
              "          const dataTable =\n",
              "            await google.colab.kernel.invokeFunction('convertToInteractive',\n",
              "                                                     [key], {});\n",
              "          if (!dataTable) return;\n",
              "\n",
              "          const docLinkHtml = 'Like what you see? Visit the ' +\n",
              "            '<a target=\"_blank\" href=https://colab.research.google.com/notebooks/data_table.ipynb>data table notebook</a>'\n",
              "            + ' to learn more about interactive tables.';\n",
              "          element.innerHTML = '';\n",
              "          dataTable['output_type'] = 'display_data';\n",
              "          await google.colab.output.renderOutput(dataTable, element);\n",
              "          const docLink = document.createElement('div');\n",
              "          docLink.innerHTML = docLinkHtml;\n",
              "          element.appendChild(docLink);\n",
              "        }\n",
              "      </script>\n",
              "    </div>\n",
              "  </div>\n",
              "  "
            ]
          },
          "metadata": {},
          "execution_count": 2
        }
      ]
    },
    {
      "cell_type": "code",
      "execution_count": 3,
      "metadata": {
        "colab": {
          "base_uri": "https://localhost:8080/",
          "height": 678
        },
        "id": "fe6e5ec1-f3b0-458c-9ab8-24b46fe73e29",
        "outputId": "112d9ffa-c85a-4aa2-b43a-bb5387528ff4"
      },
      "outputs": [
        {
          "output_type": "execute_result",
          "data": {
            "text/plain": [
              "                   Gender loan_type loan_purpose business_or_commercial  \\\n",
              "0       Sex Not Available     type1           p1                  nob/c   \n",
              "1                    Male     type2           p1                    b/c   \n",
              "2                    Male     type1           p1                  nob/c   \n",
              "3                    Male     type1           p4                  nob/c   \n",
              "4                   Joint     type1           p1                  nob/c   \n",
              "...                   ...       ...          ...                    ...   \n",
              "148665  Sex Not Available     type1           p3                  nob/c   \n",
              "148666               Male     type1           p1                  nob/c   \n",
              "148667               Male     type1           p4                  nob/c   \n",
              "148668             Female     type1           p4                  nob/c   \n",
              "148669             Female     type1           p3                  nob/c   \n",
              "\n",
              "        loan_amount  rate_of_interest   term interest_only  property_value  \\\n",
              "0            116500               NaN  360.0       not_int        118000.0   \n",
              "1            206500               NaN  360.0       not_int             NaN   \n",
              "2            406500             4.560  360.0       not_int        508000.0   \n",
              "3            456500             4.250  360.0       not_int        658000.0   \n",
              "4            696500             4.000  360.0       not_int        758000.0   \n",
              "...             ...               ...    ...           ...             ...   \n",
              "148665       436500             3.125  180.0       not_int        608000.0   \n",
              "148666       586500             5.190  360.0       not_int        788000.0   \n",
              "148667       446500             3.125  180.0       not_int        728000.0   \n",
              "148668       196500             3.500  180.0       not_int        278000.0   \n",
              "148669       406500             4.375  240.0       not_int        558000.0   \n",
              "\n",
              "       occupancy_type Secured_by   income credit_type  Credit_Score  \\\n",
              "0                  pr       home   1740.0         EXP           758   \n",
              "1                  pr       home   4980.0        EQUI           552   \n",
              "2                  pr       home   9480.0         EXP           834   \n",
              "3                  pr       home  11880.0         EXP           587   \n",
              "4                  pr       home  10440.0        CRIF           602   \n",
              "...               ...        ...      ...         ...           ...   \n",
              "148665             pr       home   7860.0         CIB           659   \n",
              "148666             ir       home   7140.0         CIB           569   \n",
              "148667             pr       home   6900.0         CIB           702   \n",
              "148668             pr       home   7140.0         EXP           737   \n",
              "148669             pr       home   7260.0         CIB           830   \n",
              "\n",
              "       co-applicant_credit_type    age        LTV Region  Status  \n",
              "0                           CIB  25-34  98.728814  south       1  \n",
              "1                           EXP  55-64        NaN  North       1  \n",
              "2                           CIB  35-44  80.019685  south       0  \n",
              "3                           CIB  45-54  69.376900  North       0  \n",
              "4                           EXP  25-34  91.886544  North       0  \n",
              "...                         ...    ...        ...    ...     ...  \n",
              "148665                      EXP  55-64  71.792763  south       0  \n",
              "148666                      CIB  25-34  74.428934  south       0  \n",
              "148667                      EXP  45-54  61.332418  North       0  \n",
              "148668                      EXP  55-64  70.683453  North       0  \n",
              "148669                      CIB  45-54  72.849462  North       0  \n",
              "\n",
              "[148670 rows x 19 columns]"
            ],
            "text/html": [
              "\n",
              "  <div id=\"df-b1919538-2341-45cc-a2a2-5099303ffa3a\">\n",
              "    <div class=\"colab-df-container\">\n",
              "      <div>\n",
              "<style scoped>\n",
              "    .dataframe tbody tr th:only-of-type {\n",
              "        vertical-align: middle;\n",
              "    }\n",
              "\n",
              "    .dataframe tbody tr th {\n",
              "        vertical-align: top;\n",
              "    }\n",
              "\n",
              "    .dataframe thead th {\n",
              "        text-align: right;\n",
              "    }\n",
              "</style>\n",
              "<table border=\"1\" class=\"dataframe\">\n",
              "  <thead>\n",
              "    <tr style=\"text-align: right;\">\n",
              "      <th></th>\n",
              "      <th>Gender</th>\n",
              "      <th>loan_type</th>\n",
              "      <th>loan_purpose</th>\n",
              "      <th>business_or_commercial</th>\n",
              "      <th>loan_amount</th>\n",
              "      <th>rate_of_interest</th>\n",
              "      <th>term</th>\n",
              "      <th>interest_only</th>\n",
              "      <th>property_value</th>\n",
              "      <th>occupancy_type</th>\n",
              "      <th>Secured_by</th>\n",
              "      <th>income</th>\n",
              "      <th>credit_type</th>\n",
              "      <th>Credit_Score</th>\n",
              "      <th>co-applicant_credit_type</th>\n",
              "      <th>age</th>\n",
              "      <th>LTV</th>\n",
              "      <th>Region</th>\n",
              "      <th>Status</th>\n",
              "    </tr>\n",
              "  </thead>\n",
              "  <tbody>\n",
              "    <tr>\n",
              "      <th>0</th>\n",
              "      <td>Sex Not Available</td>\n",
              "      <td>type1</td>\n",
              "      <td>p1</td>\n",
              "      <td>nob/c</td>\n",
              "      <td>116500</td>\n",
              "      <td>NaN</td>\n",
              "      <td>360.0</td>\n",
              "      <td>not_int</td>\n",
              "      <td>118000.0</td>\n",
              "      <td>pr</td>\n",
              "      <td>home</td>\n",
              "      <td>1740.0</td>\n",
              "      <td>EXP</td>\n",
              "      <td>758</td>\n",
              "      <td>CIB</td>\n",
              "      <td>25-34</td>\n",
              "      <td>98.728814</td>\n",
              "      <td>south</td>\n",
              "      <td>1</td>\n",
              "    </tr>\n",
              "    <tr>\n",
              "      <th>1</th>\n",
              "      <td>Male</td>\n",
              "      <td>type2</td>\n",
              "      <td>p1</td>\n",
              "      <td>b/c</td>\n",
              "      <td>206500</td>\n",
              "      <td>NaN</td>\n",
              "      <td>360.0</td>\n",
              "      <td>not_int</td>\n",
              "      <td>NaN</td>\n",
              "      <td>pr</td>\n",
              "      <td>home</td>\n",
              "      <td>4980.0</td>\n",
              "      <td>EQUI</td>\n",
              "      <td>552</td>\n",
              "      <td>EXP</td>\n",
              "      <td>55-64</td>\n",
              "      <td>NaN</td>\n",
              "      <td>North</td>\n",
              "      <td>1</td>\n",
              "    </tr>\n",
              "    <tr>\n",
              "      <th>2</th>\n",
              "      <td>Male</td>\n",
              "      <td>type1</td>\n",
              "      <td>p1</td>\n",
              "      <td>nob/c</td>\n",
              "      <td>406500</td>\n",
              "      <td>4.560</td>\n",
              "      <td>360.0</td>\n",
              "      <td>not_int</td>\n",
              "      <td>508000.0</td>\n",
              "      <td>pr</td>\n",
              "      <td>home</td>\n",
              "      <td>9480.0</td>\n",
              "      <td>EXP</td>\n",
              "      <td>834</td>\n",
              "      <td>CIB</td>\n",
              "      <td>35-44</td>\n",
              "      <td>80.019685</td>\n",
              "      <td>south</td>\n",
              "      <td>0</td>\n",
              "    </tr>\n",
              "    <tr>\n",
              "      <th>3</th>\n",
              "      <td>Male</td>\n",
              "      <td>type1</td>\n",
              "      <td>p4</td>\n",
              "      <td>nob/c</td>\n",
              "      <td>456500</td>\n",
              "      <td>4.250</td>\n",
              "      <td>360.0</td>\n",
              "      <td>not_int</td>\n",
              "      <td>658000.0</td>\n",
              "      <td>pr</td>\n",
              "      <td>home</td>\n",
              "      <td>11880.0</td>\n",
              "      <td>EXP</td>\n",
              "      <td>587</td>\n",
              "      <td>CIB</td>\n",
              "      <td>45-54</td>\n",
              "      <td>69.376900</td>\n",
              "      <td>North</td>\n",
              "      <td>0</td>\n",
              "    </tr>\n",
              "    <tr>\n",
              "      <th>4</th>\n",
              "      <td>Joint</td>\n",
              "      <td>type1</td>\n",
              "      <td>p1</td>\n",
              "      <td>nob/c</td>\n",
              "      <td>696500</td>\n",
              "      <td>4.000</td>\n",
              "      <td>360.0</td>\n",
              "      <td>not_int</td>\n",
              "      <td>758000.0</td>\n",
              "      <td>pr</td>\n",
              "      <td>home</td>\n",
              "      <td>10440.0</td>\n",
              "      <td>CRIF</td>\n",
              "      <td>602</td>\n",
              "      <td>EXP</td>\n",
              "      <td>25-34</td>\n",
              "      <td>91.886544</td>\n",
              "      <td>North</td>\n",
              "      <td>0</td>\n",
              "    </tr>\n",
              "    <tr>\n",
              "      <th>...</th>\n",
              "      <td>...</td>\n",
              "      <td>...</td>\n",
              "      <td>...</td>\n",
              "      <td>...</td>\n",
              "      <td>...</td>\n",
              "      <td>...</td>\n",
              "      <td>...</td>\n",
              "      <td>...</td>\n",
              "      <td>...</td>\n",
              "      <td>...</td>\n",
              "      <td>...</td>\n",
              "      <td>...</td>\n",
              "      <td>...</td>\n",
              "      <td>...</td>\n",
              "      <td>...</td>\n",
              "      <td>...</td>\n",
              "      <td>...</td>\n",
              "      <td>...</td>\n",
              "      <td>...</td>\n",
              "    </tr>\n",
              "    <tr>\n",
              "      <th>148665</th>\n",
              "      <td>Sex Not Available</td>\n",
              "      <td>type1</td>\n",
              "      <td>p3</td>\n",
              "      <td>nob/c</td>\n",
              "      <td>436500</td>\n",
              "      <td>3.125</td>\n",
              "      <td>180.0</td>\n",
              "      <td>not_int</td>\n",
              "      <td>608000.0</td>\n",
              "      <td>pr</td>\n",
              "      <td>home</td>\n",
              "      <td>7860.0</td>\n",
              "      <td>CIB</td>\n",
              "      <td>659</td>\n",
              "      <td>EXP</td>\n",
              "      <td>55-64</td>\n",
              "      <td>71.792763</td>\n",
              "      <td>south</td>\n",
              "      <td>0</td>\n",
              "    </tr>\n",
              "    <tr>\n",
              "      <th>148666</th>\n",
              "      <td>Male</td>\n",
              "      <td>type1</td>\n",
              "      <td>p1</td>\n",
              "      <td>nob/c</td>\n",
              "      <td>586500</td>\n",
              "      <td>5.190</td>\n",
              "      <td>360.0</td>\n",
              "      <td>not_int</td>\n",
              "      <td>788000.0</td>\n",
              "      <td>ir</td>\n",
              "      <td>home</td>\n",
              "      <td>7140.0</td>\n",
              "      <td>CIB</td>\n",
              "      <td>569</td>\n",
              "      <td>CIB</td>\n",
              "      <td>25-34</td>\n",
              "      <td>74.428934</td>\n",
              "      <td>south</td>\n",
              "      <td>0</td>\n",
              "    </tr>\n",
              "    <tr>\n",
              "      <th>148667</th>\n",
              "      <td>Male</td>\n",
              "      <td>type1</td>\n",
              "      <td>p4</td>\n",
              "      <td>nob/c</td>\n",
              "      <td>446500</td>\n",
              "      <td>3.125</td>\n",
              "      <td>180.0</td>\n",
              "      <td>not_int</td>\n",
              "      <td>728000.0</td>\n",
              "      <td>pr</td>\n",
              "      <td>home</td>\n",
              "      <td>6900.0</td>\n",
              "      <td>CIB</td>\n",
              "      <td>702</td>\n",
              "      <td>EXP</td>\n",
              "      <td>45-54</td>\n",
              "      <td>61.332418</td>\n",
              "      <td>North</td>\n",
              "      <td>0</td>\n",
              "    </tr>\n",
              "    <tr>\n",
              "      <th>148668</th>\n",
              "      <td>Female</td>\n",
              "      <td>type1</td>\n",
              "      <td>p4</td>\n",
              "      <td>nob/c</td>\n",
              "      <td>196500</td>\n",
              "      <td>3.500</td>\n",
              "      <td>180.0</td>\n",
              "      <td>not_int</td>\n",
              "      <td>278000.0</td>\n",
              "      <td>pr</td>\n",
              "      <td>home</td>\n",
              "      <td>7140.0</td>\n",
              "      <td>EXP</td>\n",
              "      <td>737</td>\n",
              "      <td>EXP</td>\n",
              "      <td>55-64</td>\n",
              "      <td>70.683453</td>\n",
              "      <td>North</td>\n",
              "      <td>0</td>\n",
              "    </tr>\n",
              "    <tr>\n",
              "      <th>148669</th>\n",
              "      <td>Female</td>\n",
              "      <td>type1</td>\n",
              "      <td>p3</td>\n",
              "      <td>nob/c</td>\n",
              "      <td>406500</td>\n",
              "      <td>4.375</td>\n",
              "      <td>240.0</td>\n",
              "      <td>not_int</td>\n",
              "      <td>558000.0</td>\n",
              "      <td>pr</td>\n",
              "      <td>home</td>\n",
              "      <td>7260.0</td>\n",
              "      <td>CIB</td>\n",
              "      <td>830</td>\n",
              "      <td>CIB</td>\n",
              "      <td>45-54</td>\n",
              "      <td>72.849462</td>\n",
              "      <td>North</td>\n",
              "      <td>0</td>\n",
              "    </tr>\n",
              "  </tbody>\n",
              "</table>\n",
              "<p>148670 rows × 19 columns</p>\n",
              "</div>\n",
              "      <button class=\"colab-df-convert\" onclick=\"convertToInteractive('df-b1919538-2341-45cc-a2a2-5099303ffa3a')\"\n",
              "              title=\"Convert this dataframe to an interactive table.\"\n",
              "              style=\"display:none;\">\n",
              "        \n",
              "  <svg xmlns=\"http://www.w3.org/2000/svg\" height=\"24px\"viewBox=\"0 0 24 24\"\n",
              "       width=\"24px\">\n",
              "    <path d=\"M0 0h24v24H0V0z\" fill=\"none\"/>\n",
              "    <path d=\"M18.56 5.44l.94 2.06.94-2.06 2.06-.94-2.06-.94-.94-2.06-.94 2.06-2.06.94zm-11 1L8.5 8.5l.94-2.06 2.06-.94-2.06-.94L8.5 2.5l-.94 2.06-2.06.94zm10 10l.94 2.06.94-2.06 2.06-.94-2.06-.94-.94-2.06-.94 2.06-2.06.94z\"/><path d=\"M17.41 7.96l-1.37-1.37c-.4-.4-.92-.59-1.43-.59-.52 0-1.04.2-1.43.59L10.3 9.45l-7.72 7.72c-.78.78-.78 2.05 0 2.83L4 21.41c.39.39.9.59 1.41.59.51 0 1.02-.2 1.41-.59l7.78-7.78 2.81-2.81c.8-.78.8-2.07 0-2.86zM5.41 20L4 18.59l7.72-7.72 1.47 1.35L5.41 20z\"/>\n",
              "  </svg>\n",
              "      </button>\n",
              "      \n",
              "  <style>\n",
              "    .colab-df-container {\n",
              "      display:flex;\n",
              "      flex-wrap:wrap;\n",
              "      gap: 12px;\n",
              "    }\n",
              "\n",
              "    .colab-df-convert {\n",
              "      background-color: #E8F0FE;\n",
              "      border: none;\n",
              "      border-radius: 50%;\n",
              "      cursor: pointer;\n",
              "      display: none;\n",
              "      fill: #1967D2;\n",
              "      height: 32px;\n",
              "      padding: 0 0 0 0;\n",
              "      width: 32px;\n",
              "    }\n",
              "\n",
              "    .colab-df-convert:hover {\n",
              "      background-color: #E2EBFA;\n",
              "      box-shadow: 0px 1px 2px rgba(60, 64, 67, 0.3), 0px 1px 3px 1px rgba(60, 64, 67, 0.15);\n",
              "      fill: #174EA6;\n",
              "    }\n",
              "\n",
              "    [theme=dark] .colab-df-convert {\n",
              "      background-color: #3B4455;\n",
              "      fill: #D2E3FC;\n",
              "    }\n",
              "\n",
              "    [theme=dark] .colab-df-convert:hover {\n",
              "      background-color: #434B5C;\n",
              "      box-shadow: 0px 1px 3px 1px rgba(0, 0, 0, 0.15);\n",
              "      filter: drop-shadow(0px 1px 2px rgba(0, 0, 0, 0.3));\n",
              "      fill: #FFFFFF;\n",
              "    }\n",
              "  </style>\n",
              "\n",
              "      <script>\n",
              "        const buttonEl =\n",
              "          document.querySelector('#df-b1919538-2341-45cc-a2a2-5099303ffa3a button.colab-df-convert');\n",
              "        buttonEl.style.display =\n",
              "          google.colab.kernel.accessAllowed ? 'block' : 'none';\n",
              "\n",
              "        async function convertToInteractive(key) {\n",
              "          const element = document.querySelector('#df-b1919538-2341-45cc-a2a2-5099303ffa3a');\n",
              "          const dataTable =\n",
              "            await google.colab.kernel.invokeFunction('convertToInteractive',\n",
              "                                                     [key], {});\n",
              "          if (!dataTable) return;\n",
              "\n",
              "          const docLinkHtml = 'Like what you see? Visit the ' +\n",
              "            '<a target=\"_blank\" href=https://colab.research.google.com/notebooks/data_table.ipynb>data table notebook</a>'\n",
              "            + ' to learn more about interactive tables.';\n",
              "          element.innerHTML = '';\n",
              "          dataTable['output_type'] = 'display_data';\n",
              "          await google.colab.output.renderOutput(dataTable, element);\n",
              "          const docLink = document.createElement('div');\n",
              "          docLink.innerHTML = docLinkHtml;\n",
              "          element.appendChild(docLink);\n",
              "        }\n",
              "      </script>\n",
              "    </div>\n",
              "  </div>\n",
              "  "
            ]
          },
          "metadata": {},
          "execution_count": 3
        }
      ],
      "source": [
        "\n",
        "# drop unnecesssary columns\n",
        "df = df.drop(columns=['year','ID', 'loan_limit', 'approv_in_adv', 'Credit_Worthiness', 'open_credit', 'Interest_rate_spread', 'Upfront_charges', 'Neg_ammortization', 'construction_type','lump_sum_payment', 'total_units', 'submission_of_application', 'Security_Type', 'dtir1'])\n",
        "df"
      ]
    },
    {
      "cell_type": "code",
      "source": [
        "# Create column with N/A count\n",
        "\n",
        "#df[\"NA count\"] = 0\n",
        "#len(df.index)\n"
      ],
      "metadata": {
        "id": "Xu49MXdIQTA5"
      },
      "execution_count": 4,
      "outputs": []
    },
    {
      "cell_type": "code",
      "source": [
        "# add N/A column\n",
        "\n",
        "#for i in range(len(df.index)):\n",
        "  #df.loc[i, 31] = df.loc[i].isnull().sum()\n",
        "# df"
      ],
      "metadata": {
        "id": "OSm1FQviQcks"
      },
      "execution_count": 5,
      "outputs": []
    },
    {
      "cell_type": "code",
      "source": [
        "# review data\n",
        "sum_stats=df.describe().round(2)\n",
        "sum_stats"
      ],
      "metadata": {
        "colab": {
          "base_uri": "https://localhost:8080/",
          "height": 300
        },
        "id": "KXBDkTaIxhEc",
        "outputId": "555d1ce6-03dc-4215-c789-166448be4faa"
      },
      "execution_count": 6,
      "outputs": [
        {
          "output_type": "execute_result",
          "data": {
            "text/plain": [
              "       loan_amount  rate_of_interest       term  property_value     income  \\\n",
              "count    148670.00         112231.00  148629.00       133572.00  139520.00   \n",
              "mean     331117.74              4.05     335.14       497893.47    6957.34   \n",
              "std      183909.31              0.56      58.41       359935.32    6496.59   \n",
              "min       16500.00              0.00      96.00         8000.00       0.00   \n",
              "25%      196500.00              3.62     360.00       268000.00    3720.00   \n",
              "50%      296500.00              3.99     360.00       418000.00    5760.00   \n",
              "75%      436500.00              4.38     360.00       628000.00    8520.00   \n",
              "max     3576500.00              8.00     360.00     16508000.00  578580.00   \n",
              "\n",
              "       Credit_Score        LTV     Status  \n",
              "count     148670.00  133572.00  148670.00  \n",
              "mean         699.79      72.75       0.25  \n",
              "std          115.88      39.97       0.43  \n",
              "min          500.00       0.97       0.00  \n",
              "25%          599.00      60.47       0.00  \n",
              "50%          699.00      75.14       0.00  \n",
              "75%          800.00      86.18       0.00  \n",
              "max          900.00    7831.25       1.00  "
            ],
            "text/html": [
              "\n",
              "  <div id=\"df-ce6000da-be38-4e6a-961a-12049c3680c6\">\n",
              "    <div class=\"colab-df-container\">\n",
              "      <div>\n",
              "<style scoped>\n",
              "    .dataframe tbody tr th:only-of-type {\n",
              "        vertical-align: middle;\n",
              "    }\n",
              "\n",
              "    .dataframe tbody tr th {\n",
              "        vertical-align: top;\n",
              "    }\n",
              "\n",
              "    .dataframe thead th {\n",
              "        text-align: right;\n",
              "    }\n",
              "</style>\n",
              "<table border=\"1\" class=\"dataframe\">\n",
              "  <thead>\n",
              "    <tr style=\"text-align: right;\">\n",
              "      <th></th>\n",
              "      <th>loan_amount</th>\n",
              "      <th>rate_of_interest</th>\n",
              "      <th>term</th>\n",
              "      <th>property_value</th>\n",
              "      <th>income</th>\n",
              "      <th>Credit_Score</th>\n",
              "      <th>LTV</th>\n",
              "      <th>Status</th>\n",
              "    </tr>\n",
              "  </thead>\n",
              "  <tbody>\n",
              "    <tr>\n",
              "      <th>count</th>\n",
              "      <td>148670.00</td>\n",
              "      <td>112231.00</td>\n",
              "      <td>148629.00</td>\n",
              "      <td>133572.00</td>\n",
              "      <td>139520.00</td>\n",
              "      <td>148670.00</td>\n",
              "      <td>133572.00</td>\n",
              "      <td>148670.00</td>\n",
              "    </tr>\n",
              "    <tr>\n",
              "      <th>mean</th>\n",
              "      <td>331117.74</td>\n",
              "      <td>4.05</td>\n",
              "      <td>335.14</td>\n",
              "      <td>497893.47</td>\n",
              "      <td>6957.34</td>\n",
              "      <td>699.79</td>\n",
              "      <td>72.75</td>\n",
              "      <td>0.25</td>\n",
              "    </tr>\n",
              "    <tr>\n",
              "      <th>std</th>\n",
              "      <td>183909.31</td>\n",
              "      <td>0.56</td>\n",
              "      <td>58.41</td>\n",
              "      <td>359935.32</td>\n",
              "      <td>6496.59</td>\n",
              "      <td>115.88</td>\n",
              "      <td>39.97</td>\n",
              "      <td>0.43</td>\n",
              "    </tr>\n",
              "    <tr>\n",
              "      <th>min</th>\n",
              "      <td>16500.00</td>\n",
              "      <td>0.00</td>\n",
              "      <td>96.00</td>\n",
              "      <td>8000.00</td>\n",
              "      <td>0.00</td>\n",
              "      <td>500.00</td>\n",
              "      <td>0.97</td>\n",
              "      <td>0.00</td>\n",
              "    </tr>\n",
              "    <tr>\n",
              "      <th>25%</th>\n",
              "      <td>196500.00</td>\n",
              "      <td>3.62</td>\n",
              "      <td>360.00</td>\n",
              "      <td>268000.00</td>\n",
              "      <td>3720.00</td>\n",
              "      <td>599.00</td>\n",
              "      <td>60.47</td>\n",
              "      <td>0.00</td>\n",
              "    </tr>\n",
              "    <tr>\n",
              "      <th>50%</th>\n",
              "      <td>296500.00</td>\n",
              "      <td>3.99</td>\n",
              "      <td>360.00</td>\n",
              "      <td>418000.00</td>\n",
              "      <td>5760.00</td>\n",
              "      <td>699.00</td>\n",
              "      <td>75.14</td>\n",
              "      <td>0.00</td>\n",
              "    </tr>\n",
              "    <tr>\n",
              "      <th>75%</th>\n",
              "      <td>436500.00</td>\n",
              "      <td>4.38</td>\n",
              "      <td>360.00</td>\n",
              "      <td>628000.00</td>\n",
              "      <td>8520.00</td>\n",
              "      <td>800.00</td>\n",
              "      <td>86.18</td>\n",
              "      <td>0.00</td>\n",
              "    </tr>\n",
              "    <tr>\n",
              "      <th>max</th>\n",
              "      <td>3576500.00</td>\n",
              "      <td>8.00</td>\n",
              "      <td>360.00</td>\n",
              "      <td>16508000.00</td>\n",
              "      <td>578580.00</td>\n",
              "      <td>900.00</td>\n",
              "      <td>7831.25</td>\n",
              "      <td>1.00</td>\n",
              "    </tr>\n",
              "  </tbody>\n",
              "</table>\n",
              "</div>\n",
              "      <button class=\"colab-df-convert\" onclick=\"convertToInteractive('df-ce6000da-be38-4e6a-961a-12049c3680c6')\"\n",
              "              title=\"Convert this dataframe to an interactive table.\"\n",
              "              style=\"display:none;\">\n",
              "        \n",
              "  <svg xmlns=\"http://www.w3.org/2000/svg\" height=\"24px\"viewBox=\"0 0 24 24\"\n",
              "       width=\"24px\">\n",
              "    <path d=\"M0 0h24v24H0V0z\" fill=\"none\"/>\n",
              "    <path d=\"M18.56 5.44l.94 2.06.94-2.06 2.06-.94-2.06-.94-.94-2.06-.94 2.06-2.06.94zm-11 1L8.5 8.5l.94-2.06 2.06-.94-2.06-.94L8.5 2.5l-.94 2.06-2.06.94zm10 10l.94 2.06.94-2.06 2.06-.94-2.06-.94-.94-2.06-.94 2.06-2.06.94z\"/><path d=\"M17.41 7.96l-1.37-1.37c-.4-.4-.92-.59-1.43-.59-.52 0-1.04.2-1.43.59L10.3 9.45l-7.72 7.72c-.78.78-.78 2.05 0 2.83L4 21.41c.39.39.9.59 1.41.59.51 0 1.02-.2 1.41-.59l7.78-7.78 2.81-2.81c.8-.78.8-2.07 0-2.86zM5.41 20L4 18.59l7.72-7.72 1.47 1.35L5.41 20z\"/>\n",
              "  </svg>\n",
              "      </button>\n",
              "      \n",
              "  <style>\n",
              "    .colab-df-container {\n",
              "      display:flex;\n",
              "      flex-wrap:wrap;\n",
              "      gap: 12px;\n",
              "    }\n",
              "\n",
              "    .colab-df-convert {\n",
              "      background-color: #E8F0FE;\n",
              "      border: none;\n",
              "      border-radius: 50%;\n",
              "      cursor: pointer;\n",
              "      display: none;\n",
              "      fill: #1967D2;\n",
              "      height: 32px;\n",
              "      padding: 0 0 0 0;\n",
              "      width: 32px;\n",
              "    }\n",
              "\n",
              "    .colab-df-convert:hover {\n",
              "      background-color: #E2EBFA;\n",
              "      box-shadow: 0px 1px 2px rgba(60, 64, 67, 0.3), 0px 1px 3px 1px rgba(60, 64, 67, 0.15);\n",
              "      fill: #174EA6;\n",
              "    }\n",
              "\n",
              "    [theme=dark] .colab-df-convert {\n",
              "      background-color: #3B4455;\n",
              "      fill: #D2E3FC;\n",
              "    }\n",
              "\n",
              "    [theme=dark] .colab-df-convert:hover {\n",
              "      background-color: #434B5C;\n",
              "      box-shadow: 0px 1px 3px 1px rgba(0, 0, 0, 0.15);\n",
              "      filter: drop-shadow(0px 1px 2px rgba(0, 0, 0, 0.3));\n",
              "      fill: #FFFFFF;\n",
              "    }\n",
              "  </style>\n",
              "\n",
              "      <script>\n",
              "        const buttonEl =\n",
              "          document.querySelector('#df-ce6000da-be38-4e6a-961a-12049c3680c6 button.colab-df-convert');\n",
              "        buttonEl.style.display =\n",
              "          google.colab.kernel.accessAllowed ? 'block' : 'none';\n",
              "\n",
              "        async function convertToInteractive(key) {\n",
              "          const element = document.querySelector('#df-ce6000da-be38-4e6a-961a-12049c3680c6');\n",
              "          const dataTable =\n",
              "            await google.colab.kernel.invokeFunction('convertToInteractive',\n",
              "                                                     [key], {});\n",
              "          if (!dataTable) return;\n",
              "\n",
              "          const docLinkHtml = 'Like what you see? Visit the ' +\n",
              "            '<a target=\"_blank\" href=https://colab.research.google.com/notebooks/data_table.ipynb>data table notebook</a>'\n",
              "            + ' to learn more about interactive tables.';\n",
              "          element.innerHTML = '';\n",
              "          dataTable['output_type'] = 'display_data';\n",
              "          await google.colab.output.renderOutput(dataTable, element);\n",
              "          const docLink = document.createElement('div');\n",
              "          docLink.innerHTML = docLinkHtml;\n",
              "          element.appendChild(docLink);\n",
              "        }\n",
              "      </script>\n",
              "    </div>\n",
              "  </div>\n",
              "  "
            ]
          },
          "metadata": {},
          "execution_count": 6
        }
      ]
    },
    {
      "cell_type": "code",
      "source": [
        "# check the column headings\n",
        "list(df)"
      ],
      "metadata": {
        "colab": {
          "base_uri": "https://localhost:8080/"
        },
        "id": "YWXEv6wW-hu0",
        "outputId": "01f9fb5d-a4c4-4959-d5f7-86042a1fb78d"
      },
      "execution_count": 7,
      "outputs": [
        {
          "output_type": "execute_result",
          "data": {
            "text/plain": [
              "['Gender',\n",
              " 'loan_type',\n",
              " 'loan_purpose',\n",
              " 'business_or_commercial',\n",
              " 'loan_amount',\n",
              " 'rate_of_interest',\n",
              " 'term',\n",
              " 'interest_only',\n",
              " 'property_value',\n",
              " 'occupancy_type',\n",
              " 'Secured_by',\n",
              " 'income',\n",
              " 'credit_type',\n",
              " 'Credit_Score',\n",
              " 'co-applicant_credit_type',\n",
              " 'age',\n",
              " 'LTV',\n",
              " 'Region',\n",
              " 'Status']"
            ]
          },
          "metadata": {},
          "execution_count": 7
        }
      ]
    },
    {
      "cell_type": "code",
      "execution_count": 8,
      "metadata": {
        "colab": {
          "base_uri": "https://localhost:8080/"
        },
        "id": "66ff8f31-f610-43fc-8da5-7cce5e8ced09",
        "outputId": "e0a69e08-d9ba-4384-eb7f-5fb3b6af7b8f"
      },
      "outputs": [
        {
          "output_type": "stream",
          "name": "stdout",
          "text": [
            "Gender                          0\n",
            "loan_type                       0\n",
            "loan_purpose                  134\n",
            "business_or_commercial          0\n",
            "loan_amount                     0\n",
            "rate_of_interest            36439\n",
            "term                           41\n",
            "interest_only                   0\n",
            "property_value              15098\n",
            "occupancy_type                  0\n",
            "Secured_by                      0\n",
            "income                       9150\n",
            "credit_type                     0\n",
            "Credit_Score                    0\n",
            "co-applicant_credit_type        0\n",
            "age                           200\n",
            "LTV                         15098\n",
            "Region                          0\n",
            "Status                          0\n",
            "dtype: int64\n"
          ]
        }
      ],
      "source": [
        "print(df.isnull().sum())"
      ]
    },
    {
      "cell_type": "code",
      "source": [
        "# data clean up \n",
        "df = df.drop(columns=['rate_of_interest'])\n",
        "df.round({\"term\":0, \"property_value\":0})\n",
        "## ask group about replacing property value with avg of column \n",
        "# df =  \n",
        "df.head()\n",
        "df.dtypes"
      ],
      "metadata": {
        "colab": {
          "base_uri": "https://localhost:8080/"
        },
        "id": "O_Df2VeBwSCE",
        "outputId": "9356af21-0492-4a18-ee25-47fe9e8f6165"
      },
      "execution_count": 9,
      "outputs": [
        {
          "output_type": "execute_result",
          "data": {
            "text/plain": [
              "Gender                       object\n",
              "loan_type                    object\n",
              "loan_purpose                 object\n",
              "business_or_commercial       object\n",
              "loan_amount                   int64\n",
              "term                        float64\n",
              "interest_only                object\n",
              "property_value              float64\n",
              "occupancy_type               object\n",
              "Secured_by                   object\n",
              "income                      float64\n",
              "credit_type                  object\n",
              "Credit_Score                  int64\n",
              "co-applicant_credit_type     object\n",
              "age                          object\n",
              "LTV                         float64\n",
              "Region                       object\n",
              "Status                        int64\n",
              "dtype: object"
            ]
          },
          "metadata": {},
          "execution_count": 9
        }
      ]
    },
    {
      "cell_type": "code",
      "source": [
        "\n",
        "# df = df.astype({'term':'float', 'loan_amount':'float','property_value':'float','income':'float','Credit_Score':'float'})\n",
        "# df.dtypes"
      ],
      "metadata": {
        "id": "QdGiYY2aSWR3"
      },
      "execution_count": 10,
      "outputs": []
    },
    {
      "cell_type": "code",
      "source": [
        "# Main stats of categoric attributes:\n",
        "print(df.describe(include=[np.object]))\n",
        "\n",
        "# define categories\n",
        "cats = df.dtypes[df.dtypes=='object'].index\n",
        "cats\n",
        "\n"
      ],
      "metadata": {
        "colab": {
          "base_uri": "https://localhost:8080/"
        },
        "id": "gdhC23A8w4lX",
        "outputId": "5326fcd4-5ea8-44c9-c07d-f625b4c4ccd7"
      },
      "execution_count": 11,
      "outputs": [
        {
          "output_type": "stream",
          "name": "stderr",
          "text": [
            "/usr/local/lib/python3.7/dist-packages/ipykernel_launcher.py:2: DeprecationWarning: `np.object` is a deprecated alias for the builtin `object`. To silence this warning, use `object` by itself. Doing this will not modify any behavior and is safe. \n",
            "Deprecated in NumPy 1.20; for more details and guidance: https://numpy.org/devdocs/release/1.20.0-notes.html#deprecations\n",
            "  \n"
          ]
        },
        {
          "output_type": "stream",
          "name": "stdout",
          "text": [
            "        Gender loan_type loan_purpose business_or_commercial interest_only  \\\n",
            "count   148670    148670       148536                 148670        148670   \n",
            "unique       4         3            4                      2             2   \n",
            "top       Male     type1           p3                  nob/c       not_int   \n",
            "freq     42346    113173        55934                 127908        141560   \n",
            "\n",
            "       occupancy_type Secured_by credit_type co-applicant_credit_type     age  \\\n",
            "count          148670     148670      148670                   148670  148470   \n",
            "unique              3          2           4                        2       7   \n",
            "top                pr       home         CIB                      CIB   45-54   \n",
            "freq           138201     148637       48152                    74392   34720   \n",
            "\n",
            "        Region  \n",
            "count   148670  \n",
            "unique       4  \n",
            "top      North  \n",
            "freq     74722  \n"
          ]
        },
        {
          "output_type": "execute_result",
          "data": {
            "text/plain": [
              "Index(['Gender', 'loan_type', 'loan_purpose', 'business_or_commercial',\n",
              "       'interest_only', 'occupancy_type', 'Secured_by', 'credit_type',\n",
              "       'co-applicant_credit_type', 'age', 'Region'],\n",
              "      dtype='object')"
            ]
          },
          "metadata": {},
          "execution_count": 11
        }
      ]
    },
    {
      "cell_type": "code",
      "source": [
        "# Type of variables:\n",
        "df.dtypes.sort_values(ascending=True)\n"
      ],
      "metadata": {
        "colab": {
          "base_uri": "https://localhost:8080/"
        },
        "id": "CAetkxYXxxTL",
        "outputId": "6ed7b09a-ffa9-4487-e6de-7b1df40fcbf5"
      },
      "execution_count": 12,
      "outputs": [
        {
          "output_type": "execute_result",
          "data": {
            "text/plain": [
              "Status                        int64\n",
              "loan_amount                   int64\n",
              "Credit_Score                  int64\n",
              "LTV                         float64\n",
              "term                        float64\n",
              "property_value              float64\n",
              "income                      float64\n",
              "age                          object\n",
              "co-applicant_credit_type     object\n",
              "credit_type                  object\n",
              "Gender                       object\n",
              "Region                       object\n",
              "interest_only                object\n",
              "business_or_commercial       object\n",
              "loan_purpose                 object\n",
              "loan_type                    object\n",
              "Secured_by                   object\n",
              "occupancy_type               object\n",
              "dtype: object"
            ]
          },
          "metadata": {},
          "execution_count": 12
        }
      ]
    },
    {
      "cell_type": "code",
      "source": [
        "# correlation matrix\n",
        "\n",
        "core = df.corr()\n",
        "sns.set(rc = {'figure.figsize':(15,8)}, style=\"whitegrid\")\n",
        "sns.heatmap(\n",
        "    core, \n",
        "    xticklabels = core.columns, \n",
        "    yticklabels = core.columns,\n",
        "    annot=True,\n",
        "    linewidth=.5,\n",
        "    cmap=\"YlGnBu\"\n",
        ")\n"
      ],
      "metadata": {
        "colab": {
          "base_uri": "https://localhost:8080/",
          "height": 509
        },
        "id": "6zDPyz3vTcsA",
        "outputId": "1169b6e3-2a87-445f-d8d3-eb8b92f1ea67"
      },
      "execution_count": 13,
      "outputs": [
        {
          "output_type": "execute_result",
          "data": {
            "text/plain": [
              "<matplotlib.axes._subplots.AxesSubplot at 0x7f8c916aaa50>"
            ]
          },
          "metadata": {},
          "execution_count": 13
        },
        {
          "output_type": "display_data",
          "data": {
            "text/plain": [
              "<Figure size 1080x576 with 2 Axes>"
            ],
            "image/png": "[encoded data removed]"
          },
          "metadata": {}
        }
      ]
    },
    {
      "cell_type": "code",
      "source": [
        "# status + region\n",
        "display(df['Region'].describe())\n",
        "\n",
        "print(\"Approximately half of the loans originated in the North. Winter is coming...\")\n",
        "\n",
        "# correlation = df[\"Status\"].corr(df['Region'])\n",
        "\n",
        "# correlation \n",
        "\n",
        "# x = df[\"Region\"]\n",
        "# y = df[ \"Status\"]\n",
        "\n",
        "# xy = x.corr(y)\n",
        "# print(xy)             \n",
        "\n",
        "# yx = y.corr(x)\n",
        "# print(yx)\n",
        "\n",
        "# xys = x.corr(y, method='spearman')\n",
        "# print(xys)  # Spearman's rho\n",
        "\n",
        "# xyk = x.corr(y, method='kendall')\n",
        "# print(xyk) #Kendall's\n",
        "\n",
        "\n",
        "# plot \n",
        "fig, ax=plt.subplots(1, 2)\n",
        "plot_count=0\n",
        "plt.xlabel('Region')\n",
        "plt.ylabel('Number of loan applicants')\n",
        "for status in df['Status'].unique(): \n",
        "    df[df['Status']==status].Region.hist(ax=ax[plot_count])\n",
        "    ax[plot_count].set_title(status)\n",
        "    plot_count+=1\n",
        "    # Add x-axis label\n",
        "\n",
        "   \n"
      ],
      "metadata": {
        "colab": {
          "base_uri": "https://localhost:8080/",
          "height": 622
        },
        "id": "9MHEco4XIrHH",
        "outputId": "fe13d24e-733d-4a12-9ce3-aaca97f1d4c1"
      },
      "execution_count": 14,
      "outputs": [
        {
          "output_type": "display_data",
          "data": {
            "text/plain": [
              "count     148670\n",
              "unique         4\n",
              "top        North\n",
              "freq       74722\n",
              "Name: Region, dtype: object"
            ]
          },
          "metadata": {}
        },
        {
          "output_type": "stream",
          "name": "stdout",
          "text": [
            "Approximately half of the loans originated in the North. Winter is coming...\n"
          ]
        },
        {
          "output_type": "display_data",
          "data": {
            "text/plain": [
              "<Figure size 1080x576 with 2 Axes>"
            ],
            "image/png": "[encoded data removed]"
          },
          "metadata": {}
        }
      ]
    },
    {
      "cell_type": "code",
      "source": [
        "# status + gender\n",
        "display(df['Gender'].describe())\n",
        "\n",
        "print(\"Males are more likely to default on their loans and married couples are most likely not to default\")\n",
        "\n",
        "# correlation = df[\"Status\"].corr(df['Region'])\n",
        "\n",
        "# correlation \n",
        "\n",
        "# plot \n",
        "fig, ax=plt.subplots(1, 2)\n",
        "plt.xlabel('Gender')\n",
        "plt.ylabel('Number of loan applicants')\n",
        "plot_count=0\n",
        "for status in df['Status'].unique(): \n",
        "    df[df['Status']==status].Gender.hist(ax=ax[plot_count])\n",
        "    ax[plot_count].set_title(status)\n",
        "    plot_count+=1"
      ],
      "metadata": {
        "colab": {
          "base_uri": "https://localhost:8080/",
          "height": 622
        },
        "id": "-zKy_waLPB43",
        "outputId": "ca2efdac-2497-4703-d1ba-3c39c4ae6700"
      },
      "execution_count": 15,
      "outputs": [
        {
          "output_type": "display_data",
          "data": {
            "text/plain": [
              "count     148670\n",
              "unique         4\n",
              "top         Male\n",
              "freq       42346\n",
              "Name: Gender, dtype: object"
            ]
          },
          "metadata": {}
        },
        {
          "output_type": "stream",
          "name": "stdout",
          "text": [
            "Males are more likely to default on their loans and married couples are most likely not to default\n"
          ]
        },
        {
          "output_type": "display_data",
          "data": {
            "text/plain": [
              "<Figure size 1080x576 with 2 Axes>"
            ],
            "image/png": "[encoded data removed]"
          },
          "metadata": {}
        }
      ]
    },
    {
      "cell_type": "code",
      "source": [
        "# groupby different cats to see\n",
        "df.groupby(['Status', 'Gender','loan_amount']).mean()"
      ],
      "metadata": {
        "colab": {
          "base_uri": "https://localhost:8080/",
          "height": 454
        },
        "id": "oTcXvJet7fHC",
        "outputId": "380449ea-36e3-49e0-d11b-3db6d71efd6c"
      },
      "execution_count": 16,
      "outputs": [
        {
          "output_type": "execute_result",
          "data": {
            "text/plain": [
              "                                            term  property_value  \\\n",
              "Status Gender            loan_amount                               \n",
              "0      Female            26500        360.000000    9.800000e+04   \n",
              "                         36500        328.235294    1.380000e+05   \n",
              "                         46500        327.272727    1.139091e+05   \n",
              "                         56500        335.917808    1.914932e+05   \n",
              "                         66500        317.872340    1.423972e+05   \n",
              "...                                          ...             ...   \n",
              "1      Sex Not Available 2406500      360.000000    3.008000e+06   \n",
              "                         2596500      360.000000             NaN   \n",
              "                         2606500      360.000000    4.608000e+06   \n",
              "                         3006500      360.000000    3.508000e+06   \n",
              "                         3346500      360.000000             NaN   \n",
              "\n",
              "                                            income  Credit_Score        LTV  \n",
              "Status Gender            loan_amount                                         \n",
              "0      Female            26500         1720.000000    703.000000  47.899979  \n",
              "                         36500         1722.352941    682.352941  43.663327  \n",
              "                         46500         2010.000000    697.318182  67.028490  \n",
              "                         56500         2362.191781    703.328767  51.490940  \n",
              "                         66500         2275.714286    699.248227  62.964384  \n",
              "...                                            ...           ...        ...  \n",
              "1      Sex Not Available 2406500      27840.000000    710.000000  80.003324  \n",
              "                         2596500      13080.000000    803.000000        NaN  \n",
              "                         2606500      23820.000000    526.000000  56.564670  \n",
              "                         3006500      78660.000000    642.500000  85.704105  \n",
              "                         3346500      33840.000000    538.000000        NaN  \n",
              "\n",
              "[1149 rows x 5 columns]"
            ],
            "text/html": [
              "\n",
              "  <div id=\"df-f5ee25a1-64da-4a50-97ba-aff80091e211\">\n",
              "    <div class=\"colab-df-container\">\n",
              "      <div>\n",
              "<style scoped>\n",
              "    .dataframe tbody tr th:only-of-type {\n",
              "        vertical-align: middle;\n",
              "    }\n",
              "\n",
              "    .dataframe tbody tr th {\n",
              "        vertical-align: top;\n",
              "    }\n",
              "\n",
              "    .dataframe thead th {\n",
              "        text-align: right;\n",
              "    }\n",
              "</style>\n",
              "<table border=\"1\" class=\"dataframe\">\n",
              "  <thead>\n",
              "    <tr style=\"text-align: right;\">\n",
              "      <th></th>\n",
              "      <th></th>\n",
              "      <th></th>\n",
              "      <th>term</th>\n",
              "      <th>property_value</th>\n",
              "      <th>income</th>\n",
              "      <th>Credit_Score</th>\n",
              "      <th>LTV</th>\n",
              "    </tr>\n",
              "    <tr>\n",
              "      <th>Status</th>\n",
              "      <th>Gender</th>\n",
              "      <th>loan_amount</th>\n",
              "      <th></th>\n",
              "      <th></th>\n",
              "      <th></th>\n",
              "      <th></th>\n",
              "      <th></th>\n",
              "    </tr>\n",
              "  </thead>\n",
              "  <tbody>\n",
              "    <tr>\n",
              "      <th rowspan=\"5\" valign=\"top\">0</th>\n",
              "      <th rowspan=\"5\" valign=\"top\">Female</th>\n",
              "      <th>26500</th>\n",
              "      <td>360.000000</td>\n",
              "      <td>9.800000e+04</td>\n",
              "      <td>1720.000000</td>\n",
              "      <td>703.000000</td>\n",
              "      <td>47.899979</td>\n",
              "    </tr>\n",
              "    <tr>\n",
              "      <th>36500</th>\n",
              "      <td>328.235294</td>\n",
              "      <td>1.380000e+05</td>\n",
              "      <td>1722.352941</td>\n",
              "      <td>682.352941</td>\n",
              "      <td>43.663327</td>\n",
              "    </tr>\n",
              "    <tr>\n",
              "      <th>46500</th>\n",
              "      <td>327.272727</td>\n",
              "      <td>1.139091e+05</td>\n",
              "      <td>2010.000000</td>\n",
              "      <td>697.318182</td>\n",
              "      <td>67.028490</td>\n",
              "    </tr>\n",
              "    <tr>\n",
              "      <th>56500</th>\n",
              "      <td>335.917808</td>\n",
              "      <td>1.914932e+05</td>\n",
              "      <td>2362.191781</td>\n",
              "      <td>703.328767</td>\n",
              "      <td>51.490940</td>\n",
              "    </tr>\n",
              "    <tr>\n",
              "      <th>66500</th>\n",
              "      <td>317.872340</td>\n",
              "      <td>1.423972e+05</td>\n",
              "      <td>2275.714286</td>\n",
              "      <td>699.248227</td>\n",
              "      <td>62.964384</td>\n",
              "    </tr>\n",
              "    <tr>\n",
              "      <th>...</th>\n",
              "      <th>...</th>\n",
              "      <th>...</th>\n",
              "      <td>...</td>\n",
              "      <td>...</td>\n",
              "      <td>...</td>\n",
              "      <td>...</td>\n",
              "      <td>...</td>\n",
              "    </tr>\n",
              "    <tr>\n",
              "      <th rowspan=\"5\" valign=\"top\">1</th>\n",
              "      <th rowspan=\"5\" valign=\"top\">Sex Not Available</th>\n",
              "      <th>2406500</th>\n",
              "      <td>360.000000</td>\n",
              "      <td>3.008000e+06</td>\n",
              "      <td>27840.000000</td>\n",
              "      <td>710.000000</td>\n",
              "      <td>80.003324</td>\n",
              "    </tr>\n",
              "    <tr>\n",
              "      <th>2596500</th>\n",
              "      <td>360.000000</td>\n",
              "      <td>NaN</td>\n",
              "      <td>13080.000000</td>\n",
              "      <td>803.000000</td>\n",
              "      <td>NaN</td>\n",
              "    </tr>\n",
              "    <tr>\n",
              "      <th>2606500</th>\n",
              "      <td>360.000000</td>\n",
              "      <td>4.608000e+06</td>\n",
              "      <td>23820.000000</td>\n",
              "      <td>526.000000</td>\n",
              "      <td>56.564670</td>\n",
              "    </tr>\n",
              "    <tr>\n",
              "      <th>3006500</th>\n",
              "      <td>360.000000</td>\n",
              "      <td>3.508000e+06</td>\n",
              "      <td>78660.000000</td>\n",
              "      <td>642.500000</td>\n",
              "      <td>85.704105</td>\n",
              "    </tr>\n",
              "    <tr>\n",
              "      <th>3346500</th>\n",
              "      <td>360.000000</td>\n",
              "      <td>NaN</td>\n",
              "      <td>33840.000000</td>\n",
              "      <td>538.000000</td>\n",
              "      <td>NaN</td>\n",
              "    </tr>\n",
              "  </tbody>\n",
              "</table>\n",
              "<p>1149 rows × 5 columns</p>\n",
              "</div>\n",
              "      <button class=\"colab-df-convert\" onclick=\"convertToInteractive('df-f5ee25a1-64da-4a50-97ba-aff80091e211')\"\n",
              "              title=\"Convert this dataframe to an interactive table.\"\n",
              "              style=\"display:none;\">\n",
              "        \n",
              "  <svg xmlns=\"http://www.w3.org/2000/svg\" height=\"24px\"viewBox=\"0 0 24 24\"\n",
              "       width=\"24px\">\n",
              "    <path d=\"M0 0h24v24H0V0z\" fill=\"none\"/>\n",
              "    <path d=\"M18.56 5.44l.94 2.06.94-2.06 2.06-.94-2.06-.94-.94-2.06-.94 2.06-2.06.94zm-11 1L8.5 8.5l.94-2.06 2.06-.94-2.06-.94L8.5 2.5l-.94 2.06-2.06.94zm10 10l.94 2.06.94-2.06 2.06-.94-2.06-.94-.94-2.06-.94 2.06-2.06.94z\"/><path d=\"M17.41 7.96l-1.37-1.37c-.4-.4-.92-.59-1.43-.59-.52 0-1.04.2-1.43.59L10.3 9.45l-7.72 7.72c-.78.78-.78 2.05 0 2.83L4 21.41c.39.39.9.59 1.41.59.51 0 1.02-.2 1.41-.59l7.78-7.78 2.81-2.81c.8-.78.8-2.07 0-2.86zM5.41 20L4 18.59l7.72-7.72 1.47 1.35L5.41 20z\"/>\n",
              "  </svg>\n",
              "      </button>\n",
              "      \n",
              "  <style>\n",
              "    .colab-df-container {\n",
              "      display:flex;\n",
              "      flex-wrap:wrap;\n",
              "      gap: 12px;\n",
              "    }\n",
              "\n",
              "    .colab-df-convert {\n",
              "      background-color: #E8F0FE;\n",
              "      border: none;\n",
              "      border-radius: 50%;\n",
              "      cursor: pointer;\n",
              "      display: none;\n",
              "      fill: #1967D2;\n",
              "      height: 32px;\n",
              "      padding: 0 0 0 0;\n",
              "      width: 32px;\n",
              "    }\n",
              "\n",
              "    .colab-df-convert:hover {\n",
              "      background-color: #E2EBFA;\n",
              "      box-shadow: 0px 1px 2px rgba(60, 64, 67, 0.3), 0px 1px 3px 1px rgba(60, 64, 67, 0.15);\n",
              "      fill: #174EA6;\n",
              "    }\n",
              "\n",
              "    [theme=dark] .colab-df-convert {\n",
              "      background-color: #3B4455;\n",
              "      fill: #D2E3FC;\n",
              "    }\n",
              "\n",
              "    [theme=dark] .colab-df-convert:hover {\n",
              "      background-color: #434B5C;\n",
              "      box-shadow: 0px 1px 3px 1px rgba(0, 0, 0, 0.15);\n",
              "      filter: drop-shadow(0px 1px 2px rgba(0, 0, 0, 0.3));\n",
              "      fill: #FFFFFF;\n",
              "    }\n",
              "  </style>\n",
              "\n",
              "      <script>\n",
              "        const buttonEl =\n",
              "          document.querySelector('#df-f5ee25a1-64da-4a50-97ba-aff80091e211 button.colab-df-convert');\n",
              "        buttonEl.style.display =\n",
              "          google.colab.kernel.accessAllowed ? 'block' : 'none';\n",
              "\n",
              "        async function convertToInteractive(key) {\n",
              "          const element = document.querySelector('#df-f5ee25a1-64da-4a50-97ba-aff80091e211');\n",
              "          const dataTable =\n",
              "            await google.colab.kernel.invokeFunction('convertToInteractive',\n",
              "                                                     [key], {});\n",
              "          if (!dataTable) return;\n",
              "\n",
              "          const docLinkHtml = 'Like what you see? Visit the ' +\n",
              "            '<a target=\"_blank\" href=https://colab.research.google.com/notebooks/data_table.ipynb>data table notebook</a>'\n",
              "            + ' to learn more about interactive tables.';\n",
              "          element.innerHTML = '';\n",
              "          dataTable['output_type'] = 'display_data';\n",
              "          await google.colab.output.renderOutput(dataTable, element);\n",
              "          const docLink = document.createElement('div');\n",
              "          docLink.innerHTML = docLinkHtml;\n",
              "          element.appendChild(docLink);\n",
              "        }\n",
              "      </script>\n",
              "    </div>\n",
              "  </div>\n",
              "  "
            ]
          },
          "metadata": {},
          "execution_count": 16
        }
      ]
    },
    {
      "cell_type": "code",
      "source": [
        "# age + status\n",
        "print(df.Status.value_counts())\n",
        "print(df.age.describe())\n",
        "\n",
        "print(df['age'])\n",
        "\n",
        "# plot \n",
        "fig, ax=plt.subplots(1, 2)\n",
        "plt.xlabel('Ages of applicants')\n",
        "plt.ylabel('Number of loan applicants')\n",
        "plot_count=0\n",
        "for status in df['Status'].unique(): \n",
        "    df[df['Status']==status].age.hist(ax=ax[plot_count])\n",
        "    ax[plot_count].set_title(status)\n",
        "    plot_count+=1\n",
        "\n",
        "# replace age ranges with group #\n",
        "# age group 1 = 25-34\n",
        "# age group 2 = 35-44\n",
        "# age group 3 = 45-54\n",
        "# age group 4 = 55-64\n",
        "# age group 5 = 65-74\n",
        "\n",
        "# df['age'] = df['age'].replace(['<25','25-34','35-44','45-54','55-64','65-74','>74'],['1','2','3','4', '5','6', '7'])\n",
        "# df['age'].isnull().sum()\n",
        "# 200 NaNs in age, so I dropped \n",
        "# df['age'].dropna()\n",
        "\n",
        "\n",
        "#correlation = df[\"Status\"].corr(df['age'])\n",
        "\n",
        "# correlation \n",
        "\n",
        "\n",
        "# change type\n",
        "# df = df.astype({'Status':'float'})\n",
        "\n",
        "\n",
        "\n",
        "\n",
        "\n",
        "\n",
        "\n"
      ],
      "metadata": {
        "id": "vGqUIRzwFctf",
        "colab": {
          "base_uri": "https://localhost:8080/",
          "height": 865
        },
        "outputId": "78ceeaa7-0240-4df1-f5ff-8a795e757e89"
      },
      "execution_count": 17,
      "outputs": [
        {
          "output_type": "stream",
          "name": "stdout",
          "text": [
            "0    112031\n",
            "1     36639\n",
            "Name: Status, dtype: int64\n",
            "count     148470\n",
            "unique         7\n",
            "top        45-54\n",
            "freq       34720\n",
            "Name: age, dtype: object\n",
            "0         25-34\n",
            "1         55-64\n",
            "2         35-44\n",
            "3         45-54\n",
            "4         25-34\n",
            "          ...  \n",
            "148665    55-64\n",
            "148666    25-34\n",
            "148667    45-54\n",
            "148668    55-64\n",
            "148669    45-54\n",
            "Name: age, Length: 148670, dtype: object\n"
          ]
        },
        {
          "output_type": "display_data",
          "data": {
            "text/plain": [
              "<Figure size 1080x576 with 2 Axes>"
            ],
            "image/png": "[encoded data removed]"
          },
          "metadata": {}
        }
      ]
    },
    {
      "cell_type": "code",
      "source": [
        "# groupby different cats to see\n",
        "df.groupby(['age', 'loan_type','Region']).mean().round(1)"
      ],
      "metadata": {
        "colab": {
          "base_uri": "https://localhost:8080/",
          "height": 454
        },
        "id": "zppm0pbu744U",
        "outputId": "dd5f2c4b-4b46-4fe0-81df-4eef3e26b400"
      },
      "execution_count": 18,
      "outputs": [
        {
          "output_type": "execute_result",
          "data": {
            "text/plain": [
              "                            loan_amount   term  property_value  income  \\\n",
              "age   loan_type Region                                                   \n",
              "25-34 type1     North          364922.2  349.2        463033.4  6915.8   \n",
              "                North-East     315488.8  343.0        382050.6  5340.0   \n",
              "                central        398776.3  351.7        505206.9  7654.9   \n",
              "                south          384418.9  343.5        515187.7  7132.8   \n",
              "      type2     North          278772.5  356.0        305699.0  4539.2   \n",
              "...                                 ...    ...             ...     ...   \n",
              ">74   type2     south          160190.5  341.0        241271.9  2596.7   \n",
              "      type3     North          277428.0  349.2        371846.2  3537.2   \n",
              "                North-East     297088.2  356.5        364666.7  8286.0   \n",
              "                central        323101.9  347.7        399931.8  3999.2   \n",
              "                south          267508.1  349.5        362362.9  3662.2   \n",
              "\n",
              "                            Credit_Score   LTV  Status  \n",
              "age   loan_type Region                                  \n",
              "25-34 type1     North              702.1  81.2     0.2  \n",
              "                North-East         676.2  82.8     0.2  \n",
              "                central            699.4  81.6     0.2  \n",
              "                south              701.6  77.6     0.2  \n",
              "      type2     North              696.7  91.9     0.3  \n",
              "...                                  ...   ...     ...  \n",
              ">74   type2     south              701.7  71.0     0.4  \n",
              "      type3     North              692.9  80.0     0.3  \n",
              "                North-East         679.4  82.7     0.5  \n",
              "                central            712.4  83.7     0.4  \n",
              "                south              702.4  79.2     0.3  \n",
              "\n",
              "[83 rows x 7 columns]"
            ],
            "text/html": [
              "\n",
              "  <div id=\"df-fe210e23-7961-4851-a959-9c5417e62c1c\">\n",
              "    <div class=\"colab-df-container\">\n",
              "      <div>\n",
              "<style scoped>\n",
              "    .dataframe tbody tr th:only-of-type {\n",
              "        vertical-align: middle;\n",
              "    }\n",
              "\n",
              "    .dataframe tbody tr th {\n",
              "        vertical-align: top;\n",
              "    }\n",
              "\n",
              "    .dataframe thead th {\n",
              "        text-align: right;\n",
              "    }\n",
              "</style>\n",
              "<table border=\"1\" class=\"dataframe\">\n",
              "  <thead>\n",
              "    <tr style=\"text-align: right;\">\n",
              "      <th></th>\n",
              "      <th></th>\n",
              "      <th></th>\n",
              "      <th>loan_amount</th>\n",
              "      <th>term</th>\n",
              "      <th>property_value</th>\n",
              "      <th>income</th>\n",
              "      <th>Credit_Score</th>\n",
              "      <th>LTV</th>\n",
              "      <th>Status</th>\n",
              "    </tr>\n",
              "    <tr>\n",
              "      <th>age</th>\n",
              "      <th>loan_type</th>\n",
              "      <th>Region</th>\n",
              "      <th></th>\n",
              "      <th></th>\n",
              "      <th></th>\n",
              "      <th></th>\n",
              "      <th></th>\n",
              "      <th></th>\n",
              "      <th></th>\n",
              "    </tr>\n",
              "  </thead>\n",
              "  <tbody>\n",
              "    <tr>\n",
              "      <th rowspan=\"5\" valign=\"top\">25-34</th>\n",
              "      <th rowspan=\"4\" valign=\"top\">type1</th>\n",
              "      <th>North</th>\n",
              "      <td>364922.2</td>\n",
              "      <td>349.2</td>\n",
              "      <td>463033.4</td>\n",
              "      <td>6915.8</td>\n",
              "      <td>702.1</td>\n",
              "      <td>81.2</td>\n",
              "      <td>0.2</td>\n",
              "    </tr>\n",
              "    <tr>\n",
              "      <th>North-East</th>\n",
              "      <td>315488.8</td>\n",
              "      <td>343.0</td>\n",
              "      <td>382050.6</td>\n",
              "      <td>5340.0</td>\n",
              "      <td>676.2</td>\n",
              "      <td>82.8</td>\n",
              "      <td>0.2</td>\n",
              "    </tr>\n",
              "    <tr>\n",
              "      <th>central</th>\n",
              "      <td>398776.3</td>\n",
              "      <td>351.7</td>\n",
              "      <td>505206.9</td>\n",
              "      <td>7654.9</td>\n",
              "      <td>699.4</td>\n",
              "      <td>81.6</td>\n",
              "      <td>0.2</td>\n",
              "    </tr>\n",
              "    <tr>\n",
              "      <th>south</th>\n",
              "      <td>384418.9</td>\n",
              "      <td>343.5</td>\n",
              "      <td>515187.7</td>\n",
              "      <td>7132.8</td>\n",
              "      <td>701.6</td>\n",
              "      <td>77.6</td>\n",
              "      <td>0.2</td>\n",
              "    </tr>\n",
              "    <tr>\n",
              "      <th>type2</th>\n",
              "      <th>North</th>\n",
              "      <td>278772.5</td>\n",
              "      <td>356.0</td>\n",
              "      <td>305699.0</td>\n",
              "      <td>4539.2</td>\n",
              "      <td>696.7</td>\n",
              "      <td>91.9</td>\n",
              "      <td>0.3</td>\n",
              "    </tr>\n",
              "    <tr>\n",
              "      <th>...</th>\n",
              "      <th>...</th>\n",
              "      <th>...</th>\n",
              "      <td>...</td>\n",
              "      <td>...</td>\n",
              "      <td>...</td>\n",
              "      <td>...</td>\n",
              "      <td>...</td>\n",
              "      <td>...</td>\n",
              "      <td>...</td>\n",
              "    </tr>\n",
              "    <tr>\n",
              "      <th rowspan=\"5\" valign=\"top\">&gt;74</th>\n",
              "      <th>type2</th>\n",
              "      <th>south</th>\n",
              "      <td>160190.5</td>\n",
              "      <td>341.0</td>\n",
              "      <td>241271.9</td>\n",
              "      <td>2596.7</td>\n",
              "      <td>701.7</td>\n",
              "      <td>71.0</td>\n",
              "      <td>0.4</td>\n",
              "    </tr>\n",
              "    <tr>\n",
              "      <th rowspan=\"4\" valign=\"top\">type3</th>\n",
              "      <th>North</th>\n",
              "      <td>277428.0</td>\n",
              "      <td>349.2</td>\n",
              "      <td>371846.2</td>\n",
              "      <td>3537.2</td>\n",
              "      <td>692.9</td>\n",
              "      <td>80.0</td>\n",
              "      <td>0.3</td>\n",
              "    </tr>\n",
              "    <tr>\n",
              "      <th>North-East</th>\n",
              "      <td>297088.2</td>\n",
              "      <td>356.5</td>\n",
              "      <td>364666.7</td>\n",
              "      <td>8286.0</td>\n",
              "      <td>679.4</td>\n",
              "      <td>82.7</td>\n",
              "      <td>0.5</td>\n",
              "    </tr>\n",
              "    <tr>\n",
              "      <th>central</th>\n",
              "      <td>323101.9</td>\n",
              "      <td>347.7</td>\n",
              "      <td>399931.8</td>\n",
              "      <td>3999.2</td>\n",
              "      <td>712.4</td>\n",
              "      <td>83.7</td>\n",
              "      <td>0.4</td>\n",
              "    </tr>\n",
              "    <tr>\n",
              "      <th>south</th>\n",
              "      <td>267508.1</td>\n",
              "      <td>349.5</td>\n",
              "      <td>362362.9</td>\n",
              "      <td>3662.2</td>\n",
              "      <td>702.4</td>\n",
              "      <td>79.2</td>\n",
              "      <td>0.3</td>\n",
              "    </tr>\n",
              "  </tbody>\n",
              "</table>\n",
              "<p>83 rows × 7 columns</p>\n",
              "</div>\n",
              "      <button class=\"colab-df-convert\" onclick=\"convertToInteractive('df-fe210e23-7961-4851-a959-9c5417e62c1c')\"\n",
              "              title=\"Convert this dataframe to an interactive table.\"\n",
              "              style=\"display:none;\">\n",
              "        \n",
              "  <svg xmlns=\"http://www.w3.org/2000/svg\" height=\"24px\"viewBox=\"0 0 24 24\"\n",
              "       width=\"24px\">\n",
              "    <path d=\"M0 0h24v24H0V0z\" fill=\"none\"/>\n",
              "    <path d=\"M18.56 5.44l.94 2.06.94-2.06 2.06-.94-2.06-.94-.94-2.06-.94 2.06-2.06.94zm-11 1L8.5 8.5l.94-2.06 2.06-.94-2.06-.94L8.5 2.5l-.94 2.06-2.06.94zm10 10l.94 2.06.94-2.06 2.06-.94-2.06-.94-.94-2.06-.94 2.06-2.06.94z\"/><path d=\"M17.41 7.96l-1.37-1.37c-.4-.4-.92-.59-1.43-.59-.52 0-1.04.2-1.43.59L10.3 9.45l-7.72 7.72c-.78.78-.78 2.05 0 2.83L4 21.41c.39.39.9.59 1.41.59.51 0 1.02-.2 1.41-.59l7.78-7.78 2.81-2.81c.8-.78.8-2.07 0-2.86zM5.41 20L4 18.59l7.72-7.72 1.47 1.35L5.41 20z\"/>\n",
              "  </svg>\n",
              "      </button>\n",
              "      \n",
              "  <style>\n",
              "    .colab-df-container {\n",
              "      display:flex;\n",
              "      flex-wrap:wrap;\n",
              "      gap: 12px;\n",
              "    }\n",
              "\n",
              "    .colab-df-convert {\n",
              "      background-color: #E8F0FE;\n",
              "      border: none;\n",
              "      border-radius: 50%;\n",
              "      cursor: pointer;\n",
              "      display: none;\n",
              "      fill: #1967D2;\n",
              "      height: 32px;\n",
              "      padding: 0 0 0 0;\n",
              "      width: 32px;\n",
              "    }\n",
              "\n",
              "    .colab-df-convert:hover {\n",
              "      background-color: #E2EBFA;\n",
              "      box-shadow: 0px 1px 2px rgba(60, 64, 67, 0.3), 0px 1px 3px 1px rgba(60, 64, 67, 0.15);\n",
              "      fill: #174EA6;\n",
              "    }\n",
              "\n",
              "    [theme=dark] .colab-df-convert {\n",
              "      background-color: #3B4455;\n",
              "      fill: #D2E3FC;\n",
              "    }\n",
              "\n",
              "    [theme=dark] .colab-df-convert:hover {\n",
              "      background-color: #434B5C;\n",
              "      box-shadow: 0px 1px 3px 1px rgba(0, 0, 0, 0.15);\n",
              "      filter: drop-shadow(0px 1px 2px rgba(0, 0, 0, 0.3));\n",
              "      fill: #FFFFFF;\n",
              "    }\n",
              "  </style>\n",
              "\n",
              "      <script>\n",
              "        const buttonEl =\n",
              "          document.querySelector('#df-fe210e23-7961-4851-a959-9c5417e62c1c button.colab-df-convert');\n",
              "        buttonEl.style.display =\n",
              "          google.colab.kernel.accessAllowed ? 'block' : 'none';\n",
              "\n",
              "        async function convertToInteractive(key) {\n",
              "          const element = document.querySelector('#df-fe210e23-7961-4851-a959-9c5417e62c1c');\n",
              "          const dataTable =\n",
              "            await google.colab.kernel.invokeFunction('convertToInteractive',\n",
              "                                                     [key], {});\n",
              "          if (!dataTable) return;\n",
              "\n",
              "          const docLinkHtml = 'Like what you see? Visit the ' +\n",
              "            '<a target=\"_blank\" href=https://colab.research.google.com/notebooks/data_table.ipynb>data table notebook</a>'\n",
              "            + ' to learn more about interactive tables.';\n",
              "          element.innerHTML = '';\n",
              "          dataTable['output_type'] = 'display_data';\n",
              "          await google.colab.output.renderOutput(dataTable, element);\n",
              "          const docLink = document.createElement('div');\n",
              "          docLink.innerHTML = docLinkHtml;\n",
              "          element.appendChild(docLink);\n",
              "        }\n",
              "      </script>\n",
              "    </div>\n",
              "  </div>\n",
              "  "
            ]
          },
          "metadata": {},
          "execution_count": 18
        }
      ]
    },
    {
      "cell_type": "code",
      "source": [
        "# status + loan amount\n",
        "display(df['loan_amount'].describe().round())\n",
        "\n",
        "print(\"The max loan amount is $3576500.00 and the min loan amount is $16500.00\"  )\n",
        "\n",
        "# plot \n",
        "fig, ax=plt.subplots(1, 2)\n",
        "plt.xlabel('Loan Amount in $')\n",
        "plt.ylabel('Number of loan applicants')\n",
        "plot_count=0\n",
        "for status in df['Status'].unique(): \n",
        "    df[df['Status']==status].loan_amount.hist(ax=ax[plot_count])\n",
        "    ax[plot_count].set_title(status)\n",
        "    plot_count+=1"
      ],
      "metadata": {
        "colab": {
          "base_uri": "https://localhost:8080/",
          "height": 692
        },
        "id": "DKlO2EpiUMdk",
        "outputId": "876983ca-6508-46a3-afa4-9ca1092ac06f"
      },
      "execution_count": 19,
      "outputs": [
        {
          "output_type": "display_data",
          "data": {
            "text/plain": [
              "count     148670.0\n",
              "mean      331118.0\n",
              "std       183909.0\n",
              "min        16500.0\n",
              "25%       196500.0\n",
              "50%       296500.0\n",
              "75%       436500.0\n",
              "max      3576500.0\n",
              "Name: loan_amount, dtype: float64"
            ]
          },
          "metadata": {}
        },
        {
          "output_type": "stream",
          "name": "stdout",
          "text": [
            "The max loan amount is $3576500.00 and the min loan amount is $16500.00\n"
          ]
        },
        {
          "output_type": "display_data",
          "data": {
            "text/plain": [
              "<Figure size 1080x576 with 2 Axes>"
            ],
            "image/png": "[encoded data removed]"
          },
          "metadata": {}
        }
      ]
    },
    {
      "cell_type": "code",
      "source": [
        "# status + loan_purpose\n",
        "display(df['loan_purpose'].describe())\n",
        "\n",
        "print(\"Hard to say which ones were more likely to default\" )\n",
        "\n",
        "# plot \n",
        "fig, ax=plt.subplots(1, 2)\n",
        "plt.xlabel('Loan Purpose')\n",
        "plt.ylabel('Number of loan applicants')\n",
        "plot_count=0\n",
        "for status in df['Status'].unique(): \n",
        "    df[df['Status']==status].loan_purpose.hist(ax=ax[plot_count])\n",
        "    ax[plot_count].set_title(status)\n",
        "    plot_count+=1"
      ],
      "metadata": {
        "colab": {
          "base_uri": "https://localhost:8080/",
          "height": 622
        },
        "id": "ClKZ0tlDWDR6",
        "outputId": "35e50793-c791-4e1a-93fa-8a5342c007d7"
      },
      "execution_count": null,
      "outputs": [
        {
          "output_type": "display_data",
          "data": {
            "text/plain": [
              "count     148536\n",
              "unique         4\n",
              "top           p3\n",
              "freq       55934\n",
              "Name: loan_purpose, dtype: object"
            ]
          },
          "metadata": {}
        },
        {
          "output_type": "stream",
          "name": "stdout",
          "text": [
            "Hard to say which ones were more likely to default\n"
          ]
        },
        {
          "output_type": "display_data",
          "data": {
            "text/plain": [
              "<Figure size 1080x576 with 2 Axes>"
            ],
            "image/png": "[encoded data removed]"
          },
          "metadata": {}
        }
      ]
    },
    {
      "cell_type": "code",
      "source": [
        " # status + business_or_commercial\n",
        "display(df['business_or_commercial'].describe())\n",
        "\n",
        "print(\"The most common type of loan is the nob/c loan\" )\n",
        "\n",
        "# plot \n",
        "fig, ax=plt.subplots(1, 2)\n",
        "plt.xlabel('Business or Commercial')\n",
        "plt.ylabel('Number of loan applicants')\n",
        "plot_count=0\n",
        "for status in df['Status'].unique(): \n",
        "    df[df['Status']==status].business_or_commercial.hist(ax=ax[plot_count])\n",
        "    ax[plot_count].set_title(status)\n",
        "    plot_count+=1"
      ],
      "metadata": {
        "colab": {
          "base_uri": "https://localhost:8080/",
          "height": 622
        },
        "id": "eQbXpzLZWkav",
        "outputId": "59274681-4fff-4be3-c363-d8de376231d7"
      },
      "execution_count": null,
      "outputs": [
        {
          "output_type": "display_data",
          "data": {
            "text/plain": [
              "count     148670\n",
              "unique         2\n",
              "top        nob/c\n",
              "freq      127908\n",
              "Name: business_or_commercial, dtype: object"
            ]
          },
          "metadata": {}
        },
        {
          "output_type": "stream",
          "name": "stdout",
          "text": [
            "The most common type of loan is the nob/c loan\n"
          ]
        },
        {
          "output_type": "display_data",
          "data": {
            "text/plain": [
              "<Figure size 1080x576 with 2 Axes>"
            ],
            "image/png": "[encoded data removed]"
          },
          "metadata": {}
        }
      ]
    },
    {
      "cell_type": "code",
      "source": [
        "# status + term\n",
        "display(df['term'].describe())\n",
        "\n",
        "print(\"The average term of a loan is 335.2 days. The min is 96 days and the max is 360 days.\" )\n",
        "\n",
        "# plot \n",
        "fig, ax=plt.subplots(1, 2)\n",
        "plt.xlabel('Term (in days)')\n",
        "plt.ylabel('Number of loan applicants')\n",
        "plot_count=0\n",
        "for status in df['Status'].unique(): \n",
        "    df[df['Status']==status].term.hist(ax=ax[plot_count])\n",
        "    ax[plot_count].set_title(status)\n",
        "    plot_count+=1"
      ],
      "metadata": {
        "colab": {
          "base_uri": "https://localhost:8080/",
          "height": 692
        },
        "id": "ythAYRNKYJRL",
        "outputId": "07d50643-9f44-41c2-9c0f-1b1b334744fe"
      },
      "execution_count": null,
      "outputs": [
        {
          "output_type": "display_data",
          "data": {
            "text/plain": [
              "count    148629.000000\n",
              "mean        335.136582\n",
              "std          58.409084\n",
              "min          96.000000\n",
              "25%         360.000000\n",
              "50%         360.000000\n",
              "75%         360.000000\n",
              "max         360.000000\n",
              "Name: term, dtype: float64"
            ]
          },
          "metadata": {}
        },
        {
          "output_type": "stream",
          "name": "stdout",
          "text": [
            "The average term of a loan is 335.2 days. The min is 96 days and the max is 360 days.\n"
          ]
        },
        {
          "output_type": "display_data",
          "data": {
            "text/plain": [
              "<Figure size 1080x576 with 2 Axes>"
            ],
            "image/png": "[encoded data removed]"
          },
          "metadata": {}
        }
      ]
    },
    {
      "cell_type": "code",
      "source": [
        "# status + interest_only\n",
        "display(df['interest_only'].describe())\n",
        "\n",
        "# print(\"The average term of a loan is 335.2 days. The min is 96 days and the max is 360 days.\" )\n",
        "\n",
        "# plot \n",
        "fig, ax=plt.subplots(1, 2)\n",
        "plt.xlabel('Interest Only')\n",
        "plt.ylabel('Number of loan applicants')\n",
        "plot_count=0\n",
        "for status in df['Status'].unique(): \n",
        "    df[df['Status']==status].interest_only.hist(ax=ax[plot_count])\n",
        "    ax[plot_count].set_title(status)\n",
        "    plot_count+=1"
      ],
      "metadata": {
        "colab": {
          "base_uri": "https://localhost:8080/",
          "height": 606
        },
        "id": "e5nRHNaEYh6g",
        "outputId": "f1e7fcd5-778b-40aa-96c0-2bc91a26eb0f"
      },
      "execution_count": null,
      "outputs": [
        {
          "output_type": "display_data",
          "data": {
            "text/plain": [
              "count      148670\n",
              "unique          2\n",
              "top       not_int\n",
              "freq       141560\n",
              "Name: interest_only, dtype: object"
            ]
          },
          "metadata": {}
        },
        {
          "output_type": "display_data",
          "data": {
            "text/plain": [
              "<Figure size 1080x576 with 2 Axes>"
            ],
            "image/png": "[encoded data removed]"
          },
          "metadata": {}
        }
      ]
    },
    {
      "cell_type": "code",
      "source": [
        "# status + property_value\n",
        "display(df['property_value'].describe().round())\n",
        "\n",
        "print(\"The average property value of the customer is $497,893.00\" )\n",
        "\n",
        "# plot \n",
        "fig, ax=plt.subplots(1, 2)\n",
        "plt.xlabel('Property Value')\n",
        "plt.ylabel('Number of loan applicants')\n",
        "plot_count=0\n",
        "for status in df['Status'].unique(): \n",
        "    df[df['Status']==status].property_value.hist(ax=ax[plot_count])\n",
        "    ax[plot_count].set_title(status)\n",
        "    plot_count+=1"
      ],
      "metadata": {
        "colab": {
          "base_uri": "https://localhost:8080/",
          "height": 692
        },
        "id": "iYWnD1AxnZL7",
        "outputId": "4abe0a02-e1a9-4aa3-9748-ea967a84b2bc"
      },
      "execution_count": null,
      "outputs": [
        {
          "output_type": "display_data",
          "data": {
            "text/plain": [
              "count      133572.0\n",
              "mean       497893.0\n",
              "std        359935.0\n",
              "min          8000.0\n",
              "25%        268000.0\n",
              "50%        418000.0\n",
              "75%        628000.0\n",
              "max      16508000.0\n",
              "Name: property_value, dtype: float64"
            ]
          },
          "metadata": {}
        },
        {
          "output_type": "stream",
          "name": "stdout",
          "text": [
            "The average property value of the customer is $497,893.00\n"
          ]
        },
        {
          "output_type": "display_data",
          "data": {
            "text/plain": [
              "<Figure size 1080x576 with 2 Axes>"
            ],
            "image/png": "[encoded data removed]"
          },
          "metadata": {}
        }
      ]
    },
    {
      "cell_type": "code",
      "source": [
        "# status + occupancy_type\n",
        "display(df['occupancy_type'].describe())\n",
        "\n",
        "print(\"The most common occupancy type is pr\" )\n",
        "\n",
        "# plot \n",
        "fig, ax=plt.subplots(1, 2)\n",
        "plot_count=0\n",
        "for status in df['Status'].unique(): \n",
        "    df[df['Status']==status].occupancy_type.hist(ax=ax[plot_count])\n",
        "    ax[plot_count].set_title(status)\n",
        "    plot_count+=1"
      ],
      "metadata": {
        "colab": {
          "base_uri": "https://localhost:8080/",
          "height": 386
        },
        "id": "nrwdNipioNgn",
        "outputId": "79568841-6332-4705-ce27-7ab0ff7d3951"
      },
      "execution_count": null,
      "outputs": [
        {
          "output_type": "display_data",
          "data": {
            "text/plain": [
              "count     148670\n",
              "unique         3\n",
              "top           pr\n",
              "freq      138201\n",
              "Name: occupancy_type, dtype: object"
            ]
          },
          "metadata": {}
        },
        {
          "output_type": "stream",
          "name": "stdout",
          "text": [
            "The most common occupancy type is pr\n"
          ]
        },
        {
          "output_type": "display_data",
          "data": {
            "text/plain": [
              "<Figure size 432x288 with 2 Axes>"
            ],
            "image/png": "[encoded data removed]"
          },
          "metadata": {
            "needs_background": "light"
          }
        }
      ]
    },
    {
      "cell_type": "code",
      "source": [
        "# status + Secured_by\n",
        "display(df['Secured_by'].describe())\n",
        "display(df['Secured_by'].isnull().sum())\n",
        "\n",
        "print(\"The most way people secure a loan is by using their house as collateral.\" )\n",
        "\n",
        "# plot \n",
        "fig, ax=plt.subplots(1, 2)\n",
        "plot_count=0\n",
        "for status in df['Status'].unique(): \n",
        "    df[df['Status']==status].Secured_by.hist(ax=ax[plot_count])\n",
        "    ax[plot_count].set_title(status)\n",
        "    plot_count+=1"
      ],
      "metadata": {
        "colab": {
          "base_uri": "https://localhost:8080/",
          "height": 403
        },
        "id": "WRt_OUN4of6J",
        "outputId": "d7490c49-6c46-43dd-a3b3-0dd69c17da9b"
      },
      "execution_count": null,
      "outputs": [
        {
          "output_type": "display_data",
          "data": {
            "text/plain": [
              "count     148670\n",
              "unique         2\n",
              "top         home\n",
              "freq      148637\n",
              "Name: Secured_by, dtype: object"
            ]
          },
          "metadata": {}
        },
        {
          "output_type": "display_data",
          "data": {
            "text/plain": [
              "0"
            ]
          },
          "metadata": {}
        },
        {
          "output_type": "stream",
          "name": "stdout",
          "text": [
            "The most way people secure a loan is by using their house as collateral.\n"
          ]
        },
        {
          "output_type": "display_data",
          "data": {
            "text/plain": [
              "<Figure size 432x288 with 2 Axes>"
            ],
            "image/png": "[encoded data removed]"
          },
          "metadata": {
            "needs_background": "light"
          }
        }
      ]
    },
    {
      "cell_type": "code",
      "source": [
        "# status + income\n",
        "display(df['income'].describe())\n",
        "display(df['income'].isnull().sum())\n",
        "\n",
        "print(\"The average monthly income of the person requesting the loan is $6957.33.\" )\n",
        "\n",
        "# plot \n",
        "fig, ax=plt.subplots(1, 2)\n",
        "plot_count=0\n",
        "for status in df['Status'].unique(): \n",
        "    df[df['Status']==status].income.hist(ax=ax[plot_count])\n",
        "    ax[plot_count].set_title(status)\n",
        "    plot_count+=1"
      ],
      "metadata": {
        "colab": {
          "base_uri": "https://localhost:8080/",
          "height": 471
        },
        "id": "U_jYNau1o-qr",
        "outputId": "3dabb90c-ca9f-490c-8291-4e9cf6c7855d"
      },
      "execution_count": null,
      "outputs": [
        {
          "output_type": "display_data",
          "data": {
            "text/plain": [
              "count    139520.000000\n",
              "mean       6957.338876\n",
              "std        6496.586382\n",
              "min           0.000000\n",
              "25%        3720.000000\n",
              "50%        5760.000000\n",
              "75%        8520.000000\n",
              "max      578580.000000\n",
              "Name: income, dtype: float64"
            ]
          },
          "metadata": {}
        },
        {
          "output_type": "display_data",
          "data": {
            "text/plain": [
              "9150"
            ]
          },
          "metadata": {}
        },
        {
          "output_type": "stream",
          "name": "stdout",
          "text": [
            "The average monthly income of the person requesting the loan is $6957.33.\n"
          ]
        },
        {
          "output_type": "display_data",
          "data": {
            "text/plain": [
              "<Figure size 432x288 with 2 Axes>"
            ],
            "image/png": "[encoded data removed]"
          },
          "metadata": {
            "needs_background": "light"
          }
        }
      ]
    },
    {
      "cell_type": "markdown",
      "source": [
        ""
      ],
      "metadata": {
        "id": "P0G3RbqLYG-B"
      }
    },
    {
      "cell_type": "code",
      "source": [
        "\n",
        "# status + credit_type\n",
        "display(df['credit_type'].describe())\n",
        "display(df['credit_type'].isnull().sum())\n",
        "\n",
        "print(\"The most common credit_type is CIB.\" )\n",
        "\n",
        "# plot \n",
        "fig, ax=plt.subplots(1, 2)\n",
        "plot_count=0\n",
        "for status in df['Status'].unique(): \n",
        "    df[df['Status']==status].credit_type.hist(ax=ax[plot_count])\n",
        "    ax[plot_count].set_title(status)\n",
        "    plot_count+=1"
      ],
      "metadata": {
        "colab": {
          "base_uri": "https://localhost:8080/",
          "height": 403
        },
        "id": "6bMnmwnSpq4Y",
        "outputId": "fd819b17-d606-4753-c622-e0f5ad791f0c"
      },
      "execution_count": null,
      "outputs": [
        {
          "output_type": "display_data",
          "data": {
            "text/plain": [
              "count     148670\n",
              "unique         4\n",
              "top          CIB\n",
              "freq       48152\n",
              "Name: credit_type, dtype: object"
            ]
          },
          "metadata": {}
        },
        {
          "output_type": "display_data",
          "data": {
            "text/plain": [
              "0"
            ]
          },
          "metadata": {}
        },
        {
          "output_type": "stream",
          "name": "stdout",
          "text": [
            "The most common credit_type is CIB.\n"
          ]
        },
        {
          "output_type": "display_data",
          "data": {
            "text/plain": [
              "<Figure size 432x288 with 2 Axes>"
            ],
            "image/png": "[encoded data removed]"
          },
          "metadata": {
            "needs_background": "light"
          }
        }
      ]
    },
    {
      "cell_type": "code",
      "source": [
        "\n",
        "# status + Credit_Score\n",
        "display(df['Credit_Score'].describe().round())\n",
        "display(df['Credit_Score'].isnull().sum())\n",
        "\n",
        "print(\"The average Credit Score among applicants is 700.\" )\n",
        "\n",
        "# plot \n",
        "fig, ax=plt.subplots(1, 2)\n",
        "plot_count=0\n",
        "for status in df['Status'].unique(): \n",
        "    df[df['Status']==status].Credit_Score.hist(ax=ax[plot_count])\n",
        "    ax[plot_count].set_title(status)\n",
        "    plot_count+=1"
      ],
      "metadata": {
        "colab": {
          "base_uri": "https://localhost:8080/",
          "height": 471
        },
        "id": "YPAIlJDpqX_I",
        "outputId": "be7cdaea-edb6-4bef-85e2-1b69e17d531f"
      },
      "execution_count": null,
      "outputs": [
        {
          "output_type": "display_data",
          "data": {
            "text/plain": [
              "count    148670.0\n",
              "mean        700.0\n",
              "std         116.0\n",
              "min         500.0\n",
              "25%         599.0\n",
              "50%         699.0\n",
              "75%         800.0\n",
              "max         900.0\n",
              "Name: Credit_Score, dtype: float64"
            ]
          },
          "metadata": {}
        },
        {
          "output_type": "display_data",
          "data": {
            "text/plain": [
              "0"
            ]
          },
          "metadata": {}
        },
        {
          "output_type": "stream",
          "name": "stdout",
          "text": [
            "The average Credit Score among applicants is 700.\n"
          ]
        },
        {
          "output_type": "display_data",
          "data": {
            "text/plain": [
              "<Figure size 432x288 with 2 Axes>"
            ],
            "image/png": "[encoded data removed]"
          },
          "metadata": {
            "needs_background": "light"
          }
        }
      ]
    },
    {
      "cell_type": "code",
      "source": [
        "# change name of co-app credit type otherwise can't make figure out of it in the next step\n",
        "\n",
        "df.rename(columns = {'co-applicant_credit_type':'co_applicant_credit_type'}, inplace = True)"
      ],
      "metadata": {
        "id": "QnByfAF4rLMd"
      },
      "execution_count": null,
      "outputs": []
    },
    {
      "cell_type": "code",
      "source": [
        "\n",
        "\n",
        "# status + co_applicant_credit_type\n",
        "display(df['co_applicant_credit_type'].describe())\n",
        "display(df['co_applicant_credit_type'].isnull().sum())\n",
        "\n",
        "print(\"The most common co-applicant credit type among applicants is CIB.\" )\n",
        "\n",
        "# plot \n",
        "fig, ax=plt.subplots(1, 2)\n",
        "plot_count=0\n",
        "for status in df['Status'].unique(): \n",
        "    df[df['Status']==status].co_applicant_credit_type.hist(ax=ax[plot_count])\n",
        "    ax[plot_count].set_title(status)\n",
        "    plot_count+=1"
      ],
      "metadata": {
        "colab": {
          "base_uri": "https://localhost:8080/",
          "height": 403
        },
        "id": "MlQevVGqqvbL",
        "outputId": "2ea6e401-7f90-4f3a-a690-44df07c9d69e"
      },
      "execution_count": null,
      "outputs": [
        {
          "output_type": "display_data",
          "data": {
            "text/plain": [
              "count     148670\n",
              "unique         2\n",
              "top          CIB\n",
              "freq       74392\n",
              "Name: co_applicant_credit_type, dtype: object"
            ]
          },
          "metadata": {}
        },
        {
          "output_type": "display_data",
          "data": {
            "text/plain": [
              "0"
            ]
          },
          "metadata": {}
        },
        {
          "output_type": "stream",
          "name": "stdout",
          "text": [
            "The most common co-applicant credit type among applicants is CIB.\n"
          ]
        },
        {
          "output_type": "display_data",
          "data": {
            "text/plain": [
              "<Figure size 432x288 with 2 Axes>"
            ],
            "image/png": "[encoded data removed]"
          },
          "metadata": {
            "needs_background": "light"
          }
        }
      ]
    },
    {
      "cell_type": "code",
      "source": [
        "# Type of variables:\n",
        "print( df.dtypes.sort_values(ascending=True))\n",
        "\n",
        "\n",
        "x = df[\"loan_amount\"]\n",
        "y = df[ \"Credit_Score\"]\n",
        "\n",
        "xy = x.corr(y)\n",
        "print(xy)       \n",
        "\n",
        "yx = y.corr(x)\n",
        "print(yx)\n",
        "\n",
        "xys = x.corr(y, method='spearman')\n",
        "print(xys)  # Spearman's rho\n",
        "\n",
        "xyk = x.corr(y, method='kendall')\n",
        "print(xyk) #Kendall's\n",
        "\n",
        "\n",
        "\n"
      ],
      "metadata": {
        "colab": {
          "base_uri": "https://localhost:8080/"
        },
        "id": "zekGyefFrsqK",
        "outputId": "eee9f633-dff9-4890-c1a1-d3702bc09ca0"
      },
      "execution_count": null,
      "outputs": [
        {
          "output_type": "stream",
          "name": "stdout",
          "text": [
            "Status                        int64\n",
            "loan_amount                   int64\n",
            "Credit_Score                  int64\n",
            "LTV                         float64\n",
            "term                        float64\n",
            "property_value              float64\n",
            "income                      float64\n",
            "age                          object\n",
            "co-applicant_credit_type     object\n",
            "credit_type                  object\n",
            "Gender                       object\n",
            "Region                       object\n",
            "interest_only                object\n",
            "business_or_commercial       object\n",
            "loan_purpose                 object\n",
            "loan_type                    object\n",
            "Secured_by                   object\n",
            "occupancy_type               object\n",
            "dtype: object\n",
            "0.004438286387009901\n",
            "0.0044382863870099\n",
            "0.004612210336209023\n",
            "0.0031047984963710625\n"
          ]
        }
      ]
    },
    {
      "cell_type": "code",
      "source": [
        "x = df[\"loan_amount\"]\n",
        "y = df[ \"Status\"]\n",
        "\n",
        "xy = x.corr(y)\n",
        "print(xy)             \n",
        "\n",
        "yx = y.corr(x)\n",
        "print(yx)\n",
        "\n",
        "xys = x.corr(y, method='spearman')\n",
        "print(xys)  # Spearman's rho\n",
        "\n",
        "xyk = x.corr(y, method='kendall')\n",
        "print(xyk) #Kendall's\n",
        "\n"
      ],
      "metadata": {
        "colab": {
          "base_uri": "https://localhost:8080/"
        },
        "id": "rI4gCVWqwIrL",
        "outputId": "245573bd-7d29-4a84-943c-6d5737a0417f"
      },
      "execution_count": null,
      "outputs": [
        {
          "output_type": "stream",
          "name": "stdout",
          "text": [
            "-0.036825275544374286\n",
            "-0.03682527554437429\n",
            "-0.06884161419818988\n",
            "-0.056716892874696945\n"
          ]
        }
      ]
    },
    {
      "cell_type": "code",
      "source": [
        "\n",
        "x = df[\"Credit_Score\"]\n",
        "y = df[ \"term\"]\n",
        "\n",
        "# correlation \n",
        "\n",
        "xy = x.corr(y)\n",
        "print(xy)             \n",
        "\n",
        "yx = y.corr(x)\n",
        "print(yx)\n",
        "\n",
        "xys = x.corr(y, method='spearman')\n",
        "print(xys)  # Spearman's rho\n",
        "\n",
        "xyk = x.corr(y, method='kendall')\n",
        "print(xyk) #Kendall's\n",
        "\n"
      ],
      "metadata": {
        "id": "6w3nLV5cwk4e",
        "colab": {
          "base_uri": "https://localhost:8080/"
        },
        "outputId": "08ac50dd-563e-4040-e350-1bcd18917727"
      },
      "execution_count": null,
      "outputs": [
        {
          "output_type": "stream",
          "name": "stdout",
          "text": [
            "-0.003149300864245136\n",
            "-0.0031493008642451354\n",
            "-0.004525543399853301\n",
            "-0.00358401845583904\n"
          ]
        }
      ]
    },
    {
      "cell_type": "code",
      "source": [
        "# correlation between loan_amount and property_value\n",
        "x = df[\"property_value\"]\n",
        "y = df[ \"loan_amount\"]\n",
        "\n",
        "# correlation \n",
        "\n",
        "xy = x.corr(y)\n",
        "print(xy)             \n",
        "\n",
        "yx = y.corr(x)\n",
        "print(yx)\n",
        "\n",
        "xys = x.corr(y, method='spearman')\n",
        "print(xys)  # Spearman's rho\n",
        "\n",
        "xyk = x.corr(y, method='kendall')\n",
        "print(xyk) #Kendall's\n"
      ],
      "metadata": {
        "id": "Y2mFAoYI0HqJ",
        "colab": {
          "base_uri": "https://localhost:8080/"
        },
        "outputId": "8a238e9d-bdea-41c2-df2f-de26dd86f882"
      },
      "execution_count": null,
      "outputs": [
        {
          "output_type": "stream",
          "name": "stdout",
          "text": [
            "0.7342490169595315\n",
            "0.7342490169595314\n",
            "0.8572588082090675\n",
            "0.7047863870416955\n"
          ]
        }
      ]
    }
  ]
}